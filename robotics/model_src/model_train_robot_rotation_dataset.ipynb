{
 "cells": [
  {
   "cell_type": "markdown",
   "id": "a0314445227a3baf",
   "metadata": {},
   "source": [
    "# Load Data"
   ]
  },
  {
   "cell_type": "code",
   "id": "30e071ec36273394",
   "metadata": {
    "ExecuteTime": {
     "end_time": "2025-06-23T19:32:57.965469Z",
     "start_time": "2025-06-23T19:32:57.119066Z"
    }
   },
   "source": [
    "import numpy as np\n",
    "import torch"
   ],
   "outputs": [],
   "execution_count": 1
  },
  {
   "cell_type": "code",
   "id": "c87935b1-8a73-42d4-85c2-cbc07b163a07",
   "metadata": {
    "ExecuteTime": {
     "end_time": "2025-06-23T19:32:57.981298Z",
     "start_time": "2025-06-23T19:32:57.979500Z"
    }
   },
   "source": [
    "# import sys, importlib.util, pathlib\n",
    "#\n",
    "# PROJECT_ROOT = pathlib.Path(\"/home/may33/projects/ml_portfolio\").resolve()\n",
    "# if PROJECT_ROOT not in sys.path:\n",
    "#     sys.path.insert(0, str(PROJECT_ROOT))\n",
    "#\n",
    "#\n",
    "# print(\"Top-level path  :\", sys.path[0])\n",
    "# print(\"robotics found  :\", importlib.util.find_spec(\"robotics\") is not None)\n",
    "# print(\"BeautifulSoup   :\", importlib.util.find_spec(\"bs4\"))\n",
    "# print(\"Notebook dir    :\", pathlib.Path().resolve())"
   ],
   "outputs": [],
   "execution_count": 2
  },
  {
   "cell_type": "code",
   "id": "c62ccd11679045ea",
   "metadata": {
    "ExecuteTime": {
     "end_time": "2025-06-23T19:32:58.049124Z",
     "start_time": "2025-06-23T19:32:58.024680Z"
    }
   },
   "source": [
    "%load_ext autoreload\n",
    "%autoreload 2"
   ],
   "outputs": [],
   "execution_count": 3
  },
  {
   "metadata": {
    "ExecuteTime": {
     "end_time": "2025-06-23T19:32:58.499873Z",
     "start_time": "2025-06-23T19:32:58.481192Z"
    }
   },
   "cell_type": "code",
   "source": [
    "import h5py\n",
    "\n",
    "data_path = \"../robomimic/datasets/tool_hang/ph/image_agent.hdf5\"\n",
    "\n",
    "f = h5py.File(data_path, \"r\")\n",
    "\n",
    "data = f[\"data\"]"
   ],
   "id": "3dba3aed726029ba",
   "outputs": [],
   "execution_count": 4
  },
  {
   "metadata": {
    "ExecuteTime": {
     "end_time": "2025-06-23T19:39:52.879144Z",
     "start_time": "2025-06-23T19:39:52.859993Z"
    }
   },
   "cell_type": "code",
   "source": [
    "demo = data[\"demo_2\"]\n",
    "\n",
    "obs = demo[\"obs\"][\"agentview_image_normalized\"][0]"
   ],
   "id": "f5d3100c63edf9fa",
   "outputs": [],
   "execution_count": 22
  },
  {
   "metadata": {
    "ExecuteTime": {
     "end_time": "2025-06-23T19:32:59.436404Z",
     "start_time": "2025-06-23T19:32:59.425433Z"
    }
   },
   "cell_type": "code",
   "source": [
    "# from robotics.model_src.dataset import normalize_data\n",
    "# from tqdm import tqdm\n",
    "#\n",
    "# with h5py.File(data_path, \"r+\") as f:\n",
    "#\n",
    "#     data = f[\"data\"]\n",
    "#\n",
    "#     for demo_name in tqdm(data.keys()):\n",
    "#         demo = data[demo_name]\n",
    "#         obs_data = demo[\"obs\"][\"agentview_image\"][:]\n",
    "#\n",
    "#         normalized = normalize_data(obs_data, 255)\n",
    "#\n",
    "#         # del demo[\"obs\"][\"agentview_image_normalized\"]\n",
    "#         demo[\"obs\"][\"agentview_image_normalized\"] = normalized"
   ],
   "id": "9bd0bdc773467049",
   "outputs": [],
   "execution_count": 5
  },
  {
   "metadata": {
    "ExecuteTime": {
     "end_time": "2025-06-23T19:32:59.976295Z",
     "start_time": "2025-06-23T19:32:59.969579Z"
    }
   },
   "cell_type": "code",
   "source": [
    "data_keys = list(data.keys())\n",
    "\n",
    "ds_1_demos, ds_2_demos = data_keys[:99], data_keys[100:]"
   ],
   "id": "5d2ace37bf5c532e",
   "outputs": [],
   "execution_count": 6
  },
  {
   "metadata": {
    "ExecuteTime": {
     "end_time": "2025-06-23T19:43:51.906664Z",
     "start_time": "2025-06-23T19:43:18.578199Z"
    }
   },
   "cell_type": "code",
   "source": [
    "from robotics.model_src.dataset import RobosuiteImageActionDataset, normalize_data\n",
    "\n",
    "camera_type = \"agentview\"\n",
    "\n",
    "pred_horizon = 8\n",
    "obs_horizon = 1\n",
    "\n",
    "ds_1 = RobosuiteImageActionDataset(data_path, camera_type, obs_horizon = obs_horizon, pred_horizon = pred_horizon, demos= ds_1_demos)\n",
    "ds_1.drop_data()\n",
    "ds_2 = RobosuiteImageActionDataset(data_path, camera_type, obs_horizon = obs_horizon, pred_horizon = pred_horizon, demos= ds_2_demos)"
   ],
   "id": "c9de2c082f28b87a",
   "outputs": [
    {
     "name": "stderr",
     "output_type": "stream",
     "text": [
      "100%|██████████| 99/99 [00:00<00:00, 4524.60it/s]\n",
      "59it [00:32,  1.79it/s]\n"
     ]
    },
    {
     "ename": "KeyboardInterrupt",
     "evalue": "",
     "output_type": "error",
     "traceback": [
      "\u001B[31m---------------------------------------------------------------------------\u001B[39m",
      "\u001B[31mKeyboardInterrupt\u001B[39m                         Traceback (most recent call last)",
      "\u001B[36mCell\u001B[39m\u001B[36m \u001B[39m\u001B[32mIn[31]\u001B[39m\u001B[32m, line 8\u001B[39m\n\u001B[32m      5\u001B[39m pred_horizon = \u001B[32m8\u001B[39m\n\u001B[32m      6\u001B[39m obs_horizon = \u001B[32m1\u001B[39m\n\u001B[32m----> \u001B[39m\u001B[32m8\u001B[39m ds_1 = \u001B[43mRobosuiteImageActionDataset\u001B[49m\u001B[43m(\u001B[49m\u001B[43mdata_path\u001B[49m\u001B[43m,\u001B[49m\u001B[43m \u001B[49m\u001B[43mcamera_type\u001B[49m\u001B[43m,\u001B[49m\u001B[43m \u001B[49m\u001B[43mobs_horizon\u001B[49m\u001B[43m \u001B[49m\u001B[43m=\u001B[49m\u001B[43m \u001B[49m\u001B[43mobs_horizon\u001B[49m\u001B[43m,\u001B[49m\u001B[43m \u001B[49m\u001B[43mpred_horizon\u001B[49m\u001B[43m \u001B[49m\u001B[43m=\u001B[49m\u001B[43m \u001B[49m\u001B[43mpred_horizon\u001B[49m\u001B[43m,\u001B[49m\u001B[43m \u001B[49m\u001B[43mdemos\u001B[49m\u001B[43m=\u001B[49m\u001B[43m \u001B[49m\u001B[43mds_1_demos\u001B[49m\u001B[43m)\u001B[49m\n\u001B[32m      9\u001B[39m ds_1.drop_data()\n\u001B[32m     10\u001B[39m ds_2 = RobosuiteImageActionDataset(data_path, camera_type, obs_horizon = obs_horizon, pred_horizon = pred_horizon, demos= ds_2_demos)\n",
      "\u001B[36mFile \u001B[39m\u001B[32m~/projects/ml_portfolio/robotics/model_src/dataset.py:170\u001B[39m, in \u001B[36mRobosuiteImageActionDataset.__init__\u001B[39m\u001B[34m(self, data_path, camera_type, obs_horizon, pred_horizon, image_size, demos)\u001B[39m\n\u001B[32m    167\u001B[39m \u001B[38;5;28mself\u001B[39m.episode_lens = episode_lens\n\u001B[32m    169\u001B[39m \u001B[38;5;28;01mif\u001B[39;00m camera_type:\n\u001B[32m--> \u001B[39m\u001B[32m170\u001B[39m     \u001B[38;5;28;43mself\u001B[39;49m\u001B[43m.\u001B[49m\u001B[43mload_data\u001B[49m\u001B[43m(\u001B[49m\u001B[43m)\u001B[49m\n\u001B[32m    171\u001B[39m \u001B[38;5;28;01melse\u001B[39;00m:\n\u001B[32m    172\u001B[39m     states_np = np.concatenate(states, axis=\u001B[32m0\u001B[39m)\n",
      "\u001B[36mFile \u001B[39m\u001B[32m~/projects/ml_portfolio/robotics/model_src/dataset.py:211\u001B[39m, in \u001B[36mRobosuiteImageActionDataset.load_data\u001B[39m\u001B[34m(self)\u001B[39m\n\u001B[32m    210\u001B[39m \u001B[38;5;28;01mdef\u001B[39;00m\u001B[38;5;250m \u001B[39m\u001B[34mload_data\u001B[39m(\u001B[38;5;28mself\u001B[39m):\n\u001B[32m--> \u001B[39m\u001B[32m211\u001B[39m     images_np = \u001B[38;5;28;43mself\u001B[39;49m\u001B[43m.\u001B[49m\u001B[43mload_data_fn\u001B[49m\u001B[43m(\u001B[49m\u001B[43m)\u001B[49m\n\u001B[32m    213\u001B[39m     \u001B[38;5;66;03m# self.obs_data_transformed = normalize_data(images_np, 255)\u001B[39;00m\n\u001B[32m    214\u001B[39m     \u001B[38;5;28mself\u001B[39m.obs_data_transformed = images_np\n",
      "\u001B[36mFile \u001B[39m\u001B[32m<string>:10\u001B[39m, in \u001B[36mload_data_fn\u001B[39m\u001B[34m(self)\u001B[39m\n",
      "\u001B[36mFile \u001B[39m\u001B[32m~/miniconda3/envs/diffusion/lib/python3.12/site-packages/h5py/_hl/dataset.py:1068\u001B[39m, in \u001B[36mDataset.read_direct\u001B[39m\u001B[34m(self, dest, source_sel, dest_sel)\u001B[39m\n\u001B[32m   1065\u001B[39m     dest_sel = sel.select(dest.shape, dest_sel)\n\u001B[32m   1067\u001B[39m \u001B[38;5;28;01mfor\u001B[39;00m mspace \u001B[38;5;129;01min\u001B[39;00m dest_sel.broadcast(source_sel.array_shape):\n\u001B[32m-> \u001B[39m\u001B[32m1068\u001B[39m     \u001B[38;5;28;43mself\u001B[39;49m\u001B[43m.\u001B[49m\u001B[43mid\u001B[49m\u001B[43m.\u001B[49m\u001B[43mread\u001B[49m\u001B[43m(\u001B[49m\u001B[43mmspace\u001B[49m\u001B[43m,\u001B[49m\u001B[43m \u001B[49m\u001B[43mfspace\u001B[49m\u001B[43m,\u001B[49m\u001B[43m \u001B[49m\u001B[43mdest\u001B[49m\u001B[43m,\u001B[49m\u001B[43m \u001B[49m\u001B[43mdxpl\u001B[49m\u001B[43m=\u001B[49m\u001B[38;5;28;43mself\u001B[39;49m\u001B[43m.\u001B[49m\u001B[43m_dxpl\u001B[49m\u001B[43m)\u001B[49m\n",
      "\u001B[31mKeyboardInterrupt\u001B[39m: "
     ]
    }
   ],
   "execution_count": 31
  },
  {
   "cell_type": "code",
   "id": "b4be688e4f10d7c2",
   "metadata": {
    "ExecuteTime": {
     "end_time": "2025-06-23T19:35:57.428549Z",
     "start_time": "2025-06-23T19:35:56.921734Z"
    }
   },
   "source": [
    "import torch\n",
    "\n",
    "\n",
    "val_ratio = 0.2\n",
    "n_total   = len(ds_1)\n",
    "n_val     = int(n_total * val_ratio)\n",
    "n_train   = n_total - n_val\n",
    "\n",
    "generator = torch.Generator().manual_seed(33)\n",
    "train_set_1, val_set = torch.utils.data.random_split(\n",
    "        ds_1, [n_train, n_val], generator=generator)\n",
    "\n",
    "\n",
    "\n",
    "train_loader_1 = torch.utils.data.DataLoader(\n",
    "    train_set_1, batch_size=224, shuffle=True,\n",
    "    num_workers=4, pin_memory=True, persistent_workers=True)\n",
    "\n",
    "train_loader_2 = torch.utils.data.DataLoader(\n",
    "    ds_2, batch_size=224, shuffle=True,\n",
    "    num_workers=4, pin_memory=True, persistent_workers=True)\n",
    "\n",
    "val_loader = torch.utils.data.DataLoader(\n",
    "    val_set, batch_size=224, shuffle=False,\n",
    "    num_workers=4, pin_memory=True, persistent_workers=True)\n",
    "\n",
    "\n",
    "# visualize data in batch\n",
    "batch = next(iter(train_loader_2))\n",
    "print(\"batch['image'].shape:\", batch['img_obs'].shape)\n",
    "print(\"batch['act_obs'].shape:\", batch['act_obs'].shape)\n",
    "print(\"batch['act_pred'].shape\", batch['act_pred'].shape)"
   ],
   "outputs": [
    {
     "name": "stdout",
     "output_type": "stream",
     "text": [
      "batch['image'].shape: torch.Size([224, 2, 3, 224, 224])\n",
      "batch['act_obs'].shape: torch.Size([224, 2, 7])\n",
      "batch['act_pred'].shape torch.Size([224, 8, 7])\n"
     ]
    }
   ],
   "execution_count": 8
  },
  {
   "cell_type": "code",
   "id": "6a0e7af3f0cc470f",
   "metadata": {
    "ExecuteTime": {
     "end_time": "2025-06-23T19:36:01.411029Z",
     "start_time": "2025-06-23T19:35:57.889313Z"
    }
   },
   "source": [
    "from robotics.model_src.diffusion_model import ConditionalUnet1D, ConditionalUnet1DTransformer\n",
    "from robotics.model_src.visual_encoder import CNNVisualEncoder\n",
    "\n",
    "device = torch.device(\"cuda:0\" if torch.cuda.is_available() else \"cpu\")\n",
    "\n",
    "# visual_encoder = CLIPVisualEncoder().to(device)\n",
    "\n",
    "visual_encoder = CNNVisualEncoder().to(device)\n",
    "\n",
    "vision_feature_dim = visual_encoder.get_output_shape()\n",
    "\n",
    "action_observation_dim = 7\n",
    "\n",
    "obs_dim = vision_feature_dim + action_observation_dim\n",
    "\n",
    "action_dim = 7\n",
    "\n",
    "noise_prediction_net = ConditionalUnet1DTransformer(\n",
    "    input_dim=action_dim,\n",
    "    global_cond_dim=obs_dim * obs_horizon,\n",
    ").to(device)"
   ],
   "outputs": [
    {
     "name": "stderr",
     "output_type": "stream",
     "text": [
      "/home/may33/miniconda3/envs/diffusion/lib/python3.12/site-packages/tqdm/auto.py:21: TqdmWarning: IProgress not found. Please update jupyter and ipywidgets. See https://ipywidgets.readthedocs.io/en/stable/user_install.html\n",
      "  from .autonotebook import tqdm as notebook_tqdm\n",
      "/home/may33/miniconda3/envs/diffusion/lib/python3.12/site-packages/torch/nn/modules/transformer.py:382: UserWarning: enable_nested_tensor is True, but self.use_nested_tensor is False because encoder_layer.self_attn.batch_first was not True(use batch_first for better inference performance)\n",
      "  warnings.warn(\n"
     ]
    },
    {
     "name": "stdout",
     "output_type": "stream",
     "text": [
      "number of parameters: 9.521678e+07\n"
     ]
    }
   ],
   "execution_count": 9
  },
  {
   "cell_type": "code",
   "id": "dfcf411fb96bd906",
   "metadata": {
    "ExecuteTime": {
     "end_time": "2025-06-23T19:41:04.239150Z",
     "start_time": "2025-06-23T19:40:44.568375Z"
    }
   },
   "source": [
    "image = torch.Tensor(ds_2[22][\"img_obs\"][None, :obs_horizon, :, :, :]).to(device)\n",
    "act_obs = torch.Tensor(ds_2[0][\"act_obs\"][None, :obs_horizon, :]).to(device)"
   ],
   "outputs": [
    {
     "ename": "KeyboardInterrupt",
     "evalue": "",
     "output_type": "error",
     "traceback": [
      "\u001B[31m---------------------------------------------------------------------------\u001B[39m",
      "\u001B[31mKeyboardInterrupt\u001B[39m                         Traceback (most recent call last)",
      "\u001B[36mCell\u001B[39m\u001B[36m \u001B[39m\u001B[32mIn[24]\u001B[39m\u001B[32m, line 1\u001B[39m\n\u001B[32m----> \u001B[39m\u001B[32m1\u001B[39m image = torch.Tensor(\u001B[43mds_2\u001B[49m\u001B[43m[\u001B[49m\u001B[32;43m22\u001B[39;49m\u001B[43m]\u001B[49m[\u001B[33m\"\u001B[39m\u001B[33mimg_obs\u001B[39m\u001B[33m\"\u001B[39m][\u001B[38;5;28;01mNone\u001B[39;00m, :obs_horizon, :, :, :]).to(device)\n\u001B[32m      2\u001B[39m act_obs = torch.Tensor(ds_2[\u001B[32m0\u001B[39m][\u001B[33m\"\u001B[39m\u001B[33mact_obs\u001B[39m\u001B[33m\"\u001B[39m][\u001B[38;5;28;01mNone\u001B[39;00m, :obs_horizon, :]).to(device)\n",
      "\u001B[36mFile \u001B[39m\u001B[32m~/projects/ml_portfolio/robotics/model_src/dataset.py:225\u001B[39m, in \u001B[36mRobosuiteImageActionDataset.__getitem__\u001B[39m\u001B[34m(self, idx)\u001B[39m\n\u001B[32m    222\u001B[39m \u001B[38;5;28;01mdef\u001B[39;00m\u001B[38;5;250m \u001B[39m\u001B[34m__getitem__\u001B[39m(\u001B[38;5;28mself\u001B[39m, idx):\n\u001B[32m    223\u001B[39m     trajectory_idx = \u001B[38;5;28mself\u001B[39m.indexes[idx]\n\u001B[32m--> \u001B[39m\u001B[32m225\u001B[39m     img_obs  = \u001B[38;5;28;43mself\u001B[39;49m.obs_data_transformed[trajectory_idx[:\u001B[38;5;28mself\u001B[39m.obs_horizon + \u001B[32m1\u001B[39m]]\n\u001B[32m    226\u001B[39m     act_obs  = \u001B[38;5;28mself\u001B[39m.actions_data_transformed[trajectory_idx[:\u001B[38;5;28mself\u001B[39m.obs_horizon + \u001B[32m1\u001B[39m]]\n\u001B[32m    227\u001B[39m     act_pred = \u001B[38;5;28mself\u001B[39m.actions_data_transformed[trajectory_idx[\u001B[38;5;28mself\u001B[39m.obs_horizon + \u001B[32m1\u001B[39m:]]\n",
      "\u001B[36mFile \u001B[39m\u001B[32m~/.local/share/JetBrains/Toolbox/apps/pycharm-professional/plugins/python-ce/helpers/pydev/_pydevd_bundle/pydevd_frame.py:892\u001B[39m, in \u001B[36mPyDBFrame.trace_dispatch\u001B[39m\u001B[34m(self, frame, event, arg)\u001B[39m\n\u001B[32m    890\u001B[39m \u001B[38;5;28;01mif\u001B[39;00m is_line:\n\u001B[32m    891\u001B[39m     \u001B[38;5;28mself\u001B[39m.set_suspend(thread, step_cmd)\n\u001B[32m--> \u001B[39m\u001B[32m892\u001B[39m     \u001B[38;5;28;43mself\u001B[39;49m\u001B[43m.\u001B[49m\u001B[43mdo_wait_suspend\u001B[49m\u001B[43m(\u001B[49m\u001B[43mthread\u001B[49m\u001B[43m,\u001B[49m\u001B[43m \u001B[49m\u001B[43mframe\u001B[49m\u001B[43m,\u001B[49m\u001B[43m \u001B[49m\u001B[43mevent\u001B[49m\u001B[43m,\u001B[49m\u001B[43m \u001B[49m\u001B[43marg\u001B[49m\u001B[43m)\u001B[49m\n\u001B[32m    893\u001B[39m \u001B[38;5;28;01melse\u001B[39;00m:  \u001B[38;5;66;03m# return event\u001B[39;00m\n\u001B[32m    894\u001B[39m     back = frame.f_back\n",
      "\u001B[36mFile \u001B[39m\u001B[32m~/.local/share/JetBrains/Toolbox/apps/pycharm-professional/plugins/python-ce/helpers/pydev/_pydevd_bundle/pydevd_frame.py:412\u001B[39m, in \u001B[36mPyDBFrame.do_wait_suspend\u001B[39m\u001B[34m(self, *args, **kwargs)\u001B[39m\n\u001B[32m    411\u001B[39m \u001B[38;5;28;01mdef\u001B[39;00m\u001B[38;5;250m \u001B[39m\u001B[34mdo_wait_suspend\u001B[39m(\u001B[38;5;28mself\u001B[39m, *args, **kwargs):\n\u001B[32m--> \u001B[39m\u001B[32m412\u001B[39m     \u001B[38;5;28;43mself\u001B[39;49m\u001B[43m.\u001B[49m\u001B[43m_args\u001B[49m\u001B[43m[\u001B[49m\u001B[32;43m0\u001B[39;49m\u001B[43m]\u001B[49m\u001B[43m.\u001B[49m\u001B[43mdo_wait_suspend\u001B[49m\u001B[43m(\u001B[49m\u001B[43m*\u001B[49m\u001B[43margs\u001B[49m\u001B[43m,\u001B[49m\u001B[43m \u001B[49m\u001B[43m*\u001B[49m\u001B[43m*\u001B[49m\u001B[43mkwargs\u001B[49m\u001B[43m)\u001B[49m\n",
      "\u001B[36mFile \u001B[39m\u001B[32m~/.local/share/JetBrains/Toolbox/apps/pycharm-professional/plugins/python-ce/helpers/pydev/pydevd.py:1220\u001B[39m, in \u001B[36mPyDB.do_wait_suspend\u001B[39m\u001B[34m(self, thread, frame, event, arg, send_suspend_message, is_unhandled_exception)\u001B[39m\n\u001B[32m   1217\u001B[39m         from_this_thread.append(frame_id)\n\u001B[32m   1219\u001B[39m \u001B[38;5;28;01mwith\u001B[39;00m \u001B[38;5;28mself\u001B[39m._threads_suspended_single_notification.notify_thread_suspended(thread_id, stop_reason):\n\u001B[32m-> \u001B[39m\u001B[32m1220\u001B[39m     \u001B[38;5;28;43mself\u001B[39;49m\u001B[43m.\u001B[49m\u001B[43m_do_wait_suspend\u001B[49m\u001B[43m(\u001B[49m\u001B[43mthread\u001B[49m\u001B[43m,\u001B[49m\u001B[43m \u001B[49m\u001B[43mframe\u001B[49m\u001B[43m,\u001B[49m\u001B[43m \u001B[49m\u001B[43mevent\u001B[49m\u001B[43m,\u001B[49m\u001B[43m \u001B[49m\u001B[43marg\u001B[49m\u001B[43m,\u001B[49m\u001B[43m \u001B[49m\u001B[43msuspend_type\u001B[49m\u001B[43m,\u001B[49m\u001B[43m \u001B[49m\u001B[43mfrom_this_thread\u001B[49m\u001B[43m)\u001B[49m\n",
      "\u001B[36mFile \u001B[39m\u001B[32m~/.local/share/JetBrains/Toolbox/apps/pycharm-professional/plugins/python-ce/helpers/pydev/pydevd.py:1235\u001B[39m, in \u001B[36mPyDB._do_wait_suspend\u001B[39m\u001B[34m(self, thread, frame, event, arg, suspend_type, from_this_thread)\u001B[39m\n\u001B[32m   1232\u001B[39m             \u001B[38;5;28mself\u001B[39m._call_mpl_hook()\n\u001B[32m   1234\u001B[39m         \u001B[38;5;28mself\u001B[39m.process_internal_commands()\n\u001B[32m-> \u001B[39m\u001B[32m1235\u001B[39m         \u001B[43mtime\u001B[49m\u001B[43m.\u001B[49m\u001B[43msleep\u001B[49m\u001B[43m(\u001B[49m\u001B[32;43m0.01\u001B[39;49m\u001B[43m)\u001B[49m\n\u001B[32m   1237\u001B[39m \u001B[38;5;28mself\u001B[39m.cancel_async_evaluation(get_current_thread_id(thread), \u001B[38;5;28mstr\u001B[39m(\u001B[38;5;28mid\u001B[39m(frame)))\n\u001B[32m   1239\u001B[39m \u001B[38;5;66;03m# process any stepping instructions\u001B[39;00m\n",
      "\u001B[31mKeyboardInterrupt\u001B[39m: "
     ]
    }
   ],
   "execution_count": 24
  },
  {
   "cell_type": "code",
   "id": "3a28b9062ae5369e",
   "metadata": {
    "ExecuteTime": {
     "end_time": "2025-06-23T19:36:27.221328Z",
     "start_time": "2025-06-23T19:36:27.159520Z"
    }
   },
   "source": [
    "from matplotlib import pyplot as plt\n",
    "\n",
    "im = image[0,0, :, :].cpu().numpy()\n",
    "\n",
    "plt.imshow(im.transpose((1, 2, 0)))\n",
    "\n",
    "plt.show()"
   ],
   "outputs": [
    {
     "data": {
      "text/plain": [
       "<Figure size 640x480 with 1 Axes>"
      ],
      "image/png": "[encoded data removed]"
     },
     "metadata": {},
     "output_type": "display_data"
    }
   ],
   "execution_count": 13
  },
  {
   "cell_type": "code",
   "id": "404c3b9fc97655fd",
   "metadata": {},
   "source": [
    "with torch.no_grad():\n",
    "    image_features = visual_encoder.encode(image.flatten(start_dim=0, end_dim=1))\n",
    "\n",
    "    image_features = image_features.reshape(*image.shape[:2], -1)\n",
    "\n",
    "    obs = torch.cat([image_features, act_obs], dim=-1)\n",
    "\n",
    "    noised_action = torch.randn((1, pred_horizon, action_dim)).to(device)\n",
    "\n",
    "    timestep_tensor = torch.randint(0, 101, (1,), device=device)\n",
    "\n",
    "    noise = noise_prediction_net(\n",
    "        sample=noised_action,\n",
    "        timestep=timestep_tensor,\n",
    "        global_cond=obs.flatten(start_dim=1)\n",
    "    )\n",
    "\n",
    "    denoised_action = noised_action - noise\n"
   ],
   "outputs": [],
   "execution_count": null
  },
  {
   "cell_type": "code",
   "id": "accd1216068cb090",
   "metadata": {},
   "source": [
    "from diffusers.schedulers.scheduling_ddpm import DDPMScheduler\n",
    "\n",
    "num_diffusion_iters = 100\n",
    "\n",
    "noise_scheduler = DDPMScheduler(\n",
    "    num_train_timesteps=num_diffusion_iters,\n",
    "    beta_schedule='squaredcos_cap_v2',\n",
    "    clip_sample=True,\n",
    "    prediction_type='epsilon'\n",
    ")"
   ],
   "outputs": [],
   "execution_count": null
  },
  {
   "cell_type": "code",
   "id": "f1cfb8707059725b",
   "metadata": {},
   "source": [
    "from pathlib import Path\n",
    "\n",
    "\n",
    "def save_final_models(visual_encoder, noise_pred_net, out_dir):\n",
    "    out_dir = Path(out_dir)\n",
    "    out_dir.mkdir(parents=True, exist_ok=True)\n",
    "\n",
    "    torch.save(\n",
    "        {\n",
    "            \"visual_encoder\": visual_encoder.state_dict(),\n",
    "            \"noise_pred_net\": noise_pred_net.state_dict(),\n",
    "        },\n",
    "        out_dir / \"model_final.pth\",\n",
    "    )\n",
    "    print(f\"Saved to {out_dir / 'models.pth'}\")\n",
    "\n",
    "def load_final_models(visual_encoder, noise_pred_net, ckpt_path, device=\"cuda\"):\n",
    "    ckpt_path = Path(ckpt_path)\n",
    "    state = torch.load(ckpt_path, map_location=device)\n",
    "\n",
    "    visual_encoder.load_state_dict(state[\"visual_encoder\"], strict=True)\n",
    "    noise_pred_net.load_state_dict(state[\"noise_pred_net\"], strict=True)\n",
    "\n",
    "    visual_encoder.to(device).eval()\n",
    "    noise_pred_net.to(device).eval()\n",
    "    print(f\"Loaded weights from {ckpt_path}\")\n",
    "\n",
    "def save_checkpoint(\n",
    "    epoch,\n",
    "    loss,\n",
    "    visual_encoder,\n",
    "    noise_pred_net,\n",
    "    ema,\n",
    "    optimizer,\n",
    "    scheduler,\n",
    "    out_dir=\"checkpoints\",\n",
    "):\n",
    "    out_dir = Path(out_dir)\n",
    "    out_dir.mkdir(parents=True, exist_ok=True)\n",
    "    ckpt_name = f\"checkpoint_epoch{epoch:03d}_loss{loss:.4f}.pth\"\n",
    "    torch.save(\n",
    "        {\n",
    "            \"epoch\": epoch,\n",
    "            \"loss\": loss,\n",
    "            \"visual_encoder\": visual_encoder.state_dict(),\n",
    "            \"noise_pred_net\": noise_pred_net.state_dict(),\n",
    "            \"ema\": ema.state_dict(),\n",
    "            \"optimizer\": optimizer.state_dict(),\n",
    "            \"scheduler\": scheduler.state_dict(),\n",
    "        },\n",
    "        out_dir / ckpt_name,\n",
    "    )\n",
    "    print(f\"Checkpoint saved to {out_dir / ckpt_name}\")\n",
    "\n",
    "def load_checkpoint(\n",
    "    ckpt_path,\n",
    "    visual_encoder,\n",
    "    noise_pred_net,\n",
    "    ema,\n",
    "    optimizer=None,\n",
    "    scheduler=None,\n",
    "    map_location=\"cpu\",\n",
    "):\n",
    "    ckpt = torch.load(ckpt_path, map_location=map_location)\n",
    "    visual_encoder.load_state_dict(ckpt[\"visual_encoder\"])\n",
    "    noise_pred_net.load_state_dict(ckpt[\"noise_pred_net\"])\n",
    "    ema.load_state_dict(ckpt[\"ema\"])\n",
    "    if optimizer is not None and \"optimizer\" in ckpt:\n",
    "        optimizer.load_state_dict(ckpt[\"optimizer\"])\n",
    "    if scheduler is not None and \"scheduler\" in ckpt:\n",
    "        scheduler.load_state_dict(ckpt[\"scheduler\"])\n",
    "    print(f\"Checkpoint loaded from {ckpt_path}\")\n",
    "    return ckpt[\"epoch\"], ckpt.get(\"loss\", None)\n"
   ],
   "outputs": [],
   "execution_count": null
  },
  {
   "metadata": {},
   "cell_type": "code",
   "source": [
    "from torch import nn\n",
    "from diffusers import EMAModel, get_scheduler\n",
    "\n",
    "def forward_loss(nbatch):\n",
    "    nobs  = nbatch['img_obs'][:, :obs_horizon].to(device)\n",
    "    a_obs = nbatch['act_obs'][:, :obs_horizon].to(device)\n",
    "    a_gt  = nbatch['act_pred'].to(device)\n",
    "    B = a_obs.size(0)\n",
    "\n",
    "\n",
    "    image_features = visual_encoder.encode(nobs.flatten(start_dim=0, end_dim=1))\n",
    "\n",
    "    image_features = image_features.reshape(*nobs.shape[:2], -1)\n",
    "\n",
    "    obs = torch.cat([image_features, a_obs], dim=-1)\n",
    "\n",
    "    obs_cond = obs.flatten(start_dim=1)  # (B, H*obs_dim)\n",
    "\n",
    "    noise = torch.randn_like(a_gt)\n",
    "    timesteps = torch.randint(0, noise_scheduler.config.num_train_timesteps,\n",
    "                               (B,), device=device).long()\n",
    "    noisy_a = noise_scheduler.add_noise(a_gt, noise, timesteps)\n",
    "    noise_pred = noise_prediction_net(noisy_a, timesteps, global_cond=obs_cond)\n",
    "    return nn.functional.mse_loss(noise_pred, noise)#%%\n"
   ],
   "id": "4376394fcf62c4fe",
   "outputs": [],
   "execution_count": null
  },
  {
   "metadata": {},
   "cell_type": "code",
   "source": [
    "num_epochs = 500\n",
    "\n",
    "# EMA params\n",
    "all_params = list(noise_prediction_net.parameters())\n",
    "ema = EMAModel(parameters=all_params, power=0.75)\n",
    "\n",
    "# optimizer\n",
    "optimizer = torch.optim.AdamW(\n",
    "    params=all_params,\n",
    "    lr=1e-4,\n",
    "    weight_decay=1e-6\n",
    ")\n",
    "\n",
    "# LR scheduler\n",
    "lr_scheduler = get_scheduler(\n",
    "    name='cosine',\n",
    "    optimizer=optimizer,\n",
    "    num_warmup_steps=500,\n",
    "    num_training_steps=len(train_loader) * num_epochs\n",
    ")\n",
    "\n",
    "\n",
    "# train loop\n",
    "train_hist, val_hist = [], []\n",
    "for epoch_idx in range(num_epochs):\n",
    "    epoch_loss_sum = 0.0\n",
    "\n",
    "    for nbatch in train_loader:\n",
    "        # prepare data\n",
    "        nobs = nbatch['img_obs'][:, :obs_horizon].to(device)  # (B, H, state_len)\n",
    "        action_obs = nbatch['act_obs'][:, :obs_horizon].to(device)  # (B, H, 7)\n",
    "        action_pred = nbatch['act_pred'].to(device)  # (B, P, 7)\n",
    "        B = action_obs.size(0)\n",
    "\n",
    "        image_features = visual_encoder.encode(nobs.flatten(start_dim=0, end_dim=1))\n",
    "\n",
    "        image_features = image_features.reshape(*nobs.shape[:2], -1)\n",
    "\n",
    "        obs = torch.cat([image_features, action_obs], dim=-1)\n",
    "\n",
    "        obs_cond = obs.flatten(start_dim=1)  # (B, H*obs_dim)\n",
    "\n",
    "        noise = torch.randn_like(action_pred)\n",
    "        timesteps = torch.randint(\n",
    "            0, noise_scheduler.config.num_train_timesteps,\n",
    "            (B,), device=device).long()\n",
    "\n",
    "        noisy_actions = noise_scheduler.add_noise(action_pred, noise, timesteps)\n",
    "        noise_pred = noise_prediction_net(noisy_actions, timesteps, global_cond=obs_cond)\n",
    "\n",
    "        loss = nn.functional.mse_loss(noise_pred, noise)\n",
    "\n",
    "        # backward\n",
    "        loss.backward()\n",
    "        optimizer.step()\n",
    "        optimizer.zero_grad()\n",
    "        lr_scheduler.step()\n",
    "        ema.step(all_params)\n",
    "\n",
    "        epoch_loss_sum += loss.item()\n",
    "\n",
    "        avg_train = epoch_loss_sum / len(train_loader)\n",
    "        train_hist.append(avg_train)\n",
    "\n",
    "    # validation\n",
    "    noise_prediction_net.eval()\n",
    "    val_sum = 0.0\n",
    "    with torch.no_grad():\n",
    "        for batch in val_loader:\n",
    "            val_sum += forward_loss(batch).item()\n",
    "    avg_val = val_sum / len(val_loader)\n",
    "    val_hist.append(avg_val)\n",
    "\n",
    "    print(f\"Epoch {epoch_idx+1:03d}/{num_epochs} | \"\n",
    "          f\"train {avg_train:.6f} | val {avg_val:.6f}\")\n",
    "\n",
    "    if (epoch_idx + 1) % 10 == 0:\n",
    "        save_checkpoint(\n",
    "            epoch=epoch_idx + 1,\n",
    "            loss=avg_val,\n",
    "            visual_encoder=visual_encoder,\n",
    "            noise_pred_net=noise_prediction_net,\n",
    "            ema=ema,\n",
    "            optimizer=optimizer,\n",
    "            scheduler=lr_scheduler,\n",
    "            out_dir=\"checkpoints\",\n",
    "        )\n",
    "\n",
    "# copy EMA weights for inference\n",
    "ema.copy_to(all_params)"
   ],
   "id": "6ef21157758ee4e7",
   "outputs": [],
   "execution_count": null
  },
  {
   "metadata": {},
   "cell_type": "code",
   "source": [
    "# ckpt_path = \"./checkpoints/checkpoint_epoch190_loss0.0316.pth\"\n",
    "#\n",
    "# ckpt = torch.load(ckpt_path, map_location=\"cuda\")\n",
    "# visual_encoder.load_state_dict(ckpt[\"visual_encoder\"])\n",
    "# noise_prediction_net.load_state_dict(ckpt[\"noise_pred_net\"])"
   ],
   "id": "21e5a38fb73e0156",
   "outputs": [],
   "execution_count": null
  },
  {
   "cell_type": "code",
   "id": "18f7349f71d96bd5",
   "metadata": {},
   "source": [
    "save_final_models(visual_encoder, noise_prediction_net,\n",
    "                  \"../models/robot_v8_tool_hang_agent_224_epoch215\")"
   ],
   "outputs": [],
   "execution_count": null
  },
  {
   "cell_type": "code",
   "id": "89c55255cce7005",
   "metadata": {},
   "source": "load_final_models(visual_encoder, noise_prediction_net, \"../models/robot_v7.1_tool_hang_agent_224_epoch200/model_final.pth\")",
   "outputs": [],
   "execution_count": null
  },
  {
   "metadata": {},
   "cell_type": "code",
   "source": [
    "val_sum = 0\n",
    "\n",
    "with torch.no_grad():\n",
    "        for batch in val_loader:\n",
    "            val_sum += forward_loss(batch).item()\n",
    "\n",
    "val_sum / len(val_loader)"
   ],
   "id": "d8b5982238c9a952",
   "outputs": [],
   "execution_count": null
  },
  {
   "cell_type": "markdown",
   "id": "65c7ae7c4c252883",
   "metadata": {
    "ExecuteTime": {
     "end_time": "2025-06-21T14:37:11.735582Z",
     "start_time": "2025-06-21T14:37:11.702483Z"
    }
   },
   "source": [
    "# Inference"
   ]
  },
  {
   "cell_type": "code",
   "id": "c7de96297d547660",
   "metadata": {},
   "source": [
    "import robomimic\n",
    "import robomimic.utils.obs_utils as ObsUtils\n",
    "import robomimic.utils.env_utils as EnvUtils\n",
    "import robomimic.utils.file_utils as FileUtils\n",
    "from robomimic.utils.vis_utils import depth_to_rgb\n",
    "from robomimic.envs.env_base import EnvBase, EnvType\n",
    "\n",
    "from tqdm import tqdm\n",
    "\n",
    "import os\n",
    "\n",
    "env_meta = FileUtils.get_env_metadata_from_dataset(dataset_path=data_path)\n",
    "env_meta[\"env_kwargs\"][\"reward_shaping\"] = True\n",
    "env_meta[\"env_kwargs\"][\"reward_scale\"]   = 1.0\n",
    "\n",
    "dummy_spec = dict(\n",
    "    obs=dict(\n",
    "        low_dim=[\"robot0_eef_pos\"],\n",
    "        rgb=[\"agentview_image\"]\n",
    "        # rgb=[\"robot0_eye_in_hand_image\"]\n",
    "    ),\n",
    ")\n",
    "\n",
    "ObsUtils.initialize_obs_utils_with_obs_specs(obs_modality_specs=dummy_spec)\n",
    "\n",
    "env = EnvUtils.create_env_from_metadata(env_meta=env_meta, render=True, render_offscreen=True, use_image_obs=True)\n",
    "\n",
    "a = env.reset()\n",
    "\n",
    "from collections import deque\n",
    "obs_deque  = deque(maxlen=obs_horizon)\n",
    "act_deque  = deque(maxlen=obs_horizon)\n",
    "rewards    = []\n",
    "imgs       = []\n",
    "step_idx   = 0\n",
    "\n",
    "max_steps = 500\n",
    "action_horizon  = 4\n",
    "\n",
    "# ─── 6. Main rollout ──────────────────────────────────────────────────────────\n",
    "obs = env.reset()\n",
    "# wrap obs in same format as env.step\n",
    "obs = obs if isinstance(obs, dict) else obs[0]\n",
    "for i in range(obs_deque.maxlen):\n",
    "    obs_deque.append(obs)\n",
    "    act_deque.append(np.zeros(action_dim, dtype=np.float32))\n",
    "\n",
    "pbar = tqdm(total=max_steps)\n",
    "done = False\n",
    "\n",
    "while not done and step_idx < max_steps:\n",
    "    # 6.1 build the image & action history tensor\n",
    "    img_np = np.array([obs_deque[i][camera_type + \"_image\"] for i in range(obs_deque.maxlen)])\n",
    "\n",
    "    img_t   = torch.from_numpy(img_np).float().to(device)\n",
    "\n",
    "    actions_hist = torch.stack(\n",
    "        [torch.from_numpy(a) for a in list(act_deque)],\n",
    "        dim=0\n",
    "    ).to(device)                           # (1, H_a, 7)\n",
    "\n",
    "    # 6.2 compute visual features + conditioning\n",
    "    with torch.no_grad():\n",
    "        img_feat = visual_encoder(img_t)                # (1, C)\n",
    "        obs_cond = torch.cat([img_feat.flatten(start_dim=0).unsqueeze(0) , actions_hist.flatten(start_dim=0).unsqueeze(0)], dim=1)\n",
    "\n",
    "        # 6.3 sample a future action sequence via diffusion\n",
    "        B = 1\n",
    "        pred_actions = torch.randn((B, pred_horizon, action_dim), device=device)\n",
    "        noise_scheduler.set_timesteps(num_diffusion_iters)\n",
    "        for t in noise_scheduler.timesteps:\n",
    "            noise_pred    = noise_prediction_net(pred_actions, t, global_cond=obs_cond)\n",
    "            out           = noise_scheduler.step(noise_pred, t, pred_actions)\n",
    "            pred_actions  = out.prev_sample\n",
    "\n",
    "    pred_actions = pred_actions.cpu().numpy()[0]        # (pred_horizon, 7)\n",
    "\n",
    "    # 6.4 execute the next block of actions\n",
    "    start = obs_horizon\n",
    "    end   = start + action_horizon\n",
    "    action_block = pred_actions[start:end]          # (5, 7)\n",
    "\n",
    "    for act in action_block:\n",
    "        obs, rew, done, info = env.step(act)\n",
    "        obs = obs if isinstance(obs, dict) else obs[0]\n",
    "\n",
    "        frame = env.render(mode=\"rgb_array\", height=512, width=512)\n",
    "\n",
    "        obs_deque.append(obs)\n",
    "        act_deque.append(act.astype(np.float32))\n",
    "\n",
    "        rewards.append(rew)\n",
    "        imgs.append(frame)\n",
    "\n",
    "        step_idx += 1\n",
    "        pbar.update(1)\n",
    "        pbar.set_postfix(reward=float(rew))\n",
    "\n",
    "        if done or step_idx >= max_steps:\n",
    "            break\n",
    "\n",
    "pbar.close()\n",
    "\n",
    "# ─── 7. Wrap up ───────────────────────────────────────────────────────────────\n",
    "print(f\"Rollout finished: {step_idx} steps, total reward {sum(rewards):.2f}\")"
   ],
   "outputs": [],
   "execution_count": null
  },
  {
   "cell_type": "code",
   "id": "9fe8151cf6b7358b",
   "metadata": {},
   "source": [
    "import imageio\n",
    "\n",
    "video_path = \"test_larger_size_img.mp4\"\n",
    "fps = 24\n",
    "\n",
    "with imageio.get_writer(video_path, fps=fps, codec=\"libx264\") as writer:\n",
    "    for frame in imgs:\n",
    "        writer.append_data(frame)\n",
    "\n",
    "print(f\"Saved video to {video_path}\")"
   ],
   "outputs": [],
   "execution_count": null
  },
  {
   "cell_type": "code",
   "id": "f62615db63e5ccd6",
   "metadata": {},
   "source": "img = img_np[0]",
   "outputs": [],
   "execution_count": null
  },
  {
   "metadata": {},
   "cell_type": "code",
   "source": "plt.imshow(img.transpose(1,2,0))",
   "id": "10812269deff5c5a",
   "outputs": [],
   "execution_count": null
  },
  {
   "metadata": {},
   "cell_type": "code",
   "source": "",
   "id": "5730143767b72223",
   "outputs": [],
   "execution_count": null
  }
 ],
 "metadata": {
  "kernelspec": {
   "display_name": "Python 3 (ipykernel)",
   "language": "python",
   "name": "python3"
  },
  "language_info": {
   "codemirror_mode": {
    "name": "ipython",
    "version": 3
   },
   "file_extension": ".py",
   "mimetype": "text/x-python",
   "name": "python",
   "nbconvert_exporter": "python",
   "pygments_lexer": "ipython3",
   "version": "3.12.9"
  }
 },
 "nbformat": 4,
 "nbformat_minor": 5
}
