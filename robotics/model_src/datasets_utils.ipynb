{
 "cells": [
  {
   "cell_type": "code",
   "id": "initial_id",
   "metadata": {
    "collapsed": true,
    "ExecuteTime": {
     "end_time": "2025-05-06T18:24:07.319153Z",
     "start_time": "2025-05-06T18:24:06.798311Z"
    }
   },
   "source": [
    "import matplotlib.pyplot as plt\n",
    "import zarr\n",
    "\n",
    "from robotics.imitation_learning import episode_ends"
   ],
   "outputs": [],
   "execution_count": 2
  },
  {
   "metadata": {},
   "cell_type": "code",
   "source": "dataset = zarr.open(\"../data/demonstrations_snapshot_1.zarr\", mode=\"r\")",
   "id": "bed112c6d9443c8a",
   "outputs": [],
   "execution_count": null
  },
  {
   "metadata": {},
   "cell_type": "code",
   "source": "data = dataset[\"data\"]",
   "id": "a91378e05fb34c0f",
   "outputs": [],
   "execution_count": null
  },
  {
   "metadata": {},
   "cell_type": "code",
   "source": "imgs = data[\"img\"]",
   "id": "b61cdd397707ad0b",
   "outputs": [],
   "execution_count": null
  },
  {
   "metadata": {},
   "cell_type": "code",
   "source": "imgs.shape",
   "id": "619fbf606b160222",
   "outputs": [],
   "execution_count": null
  },
  {
   "metadata": {},
   "cell_type": "code",
   "source": "imgs[0].shape",
   "id": "34701a4ebba9c3d0",
   "outputs": [],
   "execution_count": null
  },
  {
   "metadata": {},
   "cell_type": "code",
   "source": "img = imgs[340]",
   "id": "e636797619b1a533",
   "outputs": [],
   "execution_count": null
  },
  {
   "metadata": {},
   "cell_type": "code",
   "source": "plt.imshow(img/ 255)",
   "id": "5f4d62ab5ccce270",
   "outputs": [],
   "execution_count": null
  },
  {
   "metadata": {},
   "cell_type": "code",
   "source": "actions = data[\"action\"][:]",
   "id": "e455ad18a55cda43",
   "outputs": [],
   "execution_count": null
  },
  {
   "metadata": {},
   "cell_type": "code",
   "source": "dataset[\"episode_ends\"].shape",
   "id": "7d0c5f476680c087",
   "outputs": [],
   "execution_count": null
  },
  {
   "metadata": {},
   "cell_type": "code",
   "source": "actions.shape",
   "id": "33ddeda1c3366e17",
   "outputs": [],
   "execution_count": null
  },
  {
   "metadata": {},
   "cell_type": "code",
   "source": "actions[0]",
   "id": "31990162158065cd",
   "outputs": [],
   "execution_count": null
  },
  {
   "metadata": {},
   "cell_type": "markdown",
   "source": "DataLoader",
   "id": "3105c41a0e874c7a"
  },
  {
   "metadata": {
    "ExecuteTime": {
     "end_time": "2025-05-06T17:08:20.850488Z",
     "start_time": "2025-05-06T17:08:19.812074Z"
    }
   },
   "cell_type": "code",
   "source": [
    "from torch.utils.data import Dataset\n",
    "import torch\n",
    "\n",
    "def normalize_data(data, scale):\n",
    "    return data / scale\n",
    "\n",
    "def denormalize_data(data, scale):\n",
    "    return data * scale\n",
    "\n",
    "class PushTDataset(Dataset):\n",
    "    def __init__(self, data_path):\n",
    "        dataset = zarr.open(data_path, mode=\"r\") # action, img, keypoint, n_contacts, state\n",
    "\n",
    "        image_data = dataset[\"data\"][\"img\"][:] # ndarray [0-255], shape = (total, 96, 96, 3)\n",
    "\n",
    "        self.image_data_transformed = normalize_data(image_data, 255) # ndarray [0-1], shape = (total, 3, 96, 96)\n",
    "\n",
    "        actions_data = dataset[\"data\"][\"action\"][:] # ndarray [0-512], shape = (total, 2)\n",
    "\n",
    "        self.actions_data_transformed = normalize_data(actions_data, 512)\n",
    "\n",
    "        self.episode_ends = dataset[\"episode_ends\"][:]\n",
    "\n",
    "    def __len__(self):\n",
    "        return len(self.image_data_transformed)\n",
    "\n",
    "    def __getitem__(self, idx):\n",
    "        return torch.from_numpy(data[\"action\"][idx]).float()\n"
   ],
   "id": "9af9283bdce7d01a",
   "outputs": [],
   "execution_count": 2
  },
  {
   "metadata": {
    "ExecuteTime": {
     "end_time": "2025-05-06T17:08:26.337984Z",
     "start_time": "2025-05-06T17:08:22.516836Z"
    }
   },
   "cell_type": "code",
   "source": "dataset = PushTDataset(\"../data/demonstrations_snapshot_1.zarr\")",
   "id": "c186ade3918adc20",
   "outputs": [],
   "execution_count": 3
  },
  {
   "metadata": {
    "ExecuteTime": {
     "end_time": "2025-05-06T17:08:29.979333Z",
     "start_time": "2025-05-06T17:08:29.976307Z"
    }
   },
   "cell_type": "code",
   "source": "action, image = dataset.actions_data_transformed[33], dataset.image_data_transformed[33]",
   "id": "8be77c41b4882933",
   "outputs": [],
   "execution_count": 4
  },
  {
   "metadata": {
    "ExecuteTime": {
     "end_time": "2025-05-06T17:08:32.441416Z",
     "start_time": "2025-05-06T17:08:32.345994Z"
    }
   },
   "cell_type": "code",
   "source": [
    "print(denormalize_data(action, scale=512))\n",
    "plt.imshow(image)"
   ],
   "id": "6fb5c22925336616",
   "outputs": [
    {
     "name": "stdout",
     "output_type": "stream",
     "text": [
      "[418. 371.]\n"
     ]
    },
    {
     "data": {
      "text/plain": [
       "<matplotlib.image.AxesImage at 0x11b3a8110>"
      ]
     },
     "execution_count": 5,
     "metadata": {},
     "output_type": "execute_result"
    },
    {
     "data": {
      "text/plain": [
       "<Figure size 640x480 with 1 Axes>"
      ],
      "image/png": "[encoded data removed]"
     },
     "metadata": {},
     "output_type": "display_data"
    }
   ],
   "execution_count": 5
  },
  {
   "metadata": {},
   "cell_type": "markdown",
   "source": [
    "### Correct sequence split\n",
    "\n",
    "#### Data\n",
    "\n",
    "* **actions**\n",
    "  `[1,3,5,2,1,7,9,4,3,2]`\n",
    "* **images**\n",
    "  `[img1,img2,img3,img4,img5,img6,img7,img8,img9,img10]`\n",
    "\n",
    "#### Proper `episode_ends` array\n",
    "\n",
    "The recording code appends **cumulative** episode lengths.\n",
    "With three episodes of lengths\n",
    "\n",
    "* episode1=4 steps\n",
    "* episode2=4 steps\n",
    "* episode3=2 steps\n",
    "\n",
    "we get:\n",
    "\n",
    "```python\n",
    "episode_ends = [0, 4, 8, 10]\n",
    "```\n",
    "\n",
    "#### Split\n",
    "\n",
    "| Episode | Slice in the array | actions     | images                 |\n",
    "| ------- | ------------ | ----------- | ---------------------- |\n",
    "| 1       | `0:4`        | `[1,3,5,2]` | `[img1,img2,img3,img4]` |\n",
    "| 2       | `4:8`        | `[1,7,9,4]` | `[img5,img6,img7,img8]` |\n",
    "| 3       | `8:10`       | `[3,2]`     | `[img9,img10]`         |\n"
   ],
   "id": "812fb80fd1c21c97"
  },
  {
   "metadata": {
    "ExecuteTime": {
     "end_time": "2025-05-06T18:25:04.108746Z",
     "start_time": "2025-05-06T18:25:04.104939Z"
    }
   },
   "cell_type": "code",
   "source": [
    "import random\n",
    "\n",
    "\n",
    "def generate_sample_dataset(n):\n",
    "    actions = []\n",
    "    images = []\n",
    "    step_in_episode = 0\n",
    "    episode_ends = [0]\n",
    "\n",
    "    action = 0\n",
    "    counter = 0\n",
    "\n",
    "    for _ in range(n):\n",
    "        action += 1\n",
    "        counter += 1\n",
    "\n",
    "        images.append(f\"img{counter}\")\n",
    "        actions.append(action)\n",
    "\n",
    "        step_in_episode += 1\n",
    "\n",
    "        if random.random() > 0.8:\n",
    "            episode_ends.append(episode_ends[-1] + step_in_episode)\n",
    "            step_in_episode = 0\n",
    "            action = 0\n",
    "\n",
    "    return images, actions, episode_ends"
   ],
   "id": "d69d9c8a470ae8aa",
   "outputs": [],
   "execution_count": 14
  },
  {
   "metadata": {
    "ExecuteTime": {
     "end_time": "2025-05-06T18:25:04.450107Z",
     "start_time": "2025-05-06T18:25:04.446567Z"
    }
   },
   "cell_type": "code",
   "source": "images, actions, episode_ends = generate_sample_dataset(20)",
   "id": "53b28649cf74a2fd",
   "outputs": [],
   "execution_count": 15
  },
  {
   "metadata": {
    "ExecuteTime": {
     "end_time": "2025-05-06T18:25:04.816144Z",
     "start_time": "2025-05-06T18:25:04.812896Z"
    }
   },
   "cell_type": "code",
   "source": "actions",
   "id": "7dc7f319ccf4099d",
   "outputs": [
    {
     "data": {
      "text/plain": [
       "[1, 2, 3, 1, 2, 3, 4, 1, 2, 3, 1, 1, 2, 3, 4, 5, 6, 1, 2, 3]"
      ]
     },
     "execution_count": 16,
     "metadata": {},
     "output_type": "execute_result"
    }
   ],
   "execution_count": 16
  },
  {
   "metadata": {
    "ExecuteTime": {
     "end_time": "2025-05-06T18:25:16.344975Z",
     "start_time": "2025-05-06T18:25:16.337605Z"
    }
   },
   "cell_type": "code",
   "source": "episode_ends",
   "id": "94cbb48a7348e611",
   "outputs": [
    {
     "data": {
      "text/plain": [
       "[0, 3, 7, 10, 11, 17]"
      ]
     },
     "execution_count": 17,
     "metadata": {},
     "output_type": "execute_result"
    }
   ],
   "execution_count": 17
  },
  {
   "metadata": {
    "ExecuteTime": {
     "end_time": "2025-05-06T19:07:08.650918Z",
     "start_time": "2025-05-06T18:58:56.306719Z"
    }
   },
   "cell_type": "code",
   "source": [
    "def create_trajectory_indices(episode_ends, horizon_left, horizon_right):\n",
    "    \"\"\"\n",
    "    The method to precompute all possible windows that will be used in training process. When the left/right horizon is outside the one episode, it is padded with the most left/right index.\n",
    "\n",
    "    Args:\n",
    "        episode_ends_array:\n",
    "        horizon_left:\n",
    "        horizon_right:\n",
    "\n",
    "    Returns:\n",
    "\n",
    "    \"\"\"\n",
    "    def add_to_window(input_array, prediction_array, item, cur_item, input_limit):\n",
    "        if cur_item <= input_limit:\n",
    "            input_array.append(item)\n",
    "        else:\n",
    "            prediction_array.append(item)\n",
    "\n",
    "\n",
    "    windows = []\n",
    "    start_idx = 0\n",
    "    input_lim_idx = horizon_left + 1\n",
    "    for i in range(len(episode_ends) - 1):\n",
    "        end_idx = episode_ends[i + 1]\n",
    "        if i > 0:\n",
    "            start_idx = episode_ends[i] + 1\n",
    "\n",
    "        print(\"seq: \", start_idx, end_idx)\n",
    "\n",
    "        for cur_idx in range(start_idx, end_idx):\n",
    "            input = []\n",
    "            prediction = []\n",
    "            counter = 0\n",
    "            for displace in range(-horizon_left, horizon_right - horizon_left + 2):\n",
    "                if cur_idx + displace < start_idx:\n",
    "                    # input.append(start_idx)\n",
    "                    idx_at_position = start_idx\n",
    "                elif cur_idx + displace > end_idx:\n",
    "                    # prediction.append(end_idx)\n",
    "                    idx_at_position = end_idx\n",
    "                else:\n",
    "                    idx_at_position = cur_idx + displace\n",
    "                    # prediction.append(cur_idx + displace)\n",
    "\n",
    "                counter += 1\n",
    "                add_to_window(input, prediction, idx_at_position, counter, input_lim_idx)\n",
    "\n",
    "            windows.append((input, prediction))\n",
    "\n",
    "    return windows\n",
    "\n",
    "wind = create_trajectory_indices(episode_ends, horizon_left=1, horizon_right=2)"
   ],
   "id": "50a4a07bcf2360fc",
   "outputs": [
    {
     "name": "stdout",
     "output_type": "stream",
     "text": [
      "seq:  0 3\n",
      "seq:  4 7\n",
      "seq:  8 10\n",
      "seq:  11 11\n",
      "seq:  12 17\n"
     ]
    }
   ],
   "execution_count": 30
  },
  {
   "metadata": {},
   "cell_type": "code",
   "outputs": [],
   "execution_count": null,
   "source": "",
   "id": "81a60b1c16e524f7"
  }
 ],
 "metadata": {
  "kernelspec": {
   "display_name": "Python 3",
   "language": "python",
   "name": "python3"
  },
  "language_info": {
   "codemirror_mode": {
    "name": "ipython",
    "version": 2
   },
   "file_extension": ".py",
   "mimetype": "text/x-python",
   "name": "python",
   "nbconvert_exporter": "python",
   "pygments_lexer": "ipython2",
   "version": "2.7.6"
  }
 },
 "nbformat": 4,
 "nbformat_minor": 5
}
