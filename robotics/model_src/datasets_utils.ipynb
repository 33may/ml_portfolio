{
 "cells": [
  {
   "cell_type": "code",
   "id": "initial_id",
   "metadata": {
    "collapsed": true,
    "ExecuteTime": {
     "end_time": "2025-05-12T15:28:18.206235Z",
     "start_time": "2025-05-12T15:28:17.260914Z"
    }
   },
   "source": [
    "import matplotlib.pyplot as plt\n",
    "import zarr"
   ],
   "outputs": [],
   "execution_count": 1
  },
  {
   "metadata": {},
   "cell_type": "markdown",
   "source": "# Dataset zarr file",
   "id": "d06131ed4fcfc08d"
  },
  {
   "metadata": {
    "ExecuteTime": {
     "end_time": "2025-05-12T15:28:18.870395Z",
     "start_time": "2025-05-12T15:28:18.849890Z"
    }
   },
   "cell_type": "code",
   "source": "dataset = zarr.open(\"../data/demonstrations_snapshot_1.zarr\", mode=\"r\")",
   "id": "bed112c6d9443c8a",
   "outputs": [],
   "execution_count": 2
  },
  {
   "metadata": {
    "ExecuteTime": {
     "end_time": "2025-05-12T15:28:27.638292Z",
     "start_time": "2025-05-12T15:28:19.695041Z"
    }
   },
   "cell_type": "code",
   "source": [
    "data = dataset[\"data\"]\n",
    "imgs = data[\"img\"][:]\n",
    "actions = data[\"action\"][:]\n",
    "episode_ends = dataset[\"episode_ends\"][:]"
   ],
   "id": "a91378e05fb34c0f",
   "outputs": [],
   "execution_count": 3
  },
  {
   "metadata": {
    "ExecuteTime": {
     "end_time": "2025-05-12T15:28:27.992077Z",
     "start_time": "2025-05-12T15:28:27.744702Z"
    }
   },
   "cell_type": "code",
   "source": [
    "print(f\"Length of images: {len(imgs)}\")\n",
    "print(f\"Action shape: {actions[0].shape}\")\n",
    "print(f\"Length of actions: {len(actions)}\")\n",
    "print(f\"Image shape: {imgs[0].shape}\")\n",
    "print(f\"Length of episode_ends: {len(episode_ends)}\")\n",
    "\n",
    "img = imgs[340]\n",
    "plt.imshow(img/ 255)"
   ],
   "id": "b61cdd397707ad0b",
   "outputs": [
    {
     "name": "stdout",
     "output_type": "stream",
     "text": [
      "Length of images: 9086\n",
      "Action shape: (2,)\n",
      "Length of actions: 9086\n",
      "Image shape: (224, 224, 3)\n",
      "Length of episode_ends: 54\n"
     ]
    },
    {
     "data": {
      "text/plain": [
       "<matplotlib.image.AxesImage at 0x7f154bcc0f80>"
      ]
     },
     "execution_count": 4,
     "metadata": {},
     "output_type": "execute_result"
    },
    {
     "data": {
      "text/plain": [
       "<Figure size 640x480 with 1 Axes>"
      ],
      "image/png": "[encoded data removed]"
     },
     "metadata": {},
     "output_type": "display_data"
    }
   ],
   "execution_count": 4
  },
  {
   "metadata": {},
   "cell_type": "markdown",
   "source": "# Detailed dataset understanding",
   "id": "3105c41a0e874c7a"
  },
  {
   "metadata": {},
   "cell_type": "markdown",
   "source": [
    "#### Data\n",
    "\n",
    "* **actions**\n",
    "  `[1,3,5,2,1,7,9,4,3,2]`\n",
    "* **images**\n",
    "  `[img1,img2,img3,img4,img5,img6,img7,img8,img9,img10]`\n",
    "\n",
    "#### Proper `episode_ends` array\n",
    "\n",
    "The recording code appends **cumulative** episode lengths.\n",
    "With three episodes of lengths\n",
    "\n",
    "* episode1=4 steps\n",
    "* episode2=4 steps\n",
    "* episode3=2 steps\n",
    "\n",
    "we get:\n",
    "\n",
    "```python\n",
    "episode_ends = [0, 4, 8, 10]\n",
    "```\n",
    "\n",
    "#### Split\n",
    "\n",
    "| Episode | Slice in the array | actions     | images                 |\n",
    "| ------- | ------------ | ----------- | ---------------------- |\n",
    "| 1       | `0:4`        | `[1,3,5,2]` | `[img1,img2,img3,img4]` |\n",
    "| 2       | `4:8`        | `[1,7,9,4]` | `[img5,img6,img7,img8]` |\n",
    "| 3       | `8:10`       | `[3,2]`     | `[img9,img10]`         |\n"
   ],
   "id": "812fb80fd1c21c97"
  },
  {
   "metadata": {
    "ExecuteTime": {
     "end_time": "2025-05-12T15:32:16.944229Z",
     "start_time": "2025-05-12T15:32:14.753865Z"
    }
   },
   "cell_type": "code",
   "source": [
    "from robotics.model_src.dataset import generate_sample_dataset\n",
    "\n",
    "images, actions, episode_ends = generate_sample_dataset(20)"
   ],
   "id": "53b28649cf74a2fd",
   "outputs": [],
   "execution_count": 10
  },
  {
   "metadata": {
    "ExecuteTime": {
     "end_time": "2025-05-12T15:32:17.907448Z",
     "start_time": "2025-05-12T15:32:17.904480Z"
    }
   },
   "cell_type": "code",
   "source": "actions",
   "id": "7dc7f319ccf4099d",
   "outputs": [
    {
     "data": {
      "text/plain": [
       "[1, 2, 3, 4, 5, 6, 7, 1, 2, 3, 1, 2, 3, 4, 5, 6, 7, 8, 9, 10]"
      ]
     },
     "execution_count": 11,
     "metadata": {},
     "output_type": "execute_result"
    }
   ],
   "execution_count": 11
  },
  {
   "metadata": {
    "ExecuteTime": {
     "end_time": "2025-05-12T15:32:19.133893Z",
     "start_time": "2025-05-12T15:32:19.130879Z"
    }
   },
   "cell_type": "code",
   "source": "episode_ends",
   "id": "94cbb48a7348e611",
   "outputs": [
    {
     "data": {
      "text/plain": [
       "[0, 7, 10]"
      ]
     },
     "execution_count": 12,
     "metadata": {},
     "output_type": "execute_result"
    }
   ],
   "execution_count": 12
  },
  {
   "metadata": {
    "ExecuteTime": {
     "end_time": "2025-05-12T15:32:32.218084Z",
     "start_time": "2025-05-12T15:32:20.482458Z"
    }
   },
   "cell_type": "code",
   "source": [
    "from robotics.model_src.dataset import PushTDataset\n",
    "\n",
    "dataset = PushTDataset(\"../data/demonstrations_snapshot_1.zarr\", obs_horizon=4, prediction_horizon=8, image_size=None)"
   ],
   "id": "123a10464f880e3d",
   "outputs": [
    {
     "name": "stderr",
     "output_type": "stream",
     "text": [
      "100%|██████████| 53/53 [00:00<00:00, 71987.73it/s]\n"
     ]
    }
   ],
   "execution_count": 13
  },
  {
   "metadata": {
    "ExecuteTime": {
     "end_time": "2025-05-12T15:32:33.685691Z",
     "start_time": "2025-05-12T15:32:33.683Z"
    }
   },
   "cell_type": "code",
   "source": "item = dataset[0]",
   "id": "e2e6443f9a02c038",
   "outputs": [],
   "execution_count": 14
  },
  {
   "metadata": {
    "ExecuteTime": {
     "end_time": "2025-05-12T15:32:35.782690Z",
     "start_time": "2025-05-12T15:32:35.780943Z"
    }
   },
   "cell_type": "code",
   "source": [
    "print(f\"Observation images: {item[\"img_obs\"].shape}\")\n",
    "print(f\"Observation actions: {item[\"act_obs\"].shape}\")\n",
    "print(f\"Prediction actions: {item[\"act_pred\"].shape}\")"
   ],
   "id": "66803b294e9ec9da",
   "outputs": [
    {
     "name": "stdout",
     "output_type": "stream",
     "text": [
      "Observation images: (5, 224, 224, 3)\n",
      "Observation actions: (5, 2)\n",
      "Prediction actions: (8, 2)\n"
     ]
    }
   ],
   "execution_count": 15
  },
  {
   "metadata": {},
   "cell_type": "markdown",
   "source": "# Data Loader",
   "id": "be6295e76b3d7477"
  },
  {
   "metadata": {},
   "cell_type": "code",
   "outputs": [],
   "execution_count": null,
   "source": "",
   "id": "584e993c4ebfec58"
  }
 ],
 "metadata": {
  "kernelspec": {
   "display_name": "Python 3",
   "language": "python",
   "name": "python3"
  },
  "language_info": {
   "codemirror_mode": {
    "name": "ipython",
    "version": 2
   },
   "file_extension": ".py",
   "mimetype": "text/x-python",
   "name": "python",
   "nbconvert_exporter": "python",
   "pygments_lexer": "ipython2",
   "version": "2.7.6"
  }
 },
 "nbformat": 4,
 "nbformat_minor": 5
}
