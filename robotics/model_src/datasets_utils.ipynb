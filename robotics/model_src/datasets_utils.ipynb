{
 "cells": [
  {
   "cell_type": "code",
   "id": "initial_id",
   "metadata": {
    "collapsed": true,
    "ExecuteTime": {
     "end_time": "2025-05-07T13:00:07.183239Z",
     "start_time": "2025-05-07T13:00:06.082834Z"
    }
   },
   "source": [
    "import matplotlib.pyplot as plt\n",
    "import zarr"
   ],
   "outputs": [],
   "execution_count": 30
  },
  {
   "metadata": {},
   "cell_type": "code",
   "source": "dataset = zarr.open(\"../data/demonstrations_snapshot_1.zarr\", mode=\"r\")",
   "id": "bed112c6d9443c8a",
   "outputs": [],
   "execution_count": null
  },
  {
   "metadata": {},
   "cell_type": "code",
   "source": "data = dataset[\"data\"]",
   "id": "a91378e05fb34c0f",
   "outputs": [],
   "execution_count": null
  },
  {
   "metadata": {},
   "cell_type": "code",
   "source": "imgs = data[\"img\"]",
   "id": "b61cdd397707ad0b",
   "outputs": [],
   "execution_count": null
  },
  {
   "metadata": {},
   "cell_type": "code",
   "source": "imgs.shape",
   "id": "619fbf606b160222",
   "outputs": [],
   "execution_count": null
  },
  {
   "metadata": {},
   "cell_type": "code",
   "source": "imgs[0].shape",
   "id": "34701a4ebba9c3d0",
   "outputs": [],
   "execution_count": null
  },
  {
   "metadata": {},
   "cell_type": "code",
   "source": "img = imgs[340]",
   "id": "e636797619b1a533",
   "outputs": [],
   "execution_count": null
  },
  {
   "metadata": {},
   "cell_type": "code",
   "source": "plt.imshow(img/ 255)",
   "id": "5f4d62ab5ccce270",
   "outputs": [],
   "execution_count": null
  },
  {
   "metadata": {},
   "cell_type": "code",
   "source": "actions = data[\"action\"][:]",
   "id": "e455ad18a55cda43",
   "outputs": [],
   "execution_count": null
  },
  {
   "metadata": {},
   "cell_type": "code",
   "source": "dataset[\"episode_ends\"].shape",
   "id": "7d0c5f476680c087",
   "outputs": [],
   "execution_count": null
  },
  {
   "metadata": {},
   "cell_type": "code",
   "source": "actions.shape",
   "id": "33ddeda1c3366e17",
   "outputs": [],
   "execution_count": null
  },
  {
   "metadata": {},
   "cell_type": "code",
   "source": "actions[0]",
   "id": "31990162158065cd",
   "outputs": [],
   "execution_count": null
  },
  {
   "metadata": {},
   "cell_type": "markdown",
   "source": "DataLoader",
   "id": "3105c41a0e874c7a"
  },
  {
   "metadata": {},
   "cell_type": "markdown",
   "source": [
    "### Correct sequence split\n",
    "\n",
    "#### Data\n",
    "\n",
    "* **actions**\n",
    "  `[1,3,5,2,1,7,9,4,3,2]`\n",
    "* **images**\n",
    "  `[img1,img2,img3,img4,img5,img6,img7,img8,img9,img10]`\n",
    "\n",
    "#### Proper `episode_ends` array\n",
    "\n",
    "The recording code appends **cumulative** episode lengths.\n",
    "With three episodes of lengths\n",
    "\n",
    "* episode1=4 steps\n",
    "* episode2=4 steps\n",
    "* episode3=2 steps\n",
    "\n",
    "we get:\n",
    "\n",
    "```python\n",
    "episode_ends = [0, 4, 8, 10]\n",
    "```\n",
    "\n",
    "#### Split\n",
    "\n",
    "| Episode | Slice in the array | actions     | images                 |\n",
    "| ------- | ------------ | ----------- | ---------------------- |\n",
    "| 1       | `0:4`        | `[1,3,5,2]` | `[img1,img2,img3,img4]` |\n",
    "| 2       | `4:8`        | `[1,7,9,4]` | `[img5,img6,img7,img8]` |\n",
    "| 3       | `8:10`       | `[3,2]`     | `[img9,img10]`         |\n"
   ],
   "id": "812fb80fd1c21c97"
  },
  {
   "metadata": {
    "ExecuteTime": {
     "end_time": "2025-05-07T12:45:20.989480Z",
     "start_time": "2025-05-07T12:45:20.984524Z"
    }
   },
   "cell_type": "code",
   "source": [
    "import random\n",
    "\n",
    "\n",
    "def generate_sample_dataset(n):\n",
    "    actions = []\n",
    "    images = []\n",
    "    step_in_episode = 0\n",
    "    episode_ends = [0]\n",
    "\n",
    "    action = 0\n",
    "    counter = 0\n",
    "\n",
    "    for _ in range(n):\n",
    "        action += 1\n",
    "        counter += 1\n",
    "\n",
    "        images.append(f\"img{counter}\")\n",
    "        actions.append(action)\n",
    "\n",
    "        step_in_episode += 1\n",
    "\n",
    "        if random.random() > 0.8:\n",
    "            episode_ends.append(episode_ends[-1] + step_in_episode)\n",
    "            step_in_episode = 0\n",
    "            action = 0\n",
    "\n",
    "    return images, actions, episode_ends"
   ],
   "id": "d69d9c8a470ae8aa",
   "outputs": [],
   "execution_count": 1
  },
  {
   "metadata": {
    "ExecuteTime": {
     "end_time": "2025-05-07T12:45:21.320203Z",
     "start_time": "2025-05-07T12:45:21.316636Z"
    }
   },
   "cell_type": "code",
   "source": "images, actions, episode_ends = generate_sample_dataset(20)",
   "id": "53b28649cf74a2fd",
   "outputs": [],
   "execution_count": 2
  },
  {
   "metadata": {
    "ExecuteTime": {
     "end_time": "2025-05-07T12:45:22.156940Z",
     "start_time": "2025-05-07T12:45:22.152736Z"
    }
   },
   "cell_type": "code",
   "source": "actions",
   "id": "7dc7f319ccf4099d",
   "outputs": [
    {
     "data": {
      "text/plain": [
       "[1, 2, 3, 1, 2, 3, 1, 2, 3, 4, 5, 6, 1, 2, 1, 2, 3, 4, 5, 6]"
      ]
     },
     "execution_count": 3,
     "metadata": {},
     "output_type": "execute_result"
    }
   ],
   "execution_count": 3
  },
  {
   "metadata": {
    "ExecuteTime": {
     "end_time": "2025-05-07T12:45:22.514691Z",
     "start_time": "2025-05-07T12:45:22.511122Z"
    }
   },
   "cell_type": "code",
   "source": "episode_ends",
   "id": "94cbb48a7348e611",
   "outputs": [
    {
     "data": {
      "text/plain": [
       "[0, 3, 6, 12, 14, 20]"
      ]
     },
     "execution_count": 4,
     "metadata": {},
     "output_type": "execute_result"
    }
   ],
   "execution_count": 4
  },
  {
   "metadata": {
    "ExecuteTime": {
     "end_time": "2025-05-07T12:59:48.709617Z",
     "start_time": "2025-05-07T12:59:47.032159Z"
    }
   },
   "cell_type": "code",
   "source": [
    "from tqdm import tqdm\n",
    "from torch.utils.data import Dataset\n",
    "import torch\n",
    "\n",
    "# def create_trajectory_indices(episode_ends, horizon_left, horizon_right):\n",
    "#     \"\"\"\n",
    "#     The method to precompute all possible windows that will be used in training process. When the left/right horizon is outside the one episode, it is padded with the most left/right index.\n",
    "#\n",
    "#     Args:\n",
    "#         episode_ends_array:\n",
    "#         horizon_left:\n",
    "#         horizon_right:\n",
    "#\n",
    "#     Returns:\n",
    "#\n",
    "#     \"\"\"\n",
    "#     def add_to_window(input_array, prediction_array, item, cur_item, input_limit):\n",
    "#         if cur_item <= input_limit:\n",
    "#             input_array.append(item)\n",
    "#         else:\n",
    "#             prediction_array.append(item)\n",
    "#\n",
    "#\n",
    "#     windows = []\n",
    "#     start_idx = 0\n",
    "#     input_lim_idx = horizon_left + 1\n",
    "#     for i in tqdm(range(len(episode_ends) - 1), total=len(episode_ends) - 1):\n",
    "#         end_idx = episode_ends[i + 1]\n",
    "#         if i > 0:\n",
    "#             start_idx = episode_ends[i] + 1\n",
    "#\n",
    "#         # print(\"seq: \", start_idx, end_idx)\n",
    "#\n",
    "#         for cur_idx in range(start_idx, end_idx):\n",
    "#             input = []\n",
    "#             prediction = []\n",
    "#             counter = 0\n",
    "#             for displace in range(-horizon_left, horizon_right - horizon_left + 2):\n",
    "#                 if cur_idx + displace < start_idx:\n",
    "#                     # input.append(start_idx)\n",
    "#                     idx_at_position = start_idx\n",
    "#                 elif cur_idx + displace > end_idx:\n",
    "#                     # prediction.append(end_idx)\n",
    "#                     idx_at_position = end_idx\n",
    "#                 else:\n",
    "#                     idx_at_position = cur_idx + displace\n",
    "#                     # prediction.append(cur_idx + displace)\n",
    "#\n",
    "#                 counter += 1\n",
    "#                 add_to_window(input, prediction, idx_at_position, counter, input_lim_idx)\n",
    "#\n",
    "#             windows.append((input, prediction))\n",
    "#\n",
    "#     return windows\n",
    "\n",
    "def create_trajectory_indices(episode_ends, horizon_left, horizon_right):\n",
    "    \"\"\"\n",
    "    The method to precompute all possible windows that will be used in training process. When the left/right horizon is outside the one episode, it is padded with the most left/right index.\n",
    "\n",
    "    Args:\n",
    "        episode_ends_array:\n",
    "        horizon_left:\n",
    "        horizon_right:\n",
    "\n",
    "    Returns:\n",
    "\n",
    "    \"\"\"\n",
    "    all_windows = []\n",
    "    start_idx = 0\n",
    "    window_template = np.arange(-horizon_left, horizon_right + 1) # [W,]\n",
    "    for i in tqdm(range(len(episode_ends) - 1), total=len(episode_ends) - 1):\n",
    "        end_idx = episode_ends[i + 1]\n",
    "        if i > 0:\n",
    "            start_idx = episode_ends[i] + 1\n",
    "\n",
    "        # print(\"seq: \", start_idx, end_idx)\n",
    "\n",
    "        base = np.arange(start_idx, end_idx)[:, None] # [L, 1]\n",
    "\n",
    "        windows = base + window_template # [L, W]\n",
    "\n",
    "        np.clip(windows, start_idx, end_idx, out=windows)\n",
    "\n",
    "        all_windows.append(windows)\n",
    "\n",
    "    return np.concatenate(all_windows, axis=0)"
   ],
   "id": "19158a1594b86593",
   "outputs": [],
   "execution_count": 27
  },
  {
   "metadata": {
    "ExecuteTime": {
     "end_time": "2025-05-07T13:00:10.214115Z",
     "start_time": "2025-05-07T13:00:10.205797Z"
    }
   },
   "cell_type": "code",
   "source": [
    "def normalize_data(data, scale):\n",
    "    return data / scale\n",
    "\n",
    "def denormalize_data(data, scale):\n",
    "    return data * scale\n",
    "\n",
    "class PushTDataset(Dataset):\n",
    "    def __init__(self, data_path, obs_horizon, prediction_horizon, image_size = None):\n",
    "        dataset = zarr.open(data_path, mode=\"r\") # action, img, keypoint, n_contacts, state\n",
    "\n",
    "        image_data = dataset[\"data\"][\"img\"][:] # ndarray [0-255], shape = (total, 96, 96, 3)\n",
    "\n",
    "        self.image_data_transformed = normalize_data(image_data, 255) # ndarray [0-1], shape = (total, 3, 96, 96)\n",
    "\n",
    "        actions_data = dataset[\"data\"][\"action\"][:] # ndarray [0-512], shape = (total, 2)\n",
    "\n",
    "        self.actions_data_transformed = normalize_data(actions_data, 512)\n",
    "\n",
    "        self.episode_ends = dataset[\"episode_ends\"][:]\n",
    "\n",
    "        self.indexes = create_trajectory_indices(self.episode_ends, obs_horizon, prediction_horizon)\n",
    "\n",
    "    def __len__(self):\n",
    "        return len(self.image_data_transformed)\n",
    "\n",
    "    def __getitem__(self, idx):\n",
    "        return torch.from_numpy(data[\"action\"][idx]).float()\n"
   ],
   "id": "81a60b1c16e524f7",
   "outputs": [],
   "execution_count": 31
  },
  {
   "metadata": {
    "ExecuteTime": {
     "end_time": "2025-05-07T13:00:15.630633Z",
     "start_time": "2025-05-07T13:00:11.518357Z"
    }
   },
   "cell_type": "code",
   "source": "dataset = PushTDataset(\"../data/demonstrations_snapshot_1.zarr\", obs_horizon=4, prediction_horizon=8, image_size=None)",
   "id": "123a10464f880e3d",
   "outputs": [
    {
     "name": "stderr",
     "output_type": "stream",
     "text": [
      "100%|██████████| 53/53 [00:00<00:00, 11010.31it/s]\n"
     ]
    }
   ],
   "execution_count": 32
  },
  {
   "metadata": {
    "ExecuteTime": {
     "end_time": "2025-05-07T13:00:24.712748Z",
     "start_time": "2025-05-07T13:00:24.700586Z"
    }
   },
   "cell_type": "code",
   "source": "dataset.indexes[0]",
   "id": "e2e6443f9a02c038",
   "outputs": [
    {
     "data": {
      "text/plain": [
       "array([0, 0, 0, 0, 0, 1, 2, 3, 4, 5, 6, 7, 8])"
      ]
     },
     "execution_count": 34,
     "metadata": {},
     "output_type": "execute_result"
    }
   ],
   "execution_count": 34
  },
  {
   "metadata": {
    "ExecuteTime": {
     "end_time": "2025-05-07T12:45:26.739956Z",
     "start_time": "2025-05-07T12:45:26.650574Z"
    }
   },
   "cell_type": "code",
   "source": [
    "import numpy as np\n",
    "\n",
    "h_left, h_right = 2, 3\n",
    "\n",
    "offsets = np.arange(-h_left, h_right + 1, dtype=np.int32)   # shape (W,)\n",
    "W = offsets.size"
   ],
   "id": "eddc78b4f1ff5f7a",
   "outputs": [],
   "execution_count": 6
  },
  {
   "metadata": {
    "ExecuteTime": {
     "end_time": "2025-05-07T12:45:30.065504Z",
     "start_time": "2025-05-07T12:45:30.060630Z"
    }
   },
   "cell_type": "code",
   "source": "offsets",
   "id": "48374b3ddc3c39c6",
   "outputs": [
    {
     "data": {
      "text/plain": [
       "array([-2, -1,  0,  1,  2,  3], dtype=int32)"
      ]
     },
     "execution_count": 7,
     "metadata": {},
     "output_type": "execute_result"
    }
   ],
   "execution_count": 7
  },
  {
   "metadata": {
    "ExecuteTime": {
     "end_time": "2025-05-07T12:45:30.546447Z",
     "start_time": "2025-05-07T12:45:30.543991Z"
    }
   },
   "cell_type": "code",
   "source": [
    "start = 0\n",
    "\n",
    "end = 12\n",
    "\n",
    "base = np.arange(start, end, dtype=np.int32)[:, None]       # shape (L,1)"
   ],
   "id": "5cf69c76273962cc",
   "outputs": [],
   "execution_count": 8
  },
  {
   "metadata": {
    "ExecuteTime": {
     "end_time": "2025-05-07T12:47:01.060457Z",
     "start_time": "2025-05-07T12:47:01.054020Z"
    }
   },
   "cell_type": "code",
   "source": "print(base)",
   "id": "1103832254e9938d",
   "outputs": [
    {
     "name": "stdout",
     "output_type": "stream",
     "text": [
      "[[ 0]\n",
      " [ 1]\n",
      " [ 2]\n",
      " [ 3]\n",
      " [ 4]\n",
      " [ 5]\n",
      " [ 6]\n",
      " [ 7]\n",
      " [ 8]\n",
      " [ 9]\n",
      " [10]\n",
      " [11]]\n"
     ]
    }
   ],
   "execution_count": 10
  },
  {
   "metadata": {
    "ExecuteTime": {
     "end_time": "2025-05-07T12:50:43.736254Z",
     "start_time": "2025-05-07T12:50:43.730345Z"
    }
   },
   "cell_type": "code",
   "source": "win = base + offsets                                        # shape (L,W)",
   "id": "23e31cac7ffd22fe",
   "outputs": [],
   "execution_count": 15
  },
  {
   "metadata": {
    "ExecuteTime": {
     "end_time": "2025-05-07T12:50:45.449761Z",
     "start_time": "2025-05-07T12:50:45.445630Z"
    }
   },
   "cell_type": "code",
   "source": "win",
   "id": "2806e1d91fbd91e0",
   "outputs": [
    {
     "data": {
      "text/plain": [
       "array([[-2, -1,  0,  1,  2,  3],\n",
       "       [-1,  0,  1,  2,  3,  4],\n",
       "       [ 0,  1,  2,  3,  4,  5],\n",
       "       [ 1,  2,  3,  4,  5,  6],\n",
       "       [ 2,  3,  4,  5,  6,  7],\n",
       "       [ 3,  4,  5,  6,  7,  8],\n",
       "       [ 4,  5,  6,  7,  8,  9],\n",
       "       [ 5,  6,  7,  8,  9, 10],\n",
       "       [ 6,  7,  8,  9, 10, 11],\n",
       "       [ 7,  8,  9, 10, 11, 12],\n",
       "       [ 8,  9, 10, 11, 12, 13],\n",
       "       [ 9, 10, 11, 12, 13, 14]], dtype=int32)"
      ]
     },
     "execution_count": 16,
     "metadata": {},
     "output_type": "execute_result"
    }
   ],
   "execution_count": 16
  },
  {
   "metadata": {
    "ExecuteTime": {
     "end_time": "2025-05-07T12:50:45.714344Z",
     "start_time": "2025-05-07T12:50:45.712169Z"
    }
   },
   "cell_type": "code",
   "source": "clipped_win = np.clip(win, start, end-1, out=win)",
   "id": "46965098fd97b3e5",
   "outputs": [],
   "execution_count": 17
  },
  {
   "metadata": {},
   "cell_type": "code",
   "outputs": [],
   "execution_count": null,
   "source": "",
   "id": "8a7d5b6618c935ae"
  }
 ],
 "metadata": {
  "kernelspec": {
   "display_name": "Python 3",
   "language": "python",
   "name": "python3"
  },
  "language_info": {
   "codemirror_mode": {
    "name": "ipython",
    "version": 2
   },
   "file_extension": ".py",
   "mimetype": "text/x-python",
   "name": "python",
   "nbconvert_exporter": "python",
   "pygments_lexer": "ipython2",
   "version": "2.7.6"
  }
 },
 "nbformat": 4,
 "nbformat_minor": 5
}
