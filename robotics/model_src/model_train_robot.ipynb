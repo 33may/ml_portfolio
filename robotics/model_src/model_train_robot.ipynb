{
 "cells": [
  {
   "metadata": {},
   "cell_type": "markdown",
   "source": "# Load Data",
   "id": "550ac9fd2842a69b"
  },
  {
   "cell_type": "code",
   "id": "initial_id",
   "metadata": {
    "collapsed": true,
    "ExecuteTime": {
     "end_time": "2025-06-03T17:59:19.875724Z",
     "start_time": "2025-06-03T17:59:19.722796Z"
    }
   },
   "source": [
    "import h5py\n",
    "import numpy as np"
   ],
   "outputs": [],
   "execution_count": 1
  },
  {
   "metadata": {
    "ExecuteTime": {
     "end_time": "2025-06-03T21:01:11.202324Z",
     "start_time": "2025-06-03T21:01:11.200370Z"
    }
   },
   "cell_type": "code",
   "source": [
    "data_path = \"../data/robot_demonstrations/RoboTurkPilot/pegs-full/demo.hdf5\"\n",
    "\n",
    "f = h5py.File(\"../data/robot_demonstrations/RoboTurkPilot/pegs-full/demo.hdf5\", \"r\")"
   ],
   "id": "196004755aacf077",
   "outputs": [],
   "execution_count": 25
  },
  {
   "metadata": {
    "ExecuteTime": {
     "end_time": "2025-06-03T18:09:09.685136Z",
     "start_time": "2025-06-03T18:09:09.682083Z"
    }
   },
   "cell_type": "code",
   "source": "data_grp = f[\"data\"]",
   "id": "8d9ad4ccc474e550",
   "outputs": [],
   "execution_count": 3
  },
  {
   "metadata": {
    "ExecuteTime": {
     "end_time": "2025-06-03T18:10:30.456873Z",
     "start_time": "2025-06-03T18:10:30.454362Z"
    }
   },
   "cell_type": "code",
   "source": [
    "date = data_grp.attrs[\"date\"]\n",
    "time = data_grp.attrs[\"time\"]\n",
    "repo_v = data_grp.attrs[\"repository_version\"]\n",
    "env = data_grp.attrs[\"env\"]"
   ],
   "id": "1a5c06c5523440cf",
   "outputs": [],
   "execution_count": 8
  },
  {
   "metadata": {
    "ExecuteTime": {
     "end_time": "2025-06-03T18:11:03.537206Z",
     "start_time": "2025-06-03T18:11:03.534738Z"
    }
   },
   "cell_type": "code",
   "source": "demos = list(data_grp.keys())",
   "id": "8f8623d02904a149",
   "outputs": [],
   "execution_count": 11
  },
  {
   "metadata": {
    "ExecuteTime": {
     "end_time": "2025-06-03T18:11:15.723575Z",
     "start_time": "2025-06-03T18:11:15.722025Z"
    }
   },
   "cell_type": "code",
   "source": "demo_1 = data_grp[demos[0]]",
   "id": "b2190156ae64a6f9",
   "outputs": [],
   "execution_count": 12
  },
  {
   "metadata": {
    "ExecuteTime": {
     "end_time": "2025-06-03T18:14:40.579709Z",
     "start_time": "2025-06-03T18:14:40.577961Z"
    }
   },
   "cell_type": "code",
   "source": "model_file = demo_1.attrs[\"model_file\"]",
   "id": "3056a4710b1bf8e3",
   "outputs": [],
   "execution_count": 19
  },
  {
   "metadata": {
    "ExecuteTime": {
     "end_time": "2025-06-03T18:15:47.622064Z",
     "start_time": "2025-06-03T18:15:47.620232Z"
    }
   },
   "cell_type": "code",
   "source": "items = list(demo_1.keys())",
   "id": "a7f6f67b72b47bc6",
   "outputs": [],
   "execution_count": 24
  },
  {
   "metadata": {
    "ExecuteTime": {
     "end_time": "2025-06-03T18:15:11.458992Z",
     "start_time": "2025-06-03T18:15:11.455821Z"
    }
   },
   "cell_type": "code",
   "source": "states_array = demo_1[\"states\"][:]",
   "id": "fe7773bca8c48262",
   "outputs": [],
   "execution_count": 23
  },
  {
   "metadata": {
    "ExecuteTime": {
     "end_time": "2025-06-03T21:13:25.142111Z",
     "start_time": "2025-06-03T21:13:06.968394Z"
    }
   },
   "cell_type": "code",
   "source": [
    "from torch.utils.data import Dataset\n",
    "\n",
    "\n",
    "# ---------- dataset -----------------------------------------------------------\n",
    "class SawyerDataset(Dataset):\n",
    "    \"\"\"\n",
    "    PyTorch dataset that returns:\n",
    "    All indices are pre‑computed once in create_trajectory_indices().\n",
    "    \"\"\"\n",
    "    def __init__(self, data_path, horizon_left = 2, horizon_right = 8, image_size = None, limit_demo = None):\n",
    "\n",
    "        f = h5py.File(data_path, \"r\")\n",
    "\n",
    "        data_grp = f[\"data\"]\n",
    "\n",
    "        demos = list(data_grp.keys())\n",
    "\n",
    "        all_windows = []\n",
    "\n",
    "        if limit_demo and len(demos) < limit_demo:\n",
    "            demos = demos[:limit_demo]\n",
    "\n",
    "        for demo in demos:\n",
    "            demo_data = data_grp[demo]\n",
    "\n",
    "\n",
    "            # get data\n",
    "\n",
    "            states = demo_data[\"states\"][:]\n",
    "\n",
    "\n",
    "            traj_len, _ = states.shape\n",
    "\n",
    "            window_template = np.arange(-horizon_left, horizon_right + 1) # [W,]\n",
    "\n",
    "            base = np.arange(0, traj_len - 1)[:, None]\n",
    "\n",
    "            print(33)\n",
    "\n",
    "            windows = base + window_template\n",
    "\n",
    "            np.clip(windows, 0, traj_len, out=windows)\n",
    "\n",
    "            print(33)\n",
    "\n",
    "\n",
    "\n",
    "\n",
    "\n",
    "\n",
    "            # gripper_actuation = demo_data[\"gripper_actuation\"][:]\n",
    "\n",
    "            joint_velocities = demo_data[\"joint_velocities\"][:]\n",
    "\n",
    "            left_dpos = demo_data[\"left_dpos\"][:]\n",
    "\n",
    "            left_dquat = demo_data[\"left_dquat\"][:]\n",
    "\n",
    "            right_dpos = demo_data[\"right_dpos\"][:]\n",
    "\n",
    "            right_dquat = demo_data[\"right_dquat\"][:]\n",
    "\n",
    "            # states logic\n",
    "            # I work only with indices states[idx, :] so the only shape that is essential is the len of the trajectory\n",
    "\n",
    "\n",
    "\n",
    "\n",
    "\n",
    "\n",
    "\n",
    "\n",
    "\n",
    "\n",
    "\n",
    "    # # total number of windows\n",
    "    # def __len__(self):\n",
    "    #     return len(self.indexes)\n",
    "    #\n",
    "    # # slice arrays by pre‑computed row of indices\n",
    "    # def __getitem__(self, idx):\n",
    "    #     trajectory_idx = self.indexes[idx]\n",
    "    #\n",
    "    #     img_obs  = self.image_data_transformed[trajectory_idx[:self.obs_horizon + 1]]\n",
    "    #     act_obs  = self.actions_data_transformed[trajectory_idx[:self.obs_horizon + 1]]\n",
    "    #     act_pred = self.actions_data_transformed[trajectory_idx[self.obs_horizon + 1:]]\n",
    "    #\n",
    "    #     return {\n",
    "    #         \"img_obs\" : img_obs,\n",
    "    #         \"act_obs\" : act_obs,\n",
    "    #         \"act_pred\" : act_pred,\n",
    "    #     }\n",
    "\n",
    "\n",
    "ds = SawyerDataset(data_path=data_path, horizon_left=2, horizon_right=8)"
   ],
   "id": "3c2b72b3b1ae6931",
   "outputs": [
    {
     "name": "stdout",
     "output_type": "stream",
     "text": [
      "33\n",
      "33\n"
     ]
    },
    {
     "ename": "KeyboardInterrupt",
     "evalue": "",
     "output_type": "error",
     "traceback": [
      "\u001B[31m---------------------------------------------------------------------------\u001B[39m",
      "\u001B[31mKeyboardInterrupt\u001B[39m                         Traceback (most recent call last)",
      "\u001B[36mCell\u001B[39m\u001B[36m \u001B[39m\u001B[32mIn[32]\u001B[39m\u001B[32m, line 95\u001B[39m\n\u001B[32m     61\u001B[39m             right_dquat = demo_data[\u001B[33m\"\u001B[39m\u001B[33mright_dquat\u001B[39m\u001B[33m\"\u001B[39m][:]\n\u001B[32m     63\u001B[39m             \u001B[38;5;66;03m# states logic\u001B[39;00m\n\u001B[32m     64\u001B[39m             \u001B[38;5;66;03m# I work only with indices states[idx, :] so the only shape that is essential is the len of the trajectory\u001B[39;00m\n\u001B[32m     65\u001B[39m \n\u001B[32m   (...)\u001B[39m\u001B[32m     91\u001B[39m     \u001B[38;5;66;03m#         \"act_pred\" : act_pred,\u001B[39;00m\n\u001B[32m     92\u001B[39m     \u001B[38;5;66;03m#     }\u001B[39;00m\n\u001B[32m---> \u001B[39m\u001B[32m95\u001B[39m ds = \u001B[43mSawyerDataset\u001B[49m\u001B[43m(\u001B[49m\u001B[43mdata_path\u001B[49m\u001B[43m=\u001B[49m\u001B[43mdata_path\u001B[49m\u001B[43m,\u001B[49m\u001B[43m \u001B[49m\u001B[43mhorizon_left\u001B[49m\u001B[43m=\u001B[49m\u001B[32;43m2\u001B[39;49m\u001B[43m,\u001B[49m\u001B[43m \u001B[49m\u001B[43mhorizon_right\u001B[49m\u001B[43m=\u001B[49m\u001B[32;43m8\u001B[39;49m\u001B[43m)\u001B[49m\n",
      "\u001B[36mCell\u001B[39m\u001B[36m \u001B[39m\u001B[32mIn[32]\u001B[39m\u001B[32m, line 61\u001B[39m, in \u001B[36mSawyerDataset.__init__\u001B[39m\u001B[34m(self, data_path, horizon_left, horizon_right, image_size, limit_demo)\u001B[39m\n\u001B[32m     57\u001B[39m left_dquat = demo_data[\u001B[33m\"\u001B[39m\u001B[33mleft_dquat\u001B[39m\u001B[33m\"\u001B[39m][:]\n\u001B[32m     59\u001B[39m right_dpos = demo_data[\u001B[33m\"\u001B[39m\u001B[33mright_dpos\u001B[39m\u001B[33m\"\u001B[39m][:]\n\u001B[32m---> \u001B[39m\u001B[32m61\u001B[39m right_dquat = \u001B[43mdemo_data\u001B[49m\u001B[43m[\u001B[49m\u001B[33;43m\"\u001B[39;49m\u001B[33;43mright_dquat\u001B[39;49m\u001B[33;43m\"\u001B[39;49m\u001B[43m]\u001B[49m[:]\n",
      "\u001B[36mFile \u001B[39m\u001B[32mh5py/_objects.pyx:54\u001B[39m, in \u001B[36mh5py._objects.with_phil.wrapper\u001B[39m\u001B[34m()\u001B[39m\n",
      "\u001B[36mFile \u001B[39m\u001B[32mh5py/_objects.pyx:55\u001B[39m, in \u001B[36mh5py._objects.with_phil.wrapper\u001B[39m\u001B[34m()\u001B[39m\n",
      "\u001B[36mFile \u001B[39m\u001B[32m~/miniconda3/envs/diffusion/lib/python3.12/site-packages/h5py/_hl/group.py:369\u001B[39m, in \u001B[36mGroup.__getitem__\u001B[39m\u001B[34m(self, name)\u001B[39m\n\u001B[32m    367\u001B[39m     \u001B[38;5;28;01mreturn\u001B[39;00m Group(oid)\n\u001B[32m    368\u001B[39m \u001B[38;5;28;01melif\u001B[39;00m otype == h5i.DATASET:\n\u001B[32m--> \u001B[39m\u001B[32m369\u001B[39m     \u001B[38;5;28;01mreturn\u001B[39;00m dataset.Dataset(oid, readonly=(\u001B[38;5;28;43mself\u001B[39;49m\u001B[43m.\u001B[49m\u001B[43mfile\u001B[49m.mode == \u001B[33m'\u001B[39m\u001B[33mr\u001B[39m\u001B[33m'\u001B[39m))\n\u001B[32m    370\u001B[39m \u001B[38;5;28;01melif\u001B[39;00m otype == h5i.DATATYPE:\n\u001B[32m    371\u001B[39m     \u001B[38;5;28;01mreturn\u001B[39;00m datatype.Datatype(oid)\n",
      "\u001B[36mFile \u001B[39m\u001B[32m~/miniconda3/envs/diffusion/lib/python3.12/site-packages/h5py/_hl/base.py:283\u001B[39m, in \u001B[36mHLObject.file\u001B[39m\u001B[34m(self)\u001B[39m\n\u001B[32m    281\u001B[39m \u001B[38;5;28;01mfrom\u001B[39;00m\u001B[38;5;250m \u001B[39m\u001B[34;01m.\u001B[39;00m\u001B[38;5;250m \u001B[39m\u001B[38;5;28;01mimport\u001B[39;00m files\n\u001B[32m    282\u001B[39m \u001B[38;5;28;01mwith\u001B[39;00m phil:\n\u001B[32m--> \u001B[39m\u001B[32m283\u001B[39m     \u001B[38;5;28;01mreturn\u001B[39;00m \u001B[43mfiles\u001B[49m\u001B[43m.\u001B[49m\u001B[43mFile\u001B[49m\u001B[43m(\u001B[49m\u001B[38;5;28;43mself\u001B[39;49m\u001B[43m.\u001B[49m\u001B[43mid\u001B[49m\u001B[43m)\u001B[49m\n",
      "\u001B[36mFile \u001B[39m\u001B[32m~/miniconda3/envs/diffusion/lib/python3.12/site-packages/h5py/_hl/files.py:527\u001B[39m, in \u001B[36mFile.__init__\u001B[39m\u001B[34m(self, name, mode, driver, libver, userblock_size, swmr, rdcc_nslots, rdcc_nbytes, rdcc_w0, track_order, fs_strategy, fs_persist, fs_threshold, fs_page_size, page_buf_size, min_meta_keep, min_raw_keep, locking, alignment_threshold, alignment_interval, meta_block_size, **kwds)\u001B[39m\n\u001B[32m    524\u001B[39m         \u001B[38;5;28;01mraise\u001B[39;00m \u001B[38;5;167;01mValueError\u001B[39;00m(\u001B[33m\"\u001B[39m\u001B[33mUnable to set file space strategy of an existing file\u001B[39m\u001B[33m\"\u001B[39m)\n\u001B[32m    526\u001B[39m     \u001B[38;5;28;01mwith\u001B[39;00m phil:\n\u001B[32m--> \u001B[39m\u001B[32m527\u001B[39m         fid = \u001B[43mh5i\u001B[49m\u001B[43m.\u001B[49m\u001B[43mget_file_id\u001B[49m\u001B[43m(\u001B[49m\u001B[43mname\u001B[49m\u001B[43m)\u001B[49m\n\u001B[32m    528\u001B[39m \u001B[38;5;28;01melse\u001B[39;00m:\n\u001B[32m    529\u001B[39m     \u001B[38;5;28;01mif\u001B[39;00m \u001B[38;5;28mhasattr\u001B[39m(name, \u001B[33m'\u001B[39m\u001B[33mread\u001B[39m\u001B[33m'\u001B[39m) \u001B[38;5;129;01mand\u001B[39;00m \u001B[38;5;28mhasattr\u001B[39m(name, \u001B[33m'\u001B[39m\u001B[33mseek\u001B[39m\u001B[33m'\u001B[39m):\n",
      "\u001B[36mFile \u001B[39m\u001B[32mh5py/_objects.pyx:54\u001B[39m, in \u001B[36mh5py._objects.with_phil.wrapper\u001B[39m\u001B[34m()\u001B[39m\n",
      "\u001B[36mFile \u001B[39m\u001B[32mh5py/_objects.pyx:55\u001B[39m, in \u001B[36mh5py._objects.with_phil.wrapper\u001B[39m\u001B[34m()\u001B[39m\n",
      "\u001B[36mFile \u001B[39m\u001B[32mh5py/h5i.pyx:119\u001B[39m, in \u001B[36mh5py.h5i.get_file_id\u001B[39m\u001B[34m()\u001B[39m\n",
      "\u001B[36mFile \u001B[39m\u001B[32mh5py/h5g.pyx:281\u001B[39m, in \u001B[36mh5py.h5g.GroupID.__init__\u001B[39m\u001B[34m()\u001B[39m\n",
      "\u001B[36mFile \u001B[39m\u001B[32mh5py/h5g.pyx:282\u001B[39m, in \u001B[36mh5py.h5g.GroupID.__init__\u001B[39m\u001B[34m()\u001B[39m\n",
      "\u001B[36mFile \u001B[39m\u001B[32m<frozen importlib._bootstrap>:645\u001B[39m, in \u001B[36mparent\u001B[39m\u001B[34m(self)\u001B[39m\n",
      "\u001B[36mFile \u001B[39m\u001B[32m~/.local/share/JetBrains/Toolbox/apps/pycharm-professional/plugins/python-ce/helpers/pydev/_pydevd_bundle/pydevd_trace_dispatch_regular.py:366\u001B[39m, in \u001B[36mThreadTracer.__call__\u001B[39m\u001B[34m(self, frame, event, arg)\u001B[39m\n\u001B[32m    363\u001B[39m         \u001B[38;5;28mself\u001B[39m._args = args\n\u001B[32m    364\u001B[39m \u001B[38;5;66;03m# ENDIF\u001B[39;00m\n\u001B[32m--> \u001B[39m\u001B[32m366\u001B[39m     \u001B[38;5;28;01mdef\u001B[39;00m\u001B[38;5;250m \u001B[39m\u001B[34m__call__\u001B[39m(\u001B[38;5;28mself\u001B[39m, frame, event, arg):\n\u001B[32m    367\u001B[39m \u001B[38;5;250m        \u001B[39m\u001B[33;03m''' This is the callback used when we enter some context in the debugger.\u001B[39;00m\n\u001B[32m    368\u001B[39m \n\u001B[32m    369\u001B[39m \u001B[33;03m        We also decorate the thread we are in with info about the debugging.\u001B[39;00m\n\u001B[32m   (...)\u001B[39m\u001B[32m    377\u001B[39m \u001B[33;03m            This is the global debugger (this method should actually be added as a method to it).\u001B[39;00m\n\u001B[32m    378\u001B[39m \u001B[33;03m        '''\u001B[39;00m\n\u001B[32m    379\u001B[39m         \u001B[38;5;66;03m# IFDEF CYTHON\u001B[39;00m\n\u001B[32m    380\u001B[39m         \u001B[38;5;66;03m# cdef str filename;\u001B[39;00m\n\u001B[32m    381\u001B[39m         \u001B[38;5;66;03m# cdef str base;\u001B[39;00m\n\u001B[32m   (...)\u001B[39m\u001B[32m    388\u001B[39m         \u001B[38;5;66;03m# ENDIF\u001B[39;00m\n\u001B[32m    389\u001B[39m         \u001B[38;5;66;03m# print('ENTER: trace_dispatch', frame.f_code.co_filename, frame.f_lineno, event, frame.f_code.co_name)\u001B[39;00m\n",
      "\u001B[31mKeyboardInterrupt\u001B[39m: "
     ]
    }
   ],
   "execution_count": 32
  }
 ],
 "metadata": {
  "kernelspec": {
   "display_name": "Python 3",
   "language": "python",
   "name": "python3"
  },
  "language_info": {
   "codemirror_mode": {
    "name": "ipython",
    "version": 2
   },
   "file_extension": ".py",
   "mimetype": "text/x-python",
   "name": "python",
   "nbconvert_exporter": "python",
   "pygments_lexer": "ipython2",
   "version": "2.7.6"
  }
 },
 "nbformat": 4,
 "nbformat_minor": 5
}
