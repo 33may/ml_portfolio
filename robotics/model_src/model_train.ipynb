{
 "cells": [
  {
   "cell_type": "code",
   "execution_count": null,
   "id": "initial_id",
   "metadata": {
    "collapsed": true
   },
   "outputs": [],
   "source": [
    "from robotics.model_src.visual_encoder import CLIPVisualEncoder\n",
    "\n",
    "visual_encoder = CLIPVisualEncoder()\n",
    "\n",
    "emd_size = visual_encoder.get_output_shape()\n",
    "\n",
    "action_size = 2\n",
    "\n",
    "noise_prediction_model = ConditionalUnet1D"
   ]
  }
 ],
 "metadata": {
  "kernelspec": {
   "display_name": "Python 3",
   "language": "python",
   "name": "python3"
  },
  "language_info": {
   "codemirror_mode": {
    "name": "ipython",
    "version": 2
   },
   "file_extension": ".py",
   "mimetype": "text/x-python",
   "name": "python",
   "nbconvert_exporter": "python",
   "pygments_lexer": "ipython2",
   "version": "2.7.6"
  }
 },
 "nbformat": 4,
 "nbformat_minor": 5
}
