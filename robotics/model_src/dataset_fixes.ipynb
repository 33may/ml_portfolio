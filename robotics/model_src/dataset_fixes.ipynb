{
 "cells": [
  {
   "cell_type": "code",
   "id": "b5f3ebbb25e9dbd2",
   "metadata": {
    "ExecuteTime": {
     "end_time": "2025-06-23T22:24:25.009516Z",
     "start_time": "2025-06-23T22:24:24.115922Z"
    }
   },
   "source": [
    "import numpy as np\n",
    "import torch"
   ],
   "outputs": [],
   "execution_count": 2
  },
  {
   "metadata": {
    "ExecuteTime": {
     "end_time": "2025-06-23T22:24:25.415228Z",
     "start_time": "2025-06-23T22:24:25.361678Z"
    }
   },
   "cell_type": "code",
   "source": [
    "%load_ext autoreload\n",
    "%autoreload 2"
   ],
   "id": "ec9dc08ef6db863c",
   "outputs": [],
   "execution_count": 3
  },
  {
   "metadata": {
    "ExecuteTime": {
     "end_time": "2025-06-23T22:24:25.684279Z",
     "start_time": "2025-06-23T22:24:25.646653Z"
    }
   },
   "cell_type": "code",
   "source": [
    "import h5py\n",
    "\n",
    "data_path = \"../robomimic/datasets/tool_hang/ph/image_agent.hdf5\"\n",
    "\n",
    "f = h5py.File(data_path, \"r\")\n",
    "\n",
    "data = f[\"data\"]"
   ],
   "id": "43a05fd449339aa0",
   "outputs": [],
   "execution_count": 4
  },
  {
   "metadata": {
    "ExecuteTime": {
     "end_time": "2025-06-23T22:24:26.825007Z",
     "start_time": "2025-06-23T22:24:26.638634Z"
    }
   },
   "cell_type": "code",
   "source": [
    "from robotics.model_src.dataset import RobosuiteImageActionDataset, RobosuiteImageActionDatasetMem, normalize_data\n",
    "\n",
    "camera_type = \"agentview\"\n",
    "\n",
    "pred_horizon = 8\n",
    "obs_horizon = 1\n",
    "\n",
    "ds = RobosuiteImageActionDatasetMem(data_path, camera_type, obs_horizon=obs_horizon, pred_horizon=pred_horizon)"
   ],
   "id": "d7f2849c799b1196",
   "outputs": [
    {
     "name": "stderr",
     "output_type": "stream",
     "text": [
      "100%|██████████| 200/200 [00:00<00:00, 53089.10it/s]\n"
     ]
    }
   ],
   "execution_count": 5
  },
  {
   "metadata": {
    "collapsed": true,
    "ExecuteTime": {
     "end_time": "2025-06-23T22:24:32.205505Z",
     "start_time": "2025-06-23T22:24:29.492064Z"
    }
   },
   "cell_type": "code",
   "source": [
    "import torch\n",
    "\n",
    "val_ratio = 0.2\n",
    "n_total = len(ds)\n",
    "n_val = int(n_total * val_ratio)\n",
    "n_train = n_total - n_val\n",
    "\n",
    "generator = torch.Generator().manual_seed(33)\n",
    "train_set, val_set = torch.utils.data.random_split(\n",
    "    ds, [n_train, n_val], generator=generator)\n",
    "\n",
    "train_loader = torch.utils.data.DataLoader(\n",
    "    train_set, batch_size=224, shuffle=True,\n",
    "    num_workers=4, pin_memory=True, persistent_workers=True)\n",
    "\n",
    "val_loader = torch.utils.data.DataLoader(\n",
    "    val_set, batch_size=224, shuffle=False,\n",
    "    num_workers=4, pin_memory=True, persistent_workers=True)\n",
    "\n",
    "# visualize data in batch\n",
    "batch = next(iter(train_loader))\n",
    "print(\"batch['image'].shape:\", batch['img_obs'].shape)\n",
    "print(\"batch['act_obs'].shape:\", batch['act_obs'].shape)\n",
    "print(\"batch['act_pred'].shape\", batch['act_pred'].shape)"
   ],
   "id": "initial_id",
   "outputs": [
    {
     "name": "stdout",
     "output_type": "stream",
     "text": [
      "batch['image'].shape: torch.Size([224, 2, 3, 224, 224])\n",
      "batch['act_obs'].shape: torch.Size([224, 2, 7])\n",
      "batch['act_pred'].shape torch.Size([224, 8, 7])\n"
     ]
    }
   ],
   "execution_count": 6
  },
  {
   "metadata": {
    "ExecuteTime": {
     "end_time": "2025-06-23T22:24:45.889126Z",
     "start_time": "2025-06-23T22:24:45.882145Z"
    }
   },
   "cell_type": "code",
   "source": [
    "import os, h5py, numpy as np, tqdm, torch\n",
    "from torch.utils.data import Dataset, DataLoader\n",
    "\n",
    "# пути к файлам\n",
    "SRC_H5  = \"../robomimic/datasets/tool_hang/ph/image_agent.hdf5\"   # исходный heavy-HDF5\n",
    "FLAT_H5 = \"../robomimic/datasets/tool_hang/ph/flat_f16.hdf5\"                                       # куда пишем «плоский» файл\n",
    "\n",
    "CAMERA  = \"agentview\"                                             # если другая камера — поменять\n",
    "OH, PH  = 1, 8                                                    # горизонты наблюдения / предсказания\n",
    "BATCH   = 224                                                     # размер батча под вашу GPU\n"
   ],
   "id": "4f875c301ec2949c",
   "outputs": [],
   "execution_count": 8
  },
  {
   "metadata": {
    "ExecuteTime": {
     "end_time": "2025-06-23T22:05:30.061276Z",
     "start_time": "2025-06-23T21:53:10.413456Z"
    }
   },
   "cell_type": "code",
   "source": [
    "from robotics.model_src.dataset import create_trajectory_indices\n",
    "\n",
    "cam_raw  = f\"{CAMERA}_image\"\n",
    "cam_norm = f\"{CAMERA}_image_norm\"\n",
    "\n",
    "with h5py.File(SRC_H5, \"r\") as s, h5py.File(FLAT_H5, \"w\") as d:\n",
    "    demos = list(s[\"data\"].values())\n",
    "    N     = sum(len(dd[\"actions\"]) for dd in demos)\n",
    "    H,W   = demos[0][\"obs\"][cam_raw].shape[1:3]\n",
    "\n",
    "    img = d.create_dataset(\"img\", (N,3,H,W), \"float16\",\n",
    "                           chunks=(1024,3,H,W))   # gzip отключён\n",
    "    act = d.create_dataset(\"act\", (N,7), \"float32\",\n",
    "                           chunks=(4096,7))\n",
    "    ends=[-1]; off=0\n",
    "    for dd in tqdm.tqdm(demos):\n",
    "        n = len(dd[\"actions\"])\n",
    "        img[off:off+n] = np.moveaxis(dd[\"obs\"][cam_raw][:],-1,1).astype(\"f4\")/255\n",
    "        act[off:off+n] = dd[\"actions\"][:]\n",
    "        off+=n; ends.append(off-1)\n",
    "    d[\"episode_ends\"] = np.asarray(ends,np.int64)\n",
    "    d[\"windows\"]      = create_trajectory_indices(np.asarray(ends), OH, PH)\n",
    "\n"
   ],
   "id": "409468566889bc77",
   "outputs": [
    {
     "name": "stderr",
     "output_type": "stream",
     "text": [
      "100%|██████████| 200/200 [12:18<00:00,  3.69s/it]\n",
      "100%|██████████| 200/200 [00:00<00:00, 53762.79it/s]\n"
     ]
    }
   ],
   "execution_count": 7
  },
  {
   "metadata": {
    "ExecuteTime": {
     "end_time": "2025-06-23T22:24:49.214262Z",
     "start_time": "2025-06-23T22:24:49.206470Z"
    }
   },
   "cell_type": "code",
   "source": [
    "class FlatRobosuiteDataset(Dataset):\n",
    "    def __init__(self, path: str, oh=1, ph=8):\n",
    "        self.file_path = path\n",
    "        with h5py.File(path, \"r\") as f:           # откроем ненадолго\n",
    "            self.win = f[\"windows\"][:]            # (N_win, span)\n",
    "        self.img = None                           # откроем в воркере\n",
    "        self.act = None\n",
    "        self.oh, self.ph = oh, ph\n",
    "\n",
    "    def __len__(self):\n",
    "        return len(self.win)\n",
    "\n",
    "    def _lazy_init(self):\n",
    "        # вызываем, если работаем без multiprocessing (num_workers=0)\n",
    "        if self.img is None:\n",
    "            f = h5py.File(self.file_path, \"r\")\n",
    "            self.img = f[\"img\"]\n",
    "            self.act = f[\"act\"]\n",
    "\n",
    "    def __getitem__(self, idx: int):\n",
    "        if self.img is None:                      # для single-process\n",
    "            self._lazy_init()\n",
    "\n",
    "        row, lo, hi = self.win[idx], None, None\n",
    "        lo, hi = row[0], row[-1] + 1\n",
    "        rel    = row - lo\n",
    "\n",
    "        imgs = torch.from_numpy(self.img[lo:hi][rel]).float()  # f16→f32\n",
    "        acts = torch.from_numpy(self.act[lo:hi][rel])\n",
    "\n",
    "        return {\n",
    "            \"img_obs\":  imgs[: self.oh + 1],\n",
    "            \"act_obs\":  acts[: self.oh + 1],\n",
    "            \"act_pred\": acts[self.oh + 1:],\n",
    "        }"
   ],
   "id": "cc90a49f57261d84",
   "outputs": [],
   "execution_count": 9
  },
  {
   "metadata": {
    "ExecuteTime": {
     "end_time": "2025-06-23T22:24:52.066282Z",
     "start_time": "2025-06-23T22:24:52.059566Z"
    }
   },
   "cell_type": "code",
   "source": [
    "# --- функция, которую передадим в DataLoader ---\n",
    "def h5_worker_init(_):\n",
    "    wi = torch.utils.data.get_worker_info()\n",
    "    ds = wi.dataset\n",
    "    f  = h5py.File(ds.file_path, \"r\", libver=\"latest\", swmr=True,\n",
    "                   rdcc_nbytes=64 * 1024 * 1024, rdcc_nslots=1_000_003)\n",
    "    ds.img = f[\"img\"]\n",
    "    ds.act = f[\"act\"]"
   ],
   "id": "db8a3c45b002174b",
   "outputs": [],
   "execution_count": 10
  },
  {
   "metadata": {
    "ExecuteTime": {
     "end_time": "2025-06-23T22:24:52.909618Z",
     "start_time": "2025-06-23T22:24:52.896792Z"
    }
   },
   "cell_type": "code",
   "source": [
    "ds = FlatRobosuiteDataset(FLAT_H5, OH, PH)\n",
    "print(f\"Окон всего: {len(ds):,}\")\n",
    "\n",
    "loader = DataLoader(\n",
    "    ds, batch_size=BATCH, shuffle=True,\n",
    "    num_workers=os.cpu_count() // 2,\n",
    "    pin_memory=True, prefetch_factor=4,\n",
    "    persistent_workers=True, worker_init_fn=h5_worker_init\n",
    ")"
   ],
   "id": "e607bb9e768d63b3",
   "outputs": [
    {
     "name": "stdout",
     "output_type": "stream",
     "text": [
      "Окон всего: 95,762\n"
     ]
    }
   ],
   "execution_count": 11
  },
  {
   "metadata": {
    "ExecuteTime": {
     "end_time": "2025-06-23T22:05:40.205605Z",
     "start_time": "2025-06-23T22:05:40.186655Z"
    }
   },
   "cell_type": "code",
   "source": [
    "import time\n",
    "\n",
    "t0 = time.perf_counter()\n",
    "for i, _ in enumerate(loader):\n",
    "    if i == 10: break\n",
    "print(f\"Скорость ≈ {10/(time.perf_counter()-t0):.1f} батчей/с \"\n",
    "      f\"при batch={BATCH}\")"
   ],
   "id": "d8f943bc1a8876ea",
   "outputs": [
    {
     "ename": "NameError",
     "evalue": "name 'time' is not defined",
     "output_type": "error",
     "traceback": [
      "\u001B[31m---------------------------------------------------------------------------\u001B[39m",
      "\u001B[31mNameError\u001B[39m                                 Traceback (most recent call last)",
      "\u001B[36mCell\u001B[39m\u001B[36m \u001B[39m\u001B[32mIn[10]\u001B[39m\u001B[32m, line 1\u001B[39m\n\u001B[32m----> \u001B[39m\u001B[32m1\u001B[39m t0 = \u001B[43mtime\u001B[49m.perf_counter()\n\u001B[32m      2\u001B[39m \u001B[38;5;28;01mfor\u001B[39;00m i, _ \u001B[38;5;129;01min\u001B[39;00m \u001B[38;5;28menumerate\u001B[39m(loader):\n\u001B[32m      3\u001B[39m     \u001B[38;5;28;01mif\u001B[39;00m i == \u001B[32m10\u001B[39m: \u001B[38;5;28;01mbreak\u001B[39;00m\n",
      "\u001B[31mNameError\u001B[39m: name 'time' is not defined"
     ]
    }
   ],
   "execution_count": 10
  },
  {
   "metadata": {
    "jupyter": {
     "is_executing": true
    },
    "ExecuteTime": {
     "start_time": "2025-06-23T22:11:12.329137Z"
    }
   },
   "cell_type": "code",
   "source": [
    "batch = next(iter(loader))\n",
    "print(\"img_obs:\",  batch[\"img_obs\"].shape)\n",
    "print(\"act_obs:\",  batch[\"act_obs\"].shape)\n",
    "print(\"act_pred:\", batch[\"act_pred\"].shape)"
   ],
   "id": "2bc0e9135f1bddd9",
   "outputs": [],
   "execution_count": null
  },
  {
   "metadata": {},
   "cell_type": "code",
   "source": [
    "row = ds.win[0]\n",
    "lo, hi = row[0], row[-1] + 1\n",
    "t0 = time.perf_counter()\n",
    "_ = ds.img[lo:hi]         # единичный срез\n",
    "print(\"Чтение блока:\", time.perf_counter() - t0, \"сек\")"
   ],
   "id": "3f9eb924a6a5b48d",
   "outputs": [],
   "execution_count": null
  },
  {
   "metadata": {
    "ExecuteTime": {
     "end_time": "2025-06-23T22:15:22.051123Z",
     "start_time": "2025-06-23T22:15:21.974559Z"
    }
   },
   "cell_type": "code",
   "source": "import numpy as np; np.show_runtime()\n",
   "id": "361e834c065b2160",
   "outputs": [
    {
     "name": "stdout",
     "output_type": "stream",
     "text": [
      "[{'numpy_version': '2.2.4',\n",
      "  'python': '3.12.9 | packaged by Anaconda, Inc. | (main, Feb  6 2025, '\n",
      "            '18:56:27) [GCC 11.2.0]',\n",
      "  'uname': uname_result(system='Linux', node='fedora', release='6.14.11-200.fc41.x86_64', version='#1 SMP PREEMPT_DYNAMIC Tue Jun 10 16:33:19 UTC 2025', machine='x86_64')},\n",
      " {'simd_extensions': {'baseline': ['SSE', 'SSE2', 'SSE3'],\n",
      "                      'found': ['SSSE3',\n",
      "                                'SSE41',\n",
      "                                'POPCNT',\n",
      "                                'SSE42',\n",
      "                                'AVX',\n",
      "                                'F16C',\n",
      "                                'FMA3',\n",
      "                                'AVX2'],\n",
      "                      'not_found': ['AVX512F',\n",
      "                                    'AVX512CD',\n",
      "                                    'AVX512_KNL',\n",
      "                                    'AVX512_KNM',\n",
      "                                    'AVX512_SKX',\n",
      "                                    'AVX512_CLX',\n",
      "                                    'AVX512_CNL',\n",
      "                                    'AVX512_ICL']}},\n",
      " {'architecture': 'Haswell',\n",
      "  'filepath': '/home/may33/miniconda3/envs/diffusion/lib/python3.12/site-packages/numpy.libs/libscipy_openblas64_-6bb31eeb.so',\n",
      "  'internal_api': 'openblas',\n",
      "  'num_threads': 28,\n",
      "  'prefix': 'libscipy_openblas',\n",
      "  'threading_layer': 'pthreads',\n",
      "  'user_api': 'blas',\n",
      "  'version': '0.3.28'}]\n"
     ]
    }
   ],
   "execution_count": 1
  },
  {
   "metadata": {},
   "cell_type": "code",
   "outputs": [],
   "execution_count": null,
   "source": "",
   "id": "bc4ae844df9051f7"
  }
 ],
 "metadata": {
  "kernelspec": {
   "display_name": "Python 3",
   "language": "python",
   "name": "python3"
  },
  "language_info": {
   "codemirror_mode": {
    "name": "ipython",
    "version": 2
   },
   "file_extension": ".py",
   "mimetype": "text/x-python",
   "name": "python",
   "nbconvert_exporter": "python",
   "pygments_lexer": "ipython2",
   "version": "2.7.6"
  }
 },
 "nbformat": 4,
 "nbformat_minor": 5
}
