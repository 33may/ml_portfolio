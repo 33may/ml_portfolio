{
 "cells": [
  {
   "metadata": {
    "ExecuteTime": {
     "end_time": "2025-05-03T15:35:09.911822Z",
     "start_time": "2025-05-03T15:35:09.867762Z"
    }
   },
   "cell_type": "code",
   "source": "dataset = []",
   "id": "71f86dff15494e39",
   "outputs": [],
   "execution_count": 29
  },
  {
   "metadata": {
    "ExecuteTime": {
     "end_time": "2025-05-03T15:35:10.401713Z",
     "start_time": "2025-05-03T15:35:10.377493Z"
    }
   },
   "cell_type": "code",
   "source": [
    "%load_ext autoreload\n",
    "%autoreload 2"
   ],
   "id": "53fd0b3be7ea3769",
   "outputs": [
    {
     "name": "stdout",
     "output_type": "stream",
     "text": [
      "The autoreload extension is already loaded. To reload it, use:\n",
      "  %reload_ext autoreload\n"
     ]
    }
   ],
   "execution_count": 30
  },
  {
   "cell_type": "code",
   "id": "initial_id",
   "metadata": {
    "collapsed": true,
    "ExecuteTime": {
     "end_time": "2025-05-03T15:35:16.645035Z",
     "start_time": "2025-05-03T15:35:10.915115Z"
    }
   },
   "source": [
    "import time\n",
    "\n",
    "from gym_pusht.envs import PushTEnv\n",
    "import gymnasium as gym\n",
    "import gym_pusht\n",
    "import numpy as np\n",
    "\n",
    "env = PushTEnv(obs_type=\"pixels\", render_mode=\"human\", goal_pose=\"random\")\n",
    "teleop = env.teleop_agent()\n",
    "\n",
    "obs, info = env.reset()\n",
    "\n",
    "print(env.get_goal_pose())\n",
    "done = False\n",
    "\n",
    "while True:\n",
    "    time.sleep(0.1)\n",
    "    action = teleop.act(obs)\n",
    "\n",
    "    if action is not None:\n",
    "        next_obs, reward, terminated, truncated, info = env.step(action)\n",
    "\n",
    "        done = terminated or truncated\n",
    "        dataset.append((obs, action, reward, done, next_obs))\n",
    "        obs = next_obs\n",
    "\n",
    "\n",
    "        if done:\n",
    "            obs, info = env.reset()  # start a new episode\n",
    "            done = False\n",
    "\n",
    "    # Optional: render the environment at each iteration\n",
    "    env.render()\n"
   ],
   "outputs": [
    {
     "name": "stdout",
     "output_type": "stream",
     "text": [
      "[227.61855048 169.95058664   2.74069148]\n"
     ]
    },
    {
     "ename": "KeyboardInterrupt",
     "evalue": "",
     "output_type": "error",
     "traceback": [
      "\u001B[31m---------------------------------------------------------------------------\u001B[39m",
      "\u001B[31mKeyboardInterrupt\u001B[39m                         Traceback (most recent call last)",
      "\u001B[36mCell\u001B[39m\u001B[36m \u001B[39m\u001B[32mIn[31]\u001B[39m\u001B[32m, line 33\u001B[39m\n\u001B[32m     30\u001B[39m         done = \u001B[38;5;28;01mFalse\u001B[39;00m\n\u001B[32m     32\u001B[39m \u001B[38;5;66;03m# Optional: render the environment at each iteration\u001B[39;00m\n\u001B[32m---> \u001B[39m\u001B[32m33\u001B[39m \u001B[43menv\u001B[49m\u001B[43m.\u001B[49m\u001B[43mrender\u001B[49m\u001B[43m(\u001B[49m\u001B[43m)\u001B[49m\n",
      "\u001B[36mFile \u001B[39m\u001B[32m~/projects/robot_dev/model/gym_pusht/envs/pusht.py:340\u001B[39m, in \u001B[36mPushTEnv.render\u001B[39m\u001B[34m(self)\u001B[39m\n\u001B[32m    339\u001B[39m \u001B[38;5;28;01mdef\u001B[39;00m\u001B[38;5;250m \u001B[39m\u001B[34mrender\u001B[39m(\u001B[38;5;28mself\u001B[39m):\n\u001B[32m--> \u001B[39m\u001B[32m340\u001B[39m     \u001B[38;5;28;01mreturn\u001B[39;00m \u001B[38;5;28;43mself\u001B[39;49m\u001B[43m.\u001B[49m\u001B[43m_render\u001B[49m\u001B[43m(\u001B[49m\u001B[43mvisualize\u001B[49m\u001B[43m=\u001B[49m\u001B[38;5;28;43;01mTrue\u001B[39;49;00m\u001B[43m)\u001B[49m\n",
      "\u001B[36mFile \u001B[39m\u001B[32m<string>:18\u001B[39m, in \u001B[36m_render\u001B[39m\u001B[34m(self, visualize)\u001B[39m\n",
      "\u001B[36mFile \u001B[39m\u001B[32m~/projects/robot_dev/model/gym_pusht/envs/pusht.py:321\u001B[39m, in \u001B[36mPushTEnv._get_img\u001B[39m\u001B[34m(self, screen, width, height, render_action)\u001B[39m\n\u001B[32m    320\u001B[39m \u001B[38;5;28;01mdef\u001B[39;00m\u001B[38;5;250m \u001B[39m\u001B[34m_get_img\u001B[39m(\u001B[38;5;28mself\u001B[39m, screen, width, height, render_action=\u001B[38;5;28;01mFalse\u001B[39;00m):\n\u001B[32m--> \u001B[39m\u001B[32m321\u001B[39m     img = np.transpose(\u001B[43mnp\u001B[49m\u001B[43m.\u001B[49m\u001B[43marray\u001B[49m\u001B[43m(\u001B[49m\u001B[43mpygame\u001B[49m\u001B[43m.\u001B[49m\u001B[43msurfarray\u001B[49m\u001B[43m.\u001B[49m\u001B[43mpixels3d\u001B[49m\u001B[43m(\u001B[49m\u001B[43mscreen\u001B[49m\u001B[43m)\u001B[49m\u001B[43m)\u001B[49m, axes=(\u001B[32m1\u001B[39m, \u001B[32m0\u001B[39m, \u001B[32m2\u001B[39m))\n\u001B[32m    322\u001B[39m     img = cv2.resize(img, (width, height))\n\u001B[32m    323\u001B[39m     render_size = \u001B[38;5;28mmin\u001B[39m(width, height)\n",
      "\u001B[31mKeyboardInterrupt\u001B[39m: "
     ]
    }
   ],
   "execution_count": 31
  },
  {
   "metadata": {
    "ExecuteTime": {
     "end_time": "2025-05-03T15:28:47.562667Z",
     "start_time": "2025-05-03T15:28:47.388706Z"
    }
   },
   "cell_type": "code",
   "source": "env.close()",
   "id": "73f449e12391621b",
   "outputs": [],
   "execution_count": 13
  },
  {
   "metadata": {
    "ExecuteTime": {
     "end_time": "2025-05-03T15:35:20.669604Z",
     "start_time": "2025-05-03T15:35:20.646830Z"
    }
   },
   "cell_type": "code",
   "source": "img = dataset[-2][0]",
   "id": "fd118eecadd4ab17",
   "outputs": [],
   "execution_count": 32
  },
  {
   "metadata": {
    "ExecuteTime": {
     "end_time": "2025-05-03T15:36:31.521935Z",
     "start_time": "2025-05-03T15:36:31.380338Z"
    }
   },
   "cell_type": "code",
   "source": [
    "import matplotlib.pyplot as plt\n",
    "\n",
    "plt.imshow(img)"
   ],
   "id": "1264ca2d194c7d26",
   "outputs": [
    {
     "data": {
      "text/plain": [
       "<matplotlib.image.AxesImage at 0x15f05b530>"
      ]
     },
     "execution_count": 34,
     "metadata": {},
     "output_type": "execute_result"
    },
    {
     "data": {
      "text/plain": [
       "<Figure size 640x480 with 1 Axes>"
      ],
      "image/png": "[encoded data removed]"
     },
     "metadata": {},
     "output_type": "display_data"
    }
   ],
   "execution_count": 34
  },
  {
   "metadata": {},
   "cell_type": "code",
   "source": [
    "import pickle\n",
    "import numpy as np\n",
    "\n",
    "# ----- Сохранение -----\n",
    "with open(\"demonstrations.pkl\", \"wb\") as f:\n",
    "    pickle.dump(dataset, f, protocol=pickle.HIGHEST_PROTOCOL)"
   ],
   "id": "6d64689407210e1c",
   "outputs": [],
   "execution_count": null
  },
  {
   "metadata": {},
   "cell_type": "code",
   "outputs": [],
   "execution_count": null,
   "source": "",
   "id": "ae9e0ba4895f9a3d"
  }
 ],
 "metadata": {
  "kernelspec": {
   "display_name": "Python 3",
   "language": "python",
   "name": "python3"
  },
  "language_info": {
   "codemirror_mode": {
    "name": "ipython",
    "version": 2
   },
   "file_extension": ".py",
   "mimetype": "text/x-python",
   "name": "python",
   "nbconvert_exporter": "python",
   "pygments_lexer": "ipython2",
   "version": "2.7.6"
  }
 },
 "nbformat": 4,
 "nbformat_minor": 5
}
