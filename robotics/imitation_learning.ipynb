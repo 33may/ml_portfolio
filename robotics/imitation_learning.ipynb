{
 "cells": [
  {
   "metadata": {
    "ExecuteTime": {
     "end_time": "2025-05-26T15:20:07.964633Z",
     "start_time": "2025-05-26T15:20:07.963241Z"
    }
   },
   "cell_type": "code",
   "source": [
    "actions = []\n",
    "images = []\n",
    "episode_ends = [0]"
   ],
   "id": "71f86dff15494e39",
   "outputs": [],
   "execution_count": 1
  },
  {
   "metadata": {
    "ExecuteTime": {
     "end_time": "2025-05-26T15:37:43.352921Z",
     "start_time": "2025-05-26T15:37:43.338091Z"
    }
   },
   "cell_type": "code",
   "source": [
    "%load_ext autoreload\n",
    "%autoreload 2"
   ],
   "id": "53fd0b3be7ea3769",
   "outputs": [
    {
     "name": "stdout",
     "output_type": "stream",
     "text": [
      "The autoreload extension is already loaded. To reload it, use:\n",
      "  %reload_ext autoreload\n"
     ]
    }
   ],
   "execution_count": 7
  },
  {
   "cell_type": "code",
   "id": "e1e5577a33c15df",
   "metadata": {
    "ExecuteTime": {
     "end_time": "2025-05-26T15:37:43.782666Z",
     "start_time": "2025-05-26T15:37:43.778120Z"
    }
   },
   "source": "import time",
   "outputs": [],
   "execution_count": 8
  },
  {
   "metadata": {
    "collapsed": true,
    "ExecuteTime": {
     "end_time": "2025-05-27T18:04:09.964019Z",
     "start_time": "2025-05-27T18:04:09.254751Z"
    }
   },
   "cell_type": "code",
   "source": [
    "from robotics.gym_pusht.envs.pusht import PushTEnv\n",
    "\n",
    "env = PushTEnv(obs_type=\"pixels\", render_mode=\"human\", goal_pose=\"random\")\n",
    "teleop = env.teleop_agent()\n",
    "obs, info = env.reset()\n",
    "\n",
    "step_in_episode = 0\n",
    "\n",
    "while True:\n",
    "    time.sleep(0.1)\n",
    "    action = teleop.act(obs)\n",
    "\n",
    "    if action is None:\n",
    "        env.render()\n",
    "        continue\n",
    "\n",
    "    images.append(obs)\n",
    "    actions.append(action)\n",
    "\n",
    "    next_obs, reward, terminated, truncated, info = env.step(action)\n",
    "    env.render()\n",
    "    obs = next_obs\n",
    "    step_in_episode += 1\n",
    "\n",
    "    if terminated or truncated:\n",
    "        episode_ends.append(episode_ends[-1] + step_in_episode)\n",
    "        step_in_episode = 0\n",
    "        obs, _ = env.reset()"
   ],
   "id": "initial_id",
   "outputs": [
    {
     "name": "stderr",
     "output_type": "stream",
     "text": [
      "/home/may33/miniconda3/envs/diffusion/lib/python3.12/site-packages/gymnasium/envs/registration.py:644: UserWarning: \u001B[33mWARN: Overriding environment gym_pusht/PushT-v0 already in registry.\u001B[0m\n",
      "  logger.warn(f\"Overriding environment {new_spec.id} already in registry.\")\n"
     ]
    },
    {
     "ename": "NameError",
     "evalue": "name 'time' is not defined",
     "output_type": "error",
     "traceback": [
      "\u001B[31m---------------------------------------------------------------------------\u001B[39m",
      "\u001B[31mNameError\u001B[39m                                 Traceback (most recent call last)",
      "\u001B[36mCell\u001B[39m\u001B[36m \u001B[39m\u001B[32mIn[1]\u001B[39m\u001B[32m, line 10\u001B[39m\n\u001B[32m      7\u001B[39m step_in_episode = \u001B[32m0\u001B[39m\n\u001B[32m      9\u001B[39m \u001B[38;5;28;01mwhile\u001B[39;00m \u001B[38;5;28;01mTrue\u001B[39;00m:\n\u001B[32m---> \u001B[39m\u001B[32m10\u001B[39m     \u001B[43mtime\u001B[49m.sleep(\u001B[32m0.1\u001B[39m)\n\u001B[32m     11\u001B[39m     action = teleop.act(obs)\n\u001B[32m     13\u001B[39m     \u001B[38;5;28;01mif\u001B[39;00m action \u001B[38;5;129;01mis\u001B[39;00m \u001B[38;5;28;01mNone\u001B[39;00m:\n",
      "\u001B[31mNameError\u001B[39m: name 'time' is not defined"
     ]
    }
   ],
   "execution_count": 1
  },
  {
   "metadata": {
    "ExecuteTime": {
     "end_time": "2025-05-27T18:04:14.433091Z",
     "start_time": "2025-05-27T18:04:14.426168Z"
    }
   },
   "cell_type": "code",
   "source": "env.close()",
   "id": "4095dac046b49175",
   "outputs": [],
   "execution_count": 2
  },
  {
   "metadata": {
    "ExecuteTime": {
     "end_time": "2025-05-26T16:30:49.658912Z",
     "start_time": "2025-05-26T16:30:49.607737Z"
    }
   },
   "cell_type": "code",
   "source": [
    "img = images[33]\n",
    "\n",
    "import matplotlib.pyplot as plt\n",
    "\n",
    "plt.imshow(img)"
   ],
   "id": "1264ca2d194c7d26",
   "outputs": [
    {
     "data": {
      "text/plain": [
       "<matplotlib.image.AxesImage at 0x7fc19cc9c2f0>"
      ]
     },
     "execution_count": 28,
     "metadata": {},
     "output_type": "execute_result"
    },
    {
     "data": {
      "text/plain": [
       "<Figure size 640x480 with 1 Axes>"
      ],
      "image/png": "[encoded data removed]"
     },
     "metadata": {},
     "output_type": "display_data"
    }
   ],
   "execution_count": 28
  },
  {
   "metadata": {},
   "cell_type": "markdown",
   "source": "# Save dataset snapshot",
   "id": "b2a6bb21c32c9fc1"
  },
  {
   "metadata": {
    "ExecuteTime": {
     "end_time": "2025-05-26T16:49:42.861823Z",
     "start_time": "2025-05-26T16:49:42.792404Z"
    }
   },
   "cell_type": "code",
   "source": [
    "import zarr\n",
    "import numpy as np"
   ],
   "id": "6d64689407210e1c",
   "outputs": [],
   "execution_count": 37
  },
  {
   "metadata": {},
   "cell_type": "markdown",
   "source": "## Prepare file",
   "id": "2866265363b05168"
  },
  {
   "metadata": {},
   "cell_type": "code",
   "outputs": [],
   "execution_count": null,
   "source": [
    "def save_snapshot(actions, images, episode_ends, version):\n",
    "    file_name = f\"./data/demonstrations_snapshot_{version}.zarr\"\n",
    "\n",
    "    actions_np = np.array(actions)\n",
    "    imgs_np = np.array(images)\n",
    "    episode_ends_np = np.array(episode_ends)\n",
    "\n",
    "    file = zarr.open(file_name, mode=\"w\")\n",
    "    data_group = file.create_group(\"data\")\n",
    "\n",
    "    # 1) action\n",
    "    arr_a = data_group.create_array(\n",
    "        name=\"action\",\n",
    "        shape=actions_np.shape,\n",
    "        dtype=actions_np.dtype,\n",
    "        chunks=actions_np.shape,\n",
    "    )\n",
    "    arr_a[:] = actions_np\n",
    "\n",
    "    # 2) img\n",
    "    arr_i = data_group.create_array(\n",
    "        name=\"img\",\n",
    "        shape=imgs_np.shape,\n",
    "        dtype=imgs_np.dtype,\n",
    "        chunks=imgs_np.shape,\n",
    "    )\n",
    "    arr_i[:] = imgs_np\n",
    "\n",
    "    # 3) episode_ends\n",
    "    arr_e = file.create_array(\n",
    "        name=\"episode_ends\",\n",
    "        shape=episode_ends_np.shape,\n",
    "        dtype=episode_ends_np.dtype,\n",
    "        chunks=episode_ends_np.shape,\n",
    "    )\n",
    "    arr_e[:] = episode_ends_np"
   ],
   "id": "49fa6f9265e0d474"
  },
  {
   "metadata": {
    "ExecuteTime": {
     "end_time": "2025-05-26T16:49:43.719794Z",
     "start_time": "2025-05-26T16:49:43.714537Z"
    }
   },
   "cell_type": "code",
   "source": [
    "dataset_version = 2\n",
    "\n",
    "file_name = f\"./data/demonstrations_snapshot_{dataset_version}.zarr\""
   ],
   "id": "49276aaa7bdf19ca",
   "outputs": [],
   "execution_count": 38
  },
  {
   "metadata": {},
   "cell_type": "markdown",
   "source": "## Prepare data",
   "id": "a5f6e1aa389c32b9"
  },
  {
   "metadata": {
    "ExecuteTime": {
     "end_time": "2025-05-26T16:49:47.888061Z",
     "start_time": "2025-05-26T16:49:45.919016Z"
    }
   },
   "cell_type": "code",
   "source": [
    "actions_np = np.array(actions)\n",
    "imgs_np = np.array(images)\n",
    "episode_ends_np = np.array(episode_ends)"
   ],
   "id": "756adf049a89526c",
   "outputs": [],
   "execution_count": 39
  },
  {
   "metadata": {
    "ExecuteTime": {
     "start_time": "2025-05-26T16:49:47.890268Z"
    }
   },
   "cell_type": "code",
   "source": [
    "file = zarr.open(file_name, mode=\"w\")\n",
    "data_group = file.create_group(\"data\")\n",
    "\n",
    "# 1) action\n",
    "arr_a = data_group.create_array(\n",
    "    name=\"action\",\n",
    "    shape=actions_np.shape,\n",
    "    dtype=actions_np.dtype,\n",
    "    chunks=actions_np.shape,\n",
    ")\n",
    "arr_a[:] = actions_np\n",
    "\n",
    "# 2) img\n",
    "arr_i = data_group.create_array(\n",
    "    name=\"img\",\n",
    "    shape=imgs_np.shape,\n",
    "    dtype=imgs_np.dtype,\n",
    "    chunks=imgs_np.shape,\n",
    ")\n",
    "arr_i[:] = imgs_np\n",
    "\n",
    "# 3) episode_ends\n",
    "arr_e = file.create_array(\n",
    "    name=\"episode_ends\",\n",
    "    shape=episode_ends_np.shape,\n",
    "    dtype=episode_ends_np.dtype,\n",
    "    chunks=episode_ends_np.shape,\n",
    ")\n",
    "arr_e[:] = episode_ends_np"
   ],
   "id": "6653a2de194489d8",
   "outputs": [],
   "execution_count": null
  },
  {
   "metadata": {},
   "cell_type": "markdown",
   "source": "## Test load",
   "id": "797e4ff01f29d7c6"
  },
  {
   "metadata": {
    "ExecuteTime": {
     "end_time": "2025-05-06T17:02:35.991039Z",
     "start_time": "2025-05-06T17:02:34.755355Z"
    }
   },
   "cell_type": "code",
   "source": [
    "import zarr\n",
    "\n",
    "ds = zarr.open(f\"./data/demonstrations_snapshot_{dataset_version}.zarr\", mode=\"r\")\n",
    "\n",
    "actions      = ds[\"data\"][\"action\"][:]        # shape (N, 2)\n",
    "images       = ds[\"data\"][\"img\"][:]           # shape (N, 96, 96, 3)\n",
    "episode_ends = ds[\"episode_ends\"][:]          # shape (M,)\n",
    "\n",
    "print(\"actions:\",      actions.shape, actions.dtype)\n",
    "print(\"images:\",       images.shape,  images.dtype)\n",
    "print(\"episode_ends:\", episode_ends.shape, episode_ends.dtype)\n"
   ],
   "id": "ff056e1841075c9",
   "outputs": [
    {
     "name": "stdout",
     "output_type": "stream",
     "text": [
      "actions: (9086, 2) int64\n",
      "images: (9086, 224, 224, 3) uint8\n",
      "episode_ends: (54,) int64\n"
     ]
    }
   ],
   "execution_count": 40
  },
  {
   "metadata": {},
   "cell_type": "markdown",
   "source": "# Merge snapshots",
   "id": "40b97b52202e96db"
  },
  {
   "metadata": {},
   "cell_type": "code",
   "outputs": [],
   "execution_count": null,
   "source": [
    "def merge_snapshots(version_first, version_second, new_name):\n",
    "    ds1 = zarr.open(f\"./data/demonstrations_snapshot_{version_first}.zarr\", mode=\"r\")\n",
    "\n",
    "    actions_1 = ds1[\"data\"][\"action\"][:]\n",
    "    images_1 = ds1[\"data\"][\"img\"][:]\n",
    "    episode_ends_1 = ds1[\"episode_ends\"][:]\n",
    "\n",
    "    ds2 = zarr.open(f\"./data/demonstrations_snapshot_{version_first}.zarr\", mode=\"r\")\n",
    "\n",
    "    actions_2 = ds2[\"data\"][\"action\"][:]\n",
    "    images_2 = ds2[\"data\"][\"img\"][:]\n",
    "    episode_ends_2 = ds2[\"episode_ends\"][:]\n",
    "\n",
    "\n",
    "    last_item = episode_ends_1[-1]\n",
    "\n",
    "    new_episode_ends2 = last_item + episode_ends_2\n",
    "\n",
    "    all_episode_ends = episode_ends_1 + episode_ends_2\n",
    "    all_images = images_1 + images_2\n",
    "    all_actions = actions_1 + actions_2"
   ],
   "id": "28d52b72c2ae2bb4"
  },
  {
   "metadata": {
    "ExecuteTime": {
     "end_time": "2025-05-27T19:22:36.217411Z",
     "start_time": "2025-05-27T19:22:36.151784Z"
    }
   },
   "cell_type": "code",
   "source": [
    "import torch\n",
    "import os\n",
    "import numpy as np\n",
    "import gdown\n",
    "import zarr\n",
    "\n",
    "\n",
    "\n",
    "def create_sample_indices(\n",
    "        episode_ends:np.ndarray, sequence_length:int,\n",
    "        pad_before: int=0, pad_after: int=0):\n",
    "    indices = list()\n",
    "    for i in range(len(episode_ends)):\n",
    "        start_idx = 0\n",
    "        if i > 0:\n",
    "            start_idx = episode_ends[i-1]\n",
    "        end_idx = episode_ends[i]\n",
    "        episode_length = end_idx - start_idx\n",
    "\n",
    "        min_start = -pad_before\n",
    "        max_start = episode_length - sequence_length + pad_after\n",
    "\n",
    "        # range stops one idx before end\n",
    "        for idx in range(min_start, max_start+1):\n",
    "            buffer_start_idx = max(idx, 0) + start_idx\n",
    "            buffer_end_idx = min(idx+sequence_length, episode_length) + start_idx\n",
    "            start_offset = buffer_start_idx - (idx+start_idx)\n",
    "            end_offset = (idx+sequence_length+start_idx) - buffer_end_idx\n",
    "            sample_start_idx = 0 + start_offset\n",
    "            sample_end_idx = sequence_length - end_offset\n",
    "            indices.append([\n",
    "                buffer_start_idx, buffer_end_idx,\n",
    "                sample_start_idx, sample_end_idx])\n",
    "    indices = np.array(indices)\n",
    "    return indices\n",
    "\n",
    "\n",
    "def sample_sequence(train_data, sequence_length,\n",
    "                    buffer_start_idx, buffer_end_idx,\n",
    "                    sample_start_idx, sample_end_idx):\n",
    "    result = dict()\n",
    "    for key, input_arr in train_data.items():\n",
    "        sample = input_arr[buffer_start_idx:buffer_end_idx]\n",
    "        data = sample\n",
    "        if (sample_start_idx > 0) or (sample_end_idx < sequence_length):\n",
    "            data = np.zeros(\n",
    "                shape=(sequence_length,) + input_arr.shape[1:],\n",
    "                dtype=input_arr.dtype)\n",
    "            if sample_start_idx > 0:\n",
    "                data[:sample_start_idx] = sample[0]\n",
    "            if sample_end_idx < sequence_length:\n",
    "                data[sample_end_idx:] = sample[-1]\n",
    "            data[sample_start_idx:sample_end_idx] = sample\n",
    "        result[key] = data\n",
    "    return result\n",
    "\n",
    "# normalize data\n",
    "def get_data_stats(data):\n",
    "    data = data.reshape(-1,data.shape[-1])\n",
    "    stats = {\n",
    "        'min': np.min(data, axis=0),\n",
    "        'max': np.max(data, axis=0)\n",
    "    }\n",
    "    return stats\n",
    "\n",
    "def normalize_data(data, stats):\n",
    "    # nomalize to [0,1]\n",
    "    ndata = (data - stats['min']) / (stats['max'] - stats['min'])\n",
    "    # normalize to [-1, 1]\n",
    "    ndata = ndata * 2 - 1\n",
    "    return ndata\n",
    "\n",
    "def unnormalize_data(ndata, stats):\n",
    "    ndata = (ndata + 1) / 2\n",
    "    data = ndata * (stats['max'] - stats['min']) + stats['min']\n",
    "    return data\n",
    "\n",
    "# dataset\n",
    "class PushTImageDataset(torch.utils.data.Dataset):\n",
    "    def __init__(self,\n",
    "                 dataset_path: str,\n",
    "                 pred_horizon: int,\n",
    "                 obs_horizon: int,\n",
    "                 action_horizon: int):\n",
    "\n",
    "        # read from zarr dataset\n",
    "        dataset_root = zarr.open(dataset_path, 'r')\n",
    "\n",
    "        # float32, [0,1], (N,96,96,3)\n",
    "        train_image_data = dataset_root['data']['img'][:]\n",
    "        train_image_data = np.moveaxis(train_image_data, -1,1)\n",
    "        # (N,3,96,96)\n",
    "\n",
    "        # (N, D)\n",
    "        train_data = {\n",
    "            # first two dims of state vector are agent (i.e. gripper) locations\n",
    "            'agent_pos': dataset_root['data']['state'][:,:2],\n",
    "            'action': dataset_root['data']['action'][:]\n",
    "        }\n",
    "        episode_ends = dataset_root['meta']['episode_ends'][:]\n",
    "\n",
    "        # compute start and end of each state-action sequence\n",
    "        # also handles padding\n",
    "        indices = create_sample_indices(\n",
    "            episode_ends=episode_ends,\n",
    "            sequence_length=pred_horizon,\n",
    "            pad_before=obs_horizon-1,\n",
    "            pad_after=action_horizon-1)\n",
    "\n",
    "        # compute statistics and normalized data to [-1,1]\n",
    "        stats = dict()\n",
    "        normalized_train_data = dict()\n",
    "        for key, data in train_data.items():\n",
    "            stats[key] = get_data_stats(data)\n",
    "            normalized_train_data[key] = normalize_data(data, stats[key])\n",
    "\n",
    "        # images are already normalized\n",
    "        normalized_train_data['image'] = train_image_data\n",
    "\n",
    "        self.indices = indices\n",
    "        self.stats = stats\n",
    "        self.normalized_train_data = normalized_train_data\n",
    "        self.pred_horizon = pred_horizon\n",
    "        self.action_horizon = action_horizon\n",
    "        self.obs_horizon = obs_horizon\n",
    "\n",
    "    def __len__(self):\n",
    "        return len(self.indices)\n",
    "\n",
    "    def __getitem__(self, idx):\n",
    "        # get the start/end indices for this datapoint\n",
    "        buffer_start_idx, buffer_end_idx, \\\n",
    "            sample_start_idx, sample_end_idx = self.indices[idx]\n",
    "\n",
    "        # get nomralized data using these indices\n",
    "        nsample = sample_sequence(\n",
    "            train_data=self.normalized_train_data,\n",
    "            sequence_length=self.pred_horizon,\n",
    "            buffer_start_idx=buffer_start_idx,\n",
    "            buffer_end_idx=buffer_end_idx,\n",
    "            sample_start_idx=sample_start_idx,\n",
    "            sample_end_idx=sample_end_idx\n",
    "        )\n",
    "\n",
    "        # discard unused observations\n",
    "        nsample['image'] = nsample['image'][:self.obs_horizon,:]\n",
    "        nsample['agent_pos'] = nsample['agent_pos'][:self.obs_horizon,:]\n",
    "        return nsample\n",
    "\n",
    "\n",
    "# parameters\n",
    "pred_horizon = 16\n",
    "obs_horizon = 2\n",
    "action_horizon = 8\n",
    "#|o|o|                             observations: 2\n",
    "#| |a|a|a|a|a|a|a|a|               actions executed: 8\n",
    "#|p|p|p|p|p|p|p|p|p|p|p|p|p|p|p|p| actions predicted: 16\n",
    "\n",
    "dataset_path = \"pusht_cchi_v7_replay.zarr.zip\"\n",
    "if not os.path.isfile(dataset_path):\n",
    "    id = \"1KY1InLurpMvJDRb14L9NlXT_fEsCvVUq&confirm=t\"\n",
    "    gdown.download(id=id, output=dataset_path, quiet=False)\n",
    "\n",
    "# create dataset from file\n",
    "dataset = PushTImageDataset(\n",
    "    dataset_path=dataset_path,\n",
    "    pred_horizon=pred_horizon,\n",
    "    obs_horizon=obs_horizon,\n",
    "    action_horizon=action_horizon\n",
    ")\n",
    "# save training data statistics (min, max) for each dim\n",
    "stats = dataset.stats\n",
    "\n",
    "# create dataloader\n",
    "dataloader = torch.utils.data.DataLoader(\n",
    "    dataset,\n",
    "    batch_size=64,\n",
    "    num_workers=4,\n",
    "    shuffle=True,\n",
    "    # accelerate cpu-gpu transfer\n",
    "    pin_memory=True,\n",
    "    # don't kill worker process afte each epoch\n",
    "    persistent_workers=True\n",
    ")\n",
    "\n",
    "# visualize data in batch\n",
    "batch = next(iter(dataloader))\n",
    "print(\"batch['image'].shape:\", batch['image'].shape)\n",
    "print(\"batch['agent_pos'].shape:\", batch['agent_pos'].shape)\n",
    "print(\"batch['action'].shape\", batch['action'].shape)\n"
   ],
   "id": "178cd0cad4be8b8f",
   "outputs": [
    {
     "name": "stderr",
     "output_type": "stream",
     "text": [
      "/tmp/ipykernel_189128/4182873548.py:87: FutureWarning: Pass mode=r as keyword args. From version 3.1.0 passing these as positional arguments will result in an error\n",
      "  dataset_root = zarr.open(dataset_path, 'r')\n"
     ]
    },
    {
     "ename": "FileNotFoundError",
     "evalue": "Unable to find group: file://pusht_cchi_v7_replay.zarr.zip",
     "output_type": "error",
     "traceback": [
      "\u001B[31m---------------------------------------------------------------------------\u001B[39m",
      "\u001B[31mFileNotFoundError\u001B[39m                         Traceback (most recent call last)",
      "\u001B[36mCell\u001B[39m\u001B[36m \u001B[39m\u001B[32mIn[7]\u001B[39m\u001B[32m, line 165\u001B[39m\n\u001B[32m    162\u001B[39m     gdown.download(\u001B[38;5;28mid\u001B[39m=\u001B[38;5;28mid\u001B[39m, output=dataset_path, quiet=\u001B[38;5;28;01mFalse\u001B[39;00m)\n\u001B[32m    164\u001B[39m \u001B[38;5;66;03m# create dataset from file\u001B[39;00m\n\u001B[32m--> \u001B[39m\u001B[32m165\u001B[39m dataset = \u001B[43mPushTImageDataset\u001B[49m\u001B[43m(\u001B[49m\n\u001B[32m    166\u001B[39m \u001B[43m    \u001B[49m\u001B[43mdataset_path\u001B[49m\u001B[43m=\u001B[49m\u001B[43mdataset_path\u001B[49m\u001B[43m,\u001B[49m\n\u001B[32m    167\u001B[39m \u001B[43m    \u001B[49m\u001B[43mpred_horizon\u001B[49m\u001B[43m=\u001B[49m\u001B[43mpred_horizon\u001B[49m\u001B[43m,\u001B[49m\n\u001B[32m    168\u001B[39m \u001B[43m    \u001B[49m\u001B[43mobs_horizon\u001B[49m\u001B[43m=\u001B[49m\u001B[43mobs_horizon\u001B[49m\u001B[43m,\u001B[49m\n\u001B[32m    169\u001B[39m \u001B[43m    \u001B[49m\u001B[43maction_horizon\u001B[49m\u001B[43m=\u001B[49m\u001B[43maction_horizon\u001B[49m\n\u001B[32m    170\u001B[39m \u001B[43m)\u001B[49m\n\u001B[32m    171\u001B[39m \u001B[38;5;66;03m# save training data statistics (min, max) for each dim\u001B[39;00m\n\u001B[32m    172\u001B[39m stats = dataset.stats\n",
      "\u001B[36mCell\u001B[39m\u001B[36m \u001B[39m\u001B[32mIn[7]\u001B[39m\u001B[32m, line 87\u001B[39m, in \u001B[36mPushTImageDataset.__init__\u001B[39m\u001B[34m(self, dataset_path, pred_horizon, obs_horizon, action_horizon)\u001B[39m\n\u001B[32m     80\u001B[39m \u001B[38;5;28;01mdef\u001B[39;00m\u001B[38;5;250m \u001B[39m\u001B[34m__init__\u001B[39m(\u001B[38;5;28mself\u001B[39m,\n\u001B[32m     81\u001B[39m              dataset_path: \u001B[38;5;28mstr\u001B[39m,\n\u001B[32m     82\u001B[39m              pred_horizon: \u001B[38;5;28mint\u001B[39m,\n\u001B[32m   (...)\u001B[39m\u001B[32m     85\u001B[39m \n\u001B[32m     86\u001B[39m     \u001B[38;5;66;03m# read from zarr dataset\u001B[39;00m\n\u001B[32m---> \u001B[39m\u001B[32m87\u001B[39m     dataset_root = \u001B[43mzarr\u001B[49m\u001B[43m.\u001B[49m\u001B[43mopen\u001B[49m\u001B[43m(\u001B[49m\u001B[43mdataset_path\u001B[49m\u001B[43m,\u001B[49m\u001B[43m \u001B[49m\u001B[33;43m'\u001B[39;49m\u001B[33;43mr\u001B[39;49m\u001B[33;43m'\u001B[39;49m\u001B[43m)\u001B[49m\n\u001B[32m     89\u001B[39m     \u001B[38;5;66;03m# float32, [0,1], (N,96,96,3)\u001B[39;00m\n\u001B[32m     90\u001B[39m     train_image_data = dataset_root[\u001B[33m'\u001B[39m\u001B[33mdata\u001B[39m\u001B[33m'\u001B[39m][\u001B[33m'\u001B[39m\u001B[33mimg\u001B[39m\u001B[33m'\u001B[39m][:]\n",
      "\u001B[36mFile \u001B[39m\u001B[32m~/miniconda3/envs/diffusion/lib/python3.12/site-packages/zarr/_compat.py:61\u001B[39m, in \u001B[36m_deprecate_positional_args.<locals>._inner_deprecate_positional_args.<locals>.inner_f\u001B[39m\u001B[34m(*args, **kwargs)\u001B[39m\n\u001B[32m     51\u001B[39m warnings.warn(\n\u001B[32m     52\u001B[39m     (\n\u001B[32m     53\u001B[39m         \u001B[33mf\u001B[39m\u001B[33m\"\u001B[39m\u001B[33mPass \u001B[39m\u001B[38;5;132;01m{\u001B[39;00mformatted_args_msg\u001B[38;5;132;01m}\u001B[39;00m\u001B[33m as keyword args. From version \u001B[39m\u001B[33m\"\u001B[39m\n\u001B[32m   (...)\u001B[39m\u001B[32m     58\u001B[39m     stacklevel=\u001B[32m2\u001B[39m,\n\u001B[32m     59\u001B[39m )\n\u001B[32m     60\u001B[39m kwargs.update(\u001B[38;5;28mzip\u001B[39m(sig.parameters, args, strict=\u001B[38;5;28;01mFalse\u001B[39;00m))\n\u001B[32m---> \u001B[39m\u001B[32m61\u001B[39m \u001B[38;5;28;01mreturn\u001B[39;00m \u001B[43mf\u001B[49m\u001B[43m(\u001B[49m\u001B[43m*\u001B[49m\u001B[43m*\u001B[49m\u001B[43mkwargs\u001B[49m\u001B[43m)\u001B[49m\n",
      "\u001B[36mFile \u001B[39m\u001B[32m~/miniconda3/envs/diffusion/lib/python3.12/site-packages/zarr/api/synchronous.py:193\u001B[39m, in \u001B[36mopen\u001B[39m\u001B[34m(store, mode, zarr_version, zarr_format, path, storage_options, **kwargs)\u001B[39m\n\u001B[32m    155\u001B[39m \u001B[38;5;129m@_deprecate_positional_args\u001B[39m\n\u001B[32m    156\u001B[39m \u001B[38;5;28;01mdef\u001B[39;00m\u001B[38;5;250m \u001B[39m\u001B[34mopen\u001B[39m(\n\u001B[32m    157\u001B[39m     store: StoreLike | \u001B[38;5;28;01mNone\u001B[39;00m = \u001B[38;5;28;01mNone\u001B[39;00m,\n\u001B[32m   (...)\u001B[39m\u001B[32m    164\u001B[39m     **kwargs: Any,  \u001B[38;5;66;03m# TODO: type kwargs as valid args to async_api.open\u001B[39;00m\n\u001B[32m    165\u001B[39m ) -> Array | Group:\n\u001B[32m    166\u001B[39m \u001B[38;5;250m    \u001B[39m\u001B[33;03m\"\"\"Open a group or array using file-mode-like semantics.\u001B[39;00m\n\u001B[32m    167\u001B[39m \n\u001B[32m    168\u001B[39m \u001B[33;03m    Parameters\u001B[39;00m\n\u001B[32m   (...)\u001B[39m\u001B[32m    191\u001B[39m \u001B[33;03m        Return type depends on what exists in the given store.\u001B[39;00m\n\u001B[32m    192\u001B[39m \u001B[33;03m    \"\"\"\u001B[39;00m\n\u001B[32m--> \u001B[39m\u001B[32m193\u001B[39m     obj = \u001B[43msync\u001B[49m\u001B[43m(\u001B[49m\n\u001B[32m    194\u001B[39m \u001B[43m        \u001B[49m\u001B[43masync_api\u001B[49m\u001B[43m.\u001B[49m\u001B[43mopen\u001B[49m\u001B[43m(\u001B[49m\n\u001B[32m    195\u001B[39m \u001B[43m            \u001B[49m\u001B[43mstore\u001B[49m\u001B[43m=\u001B[49m\u001B[43mstore\u001B[49m\u001B[43m,\u001B[49m\n\u001B[32m    196\u001B[39m \u001B[43m            \u001B[49m\u001B[43mmode\u001B[49m\u001B[43m=\u001B[49m\u001B[43mmode\u001B[49m\u001B[43m,\u001B[49m\n\u001B[32m    197\u001B[39m \u001B[43m            \u001B[49m\u001B[43mzarr_version\u001B[49m\u001B[43m=\u001B[49m\u001B[43mzarr_version\u001B[49m\u001B[43m,\u001B[49m\n\u001B[32m    198\u001B[39m \u001B[43m            \u001B[49m\u001B[43mzarr_format\u001B[49m\u001B[43m=\u001B[49m\u001B[43mzarr_format\u001B[49m\u001B[43m,\u001B[49m\n\u001B[32m    199\u001B[39m \u001B[43m            \u001B[49m\u001B[43mpath\u001B[49m\u001B[43m=\u001B[49m\u001B[43mpath\u001B[49m\u001B[43m,\u001B[49m\n\u001B[32m    200\u001B[39m \u001B[43m            \u001B[49m\u001B[43mstorage_options\u001B[49m\u001B[43m=\u001B[49m\u001B[43mstorage_options\u001B[49m\u001B[43m,\u001B[49m\n\u001B[32m    201\u001B[39m \u001B[43m            \u001B[49m\u001B[43m*\u001B[49m\u001B[43m*\u001B[49m\u001B[43mkwargs\u001B[49m\u001B[43m,\u001B[49m\n\u001B[32m    202\u001B[39m \u001B[43m        \u001B[49m\u001B[43m)\u001B[49m\n\u001B[32m    203\u001B[39m \u001B[43m    \u001B[49m\u001B[43m)\u001B[49m\n\u001B[32m    204\u001B[39m     \u001B[38;5;28;01mif\u001B[39;00m \u001B[38;5;28misinstance\u001B[39m(obj, AsyncArray):\n\u001B[32m    205\u001B[39m         \u001B[38;5;28;01mreturn\u001B[39;00m Array(obj)\n",
      "\u001B[36mFile \u001B[39m\u001B[32m~/miniconda3/envs/diffusion/lib/python3.12/site-packages/zarr/core/sync.py:163\u001B[39m, in \u001B[36msync\u001B[39m\u001B[34m(coro, loop, timeout)\u001B[39m\n\u001B[32m    160\u001B[39m return_result = \u001B[38;5;28mnext\u001B[39m(\u001B[38;5;28miter\u001B[39m(finished)).result()\n\u001B[32m    162\u001B[39m \u001B[38;5;28;01mif\u001B[39;00m \u001B[38;5;28misinstance\u001B[39m(return_result, \u001B[38;5;167;01mBaseException\u001B[39;00m):\n\u001B[32m--> \u001B[39m\u001B[32m163\u001B[39m     \u001B[38;5;28;01mraise\u001B[39;00m return_result\n\u001B[32m    164\u001B[39m \u001B[38;5;28;01melse\u001B[39;00m:\n\u001B[32m    165\u001B[39m     \u001B[38;5;28;01mreturn\u001B[39;00m return_result\n",
      "\u001B[36mFile \u001B[39m\u001B[32m~/miniconda3/envs/diffusion/lib/python3.12/site-packages/zarr/core/sync.py:119\u001B[39m, in \u001B[36m_runner\u001B[39m\u001B[34m(coro)\u001B[39m\n\u001B[32m    114\u001B[39m \u001B[38;5;250m\u001B[39m\u001B[33;03m\"\"\"\u001B[39;00m\n\u001B[32m    115\u001B[39m \u001B[33;03mAwait a coroutine and return the result of running it. If awaiting the coroutine raises an\u001B[39;00m\n\u001B[32m    116\u001B[39m \u001B[33;03mexception, the exception will be returned.\u001B[39;00m\n\u001B[32m    117\u001B[39m \u001B[33;03m\"\"\"\u001B[39;00m\n\u001B[32m    118\u001B[39m \u001B[38;5;28;01mtry\u001B[39;00m:\n\u001B[32m--> \u001B[39m\u001B[32m119\u001B[39m     \u001B[38;5;28;01mreturn\u001B[39;00m \u001B[38;5;28;01mawait\u001B[39;00m coro\n\u001B[32m    120\u001B[39m \u001B[38;5;28;01mexcept\u001B[39;00m \u001B[38;5;167;01mException\u001B[39;00m \u001B[38;5;28;01mas\u001B[39;00m ex:\n\u001B[32m    121\u001B[39m     \u001B[38;5;28;01mreturn\u001B[39;00m ex\n",
      "\u001B[36mFile \u001B[39m\u001B[32m~/miniconda3/envs/diffusion/lib/python3.12/site-packages/zarr/api/asynchronous.py:330\u001B[39m, in \u001B[36mopen\u001B[39m\u001B[34m(store, mode, zarr_version, zarr_format, path, storage_options, **kwargs)\u001B[39m\n\u001B[32m    328\u001B[39m     \u001B[38;5;28;01mexcept\u001B[39;00m (\u001B[38;5;167;01mAssertionError\u001B[39;00m, \u001B[38;5;167;01mFileNotFoundError\u001B[39;00m, NodeTypeValidationError):\n\u001B[32m    329\u001B[39m         \u001B[38;5;28;01mpass\u001B[39;00m\n\u001B[32m--> \u001B[39m\u001B[32m330\u001B[39m     \u001B[38;5;28;01mreturn\u001B[39;00m \u001B[38;5;28;01mawait\u001B[39;00m open_group(store=store_path, zarr_format=zarr_format, mode=mode, **kwargs)\n\u001B[32m    332\u001B[39m \u001B[38;5;28;01mtry\u001B[39;00m:\n\u001B[32m    333\u001B[39m     \u001B[38;5;28;01mreturn\u001B[39;00m \u001B[38;5;28;01mawait\u001B[39;00m open_array(store=store_path, zarr_format=zarr_format, mode=mode, **kwargs)\n",
      "\u001B[36mFile \u001B[39m\u001B[32m~/miniconda3/envs/diffusion/lib/python3.12/site-packages/zarr/api/asynchronous.py:827\u001B[39m, in \u001B[36mopen_group\u001B[39m\u001B[34m(store, mode, cache_attrs, synchronizer, path, chunk_store, storage_options, zarr_version, zarr_format, meta_array, attributes, use_consolidated)\u001B[39m\n\u001B[32m    820\u001B[39m     _zarr_format = zarr_format \u001B[38;5;129;01mor\u001B[39;00m _default_zarr_format()\n\u001B[32m    821\u001B[39m     \u001B[38;5;28;01mreturn\u001B[39;00m \u001B[38;5;28;01mawait\u001B[39;00m AsyncGroup.from_store(\n\u001B[32m    822\u001B[39m         store_path,\n\u001B[32m    823\u001B[39m         zarr_format=_zarr_format,\n\u001B[32m    824\u001B[39m         overwrite=overwrite,\n\u001B[32m    825\u001B[39m         attributes=attributes,\n\u001B[32m    826\u001B[39m     )\n\u001B[32m--> \u001B[39m\u001B[32m827\u001B[39m \u001B[38;5;28;01mraise\u001B[39;00m \u001B[38;5;167;01mFileNotFoundError\u001B[39;00m(\u001B[33mf\u001B[39m\u001B[33m\"\u001B[39m\u001B[33mUnable to find group: \u001B[39m\u001B[38;5;132;01m{\u001B[39;00mstore_path\u001B[38;5;132;01m}\u001B[39;00m\u001B[33m\"\u001B[39m)\n",
      "\u001B[31mFileNotFoundError\u001B[39m: Unable to find group: file://pusht_cchi_v7_replay.zarr.zip"
     ]
    }
   ],
   "execution_count": 7
  },
  {
   "metadata": {},
   "cell_type": "code",
   "outputs": [],
   "execution_count": null,
   "source": "",
   "id": "18d07dd286cb59d9"
  }
 ],
 "metadata": {
  "kernelspec": {
   "display_name": "Python 3",
   "language": "python",
   "name": "python3"
  },
  "language_info": {
   "codemirror_mode": {
    "name": "ipython",
    "version": 2
   },
   "file_extension": ".py",
   "mimetype": "text/x-python",
   "name": "python",
   "nbconvert_exporter": "python",
   "pygments_lexer": "ipython2",
   "version": "2.7.6"
  }
 },
 "nbformat": 4,
 "nbformat_minor": 5
}
