{
 "cells": [
  {
   "metadata": {
    "ExecuteTime": {
     "end_time": "2025-05-09T12:39:58.935412Z",
     "start_time": "2025-05-09T12:39:58.932047Z"
    }
   },
   "cell_type": "code",
   "source": [
    "actions = []\n",
    "images = []"
   ],
   "id": "71f86dff15494e39",
   "outputs": [],
   "execution_count": 1
  },
  {
   "metadata": {
    "ExecuteTime": {
     "end_time": "2025-05-09T12:39:59.728494Z",
     "start_time": "2025-05-09T12:39:59.657734Z"
    }
   },
   "cell_type": "code",
   "source": [
    "%load_ext autoreload\n",
    "%autoreload 2"
   ],
   "id": "53fd0b3be7ea3769",
   "outputs": [],
   "execution_count": 2
  },
  {
   "cell_type": "code",
   "id": "e1e5577a33c15df",
   "metadata": {
    "ExecuteTime": {
     "end_time": "2025-05-09T12:40:02.997312Z",
     "start_time": "2025-05-09T12:40:00.440020Z"
    }
   },
   "source": [
    "import time\n",
    "\n",
    "from gym_pusht.envs import PushTEnv\n",
    "import gymnasium as gym\n",
    "import gym_pusht\n",
    "import numpy as np\n",
    "\n",
    "env = PushTEnv(obs_type=\"pixels\", render_mode=\"human\", goal_pose=\"random\")\n",
    "teleop = env.teleop_agent()\n",
    "obs, info = env.reset()"
   ],
   "outputs": [
    {
     "name": "stderr",
     "output_type": "stream",
     "text": [
      "2025-05-09 14:40:02.848 python[21418:3178160] +[IMKClient subclass]: chose IMKClient_Modern\n",
      "2025-05-09 14:40:02.848 python[21418:3178160] +[IMKInputSession subclass]: chose IMKInputSession_Modern\n"
     ]
    }
   ],
   "execution_count": 3
  },
  {
   "metadata": {
    "collapsed": true,
    "ExecuteTime": {
     "end_time": "2025-05-09T12:40:28.353684Z",
     "start_time": "2025-05-09T12:40:03.154398Z"
    }
   },
   "cell_type": "code",
   "source": [
    "step_in_episode = 0\n",
    "episode_ends = [0]\n",
    "\n",
    "while True:\n",
    "    time.sleep(0.1)\n",
    "    action = teleop.act(obs)\n",
    "\n",
    "    if action is None:\n",
    "        env.render()\n",
    "        continue\n",
    "\n",
    "    images.append(obs)\n",
    "    actions.append(action)\n",
    "\n",
    "    next_obs, reward, terminated, truncated, info = env.step(action)\n",
    "    env.render()\n",
    "    obs = next_obs\n",
    "    step_in_episode += 1\n",
    "\n",
    "    if terminated or truncated:\n",
    "        episode_ends.append(episode_ends[-1] + step_in_episode)\n",
    "        step_in_episode = 0\n",
    "        obs, _ = env.reset()"
   ],
   "id": "initial_id",
   "outputs": [
    {
     "ename": "KeyboardInterrupt",
     "evalue": "",
     "output_type": "error",
     "traceback": [
      "\u001B[31m---------------------------------------------------------------------------\u001B[39m",
      "\u001B[31mKeyboardInterrupt\u001B[39m                         Traceback (most recent call last)",
      "\u001B[36mCell\u001B[39m\u001B[36m \u001B[39m\u001B[32mIn[4]\u001B[39m\u001B[32m, line 5\u001B[39m\n\u001B[32m      2\u001B[39m episode_ends = [\u001B[32m0\u001B[39m]\n\u001B[32m      4\u001B[39m \u001B[38;5;28;01mwhile\u001B[39;00m \u001B[38;5;28;01mTrue\u001B[39;00m:\n\u001B[32m----> \u001B[39m\u001B[32m5\u001B[39m     \u001B[43mtime\u001B[49m\u001B[43m.\u001B[49m\u001B[43msleep\u001B[49m\u001B[43m(\u001B[49m\u001B[32;43m0.1\u001B[39;49m\u001B[43m)\u001B[49m\n\u001B[32m      6\u001B[39m     action = teleop.act(obs)\n\u001B[32m      8\u001B[39m     \u001B[38;5;28;01mif\u001B[39;00m action \u001B[38;5;129;01mis\u001B[39;00m \u001B[38;5;28;01mNone\u001B[39;00m:\n",
      "\u001B[31mKeyboardInterrupt\u001B[39m: "
     ]
    }
   ],
   "execution_count": 4
  },
  {
   "metadata": {
    "ExecuteTime": {
     "end_time": "2025-05-06T16:21:21.011402Z",
     "start_time": "2025-05-06T16:21:20.846028Z"
    }
   },
   "cell_type": "code",
   "source": "env.close()",
   "id": "73f449e12391621b",
   "outputs": [],
   "execution_count": 21
  },
  {
   "metadata": {
    "ExecuteTime": {
     "end_time": "2025-05-06T16:21:21.205488Z",
     "start_time": "2025-05-06T16:21:21.195692Z"
    }
   },
   "cell_type": "code",
   "source": "img = images[40]",
   "id": "fd118eecadd4ab17",
   "outputs": [],
   "execution_count": 22
  },
  {
   "metadata": {
    "ExecuteTime": {
     "end_time": "2025-05-06T16:21:22.248603Z",
     "start_time": "2025-05-06T16:21:22.152408Z"
    }
   },
   "cell_type": "code",
   "source": [
    "import matplotlib.pyplot as plt\n",
    "\n",
    "plt.imshow(img)"
   ],
   "id": "1264ca2d194c7d26",
   "outputs": [
    {
     "data": {
      "text/plain": [
       "<matplotlib.image.AxesImage at 0x1661169c0>"
      ]
     },
     "execution_count": 23,
     "metadata": {},
     "output_type": "execute_result"
    },
    {
     "data": {
      "text/plain": [
       "<Figure size 640x480 with 1 Axes>"
      ],
      "image/png": "[encoded data removed]"
     },
     "metadata": {},
     "output_type": "display_data"
    }
   ],
   "execution_count": 23
  },
  {
   "metadata": {},
   "cell_type": "markdown",
   "source": "# Save dataset snapshot",
   "id": "b2a6bb21c32c9fc1"
  },
  {
   "metadata": {
    "ExecuteTime": {
     "end_time": "2025-05-06T16:28:44.282849Z",
     "start_time": "2025-05-06T16:28:44.008645Z"
    }
   },
   "cell_type": "code",
   "source": [
    "import zarr\n",
    "import numpy as np"
   ],
   "id": "6d64689407210e1c",
   "outputs": [],
   "execution_count": 25
  },
  {
   "metadata": {},
   "cell_type": "markdown",
   "source": "## Prepare file",
   "id": "2866265363b05168"
  },
  {
   "metadata": {
    "ExecuteTime": {
     "end_time": "2025-05-06T16:45:51.950290Z",
     "start_time": "2025-05-06T16:45:51.902328Z"
    }
   },
   "cell_type": "code",
   "source": [
    "dataset_version = 1\n",
    "\n",
    "file_name = f\"./data/demonstrations_snapshot_{dataset_version}.zarr\""
   ],
   "id": "49276aaa7bdf19ca",
   "outputs": [],
   "execution_count": 31
  },
  {
   "metadata": {},
   "cell_type": "markdown",
   "source": "## Prepare data",
   "id": "a5f6e1aa389c32b9"
  },
  {
   "metadata": {
    "ExecuteTime": {
     "end_time": "2025-05-06T16:45:53.449582Z",
     "start_time": "2025-05-06T16:45:52.598164Z"
    }
   },
   "cell_type": "code",
   "source": [
    "actions_np = np.array(actions)\n",
    "imgs_np = np.array(images)\n",
    "episode_ends_np = np.array(episode_ends)"
   ],
   "id": "756adf049a89526c",
   "outputs": [],
   "execution_count": 32
  },
  {
   "metadata": {
    "ExecuteTime": {
     "end_time": "2025-05-06T16:59:39.551943Z",
     "start_time": "2025-05-06T16:59:31.924020Z"
    }
   },
   "cell_type": "code",
   "source": [
    "file = zarr.open(file_name, mode=\"w\")\n",
    "data_group = file.create_group(\"data\")\n",
    "\n",
    "# 1) action\n",
    "arr_a = data_group.create_array(\n",
    "    name=\"action\",\n",
    "    shape=actions_np.shape,\n",
    "    dtype=actions_np.dtype,\n",
    "    chunks=actions_np.shape,\n",
    ")\n",
    "arr_a[:] = actions_np\n",
    "\n",
    "# 2) img\n",
    "arr_i = data_group.create_array(\n",
    "    name=\"img\",\n",
    "    shape=imgs_np.shape,\n",
    "    dtype=imgs_np.dtype,\n",
    "    chunks=imgs_np.shape,\n",
    ")\n",
    "arr_i[:] = imgs_np\n",
    "\n",
    "# 3) episode_ends\n",
    "arr_e = file.create_array(\n",
    "    name=\"episode_ends\",\n",
    "    shape=episode_ends_np.shape,\n",
    "    dtype=episode_ends_np.dtype,\n",
    "    chunks=episode_ends_np.shape,\n",
    ")\n",
    "arr_e[:] = episode_ends_np"
   ],
   "id": "6653a2de194489d8",
   "outputs": [],
   "execution_count": 37
  },
  {
   "metadata": {},
   "cell_type": "markdown",
   "source": "## Test load",
   "id": "797e4ff01f29d7c6"
  },
  {
   "metadata": {
    "ExecuteTime": {
     "end_time": "2025-05-06T17:02:35.991039Z",
     "start_time": "2025-05-06T17:02:34.755355Z"
    }
   },
   "cell_type": "code",
   "source": [
    "import zarr\n",
    "\n",
    "ds = zarr.open(f\"./data/demonstrations_snapshot_{dataset_version}.zarr\", mode=\"r\")\n",
    "\n",
    "actions      = ds[\"data\"][\"action\"][:]        # shape (N, 2)\n",
    "images       = ds[\"data\"][\"img\"][:]           # shape (N, 96, 96, 3)\n",
    "episode_ends = ds[\"episode_ends\"][:]          # shape (M,)\n",
    "\n",
    "print(\"actions:\",      actions.shape, actions.dtype)\n",
    "print(\"images:\",       images.shape,  images.dtype)\n",
    "print(\"episode_ends:\", episode_ends.shape, episode_ends.dtype)\n"
   ],
   "id": "ff056e1841075c9",
   "outputs": [
    {
     "name": "stdout",
     "output_type": "stream",
     "text": [
      "actions: (9086, 2) int64\n",
      "images: (9086, 224, 224, 3) uint8\n",
      "episode_ends: (54,) int64\n"
     ]
    }
   ],
   "execution_count": 40
  },
  {
   "metadata": {},
   "cell_type": "code",
   "outputs": [],
   "execution_count": null,
   "source": "",
   "id": "28d52b72c2ae2bb4"
  }
 ],
 "metadata": {
  "kernelspec": {
   "display_name": "Python 3",
   "language": "python",
   "name": "python3"
  },
  "language_info": {
   "codemirror_mode": {
    "name": "ipython",
    "version": 2
   },
   "file_extension": ".py",
   "mimetype": "text/x-python",
   "name": "python",
   "nbconvert_exporter": "python",
   "pygments_lexer": "ipython2",
   "version": "2.7.6"
  }
 },
 "nbformat": 4,
 "nbformat_minor": 5
}
