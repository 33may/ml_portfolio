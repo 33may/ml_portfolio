{
 "cells": [
  {
   "cell_type": "code",
   "id": "32f8a3466bb23e66",
   "metadata": {
    "ExecuteTime": {
     "end_time": "2025-04-04T17:28:34.304583Z",
     "start_time": "2025-04-04T17:28:32.369688Z"
    }
   },
   "source": [
    "from torchvision import datasets\n",
    "from torch.utils.data import DataLoader\n",
    "from torch import optim\n",
    "import time\n",
    "from torchvision import transforms\n",
    "from PIL import Image\n",
    "from sklearn.metrics import (\n",
    "accuracy_score, precision_score, recall_score,\n",
    "f1_score, confusion_matrix, classification_report\n",
    ")\n",
    "import seaborn as sns\n",
    "import torch\n",
    "import matplotlib.pyplot as plt\n",
    "from torch.utils.data import random_split"
   ],
   "outputs": [],
   "execution_count": 1
  },
  {
   "metadata": {
    "ExecuteTime": {
     "end_time": "2025-04-04T17:28:34.401985Z",
     "start_time": "2025-04-04T17:28:34.312713Z"
    }
   },
   "cell_type": "code",
   "source": [
    "device = torch.device(\"cuda:0\" if torch.cuda.is_available() else \"mps\")\n",
    "%load_ext autoreload\n",
    "%autoreload 2"
   ],
   "id": "3744cbb06709f020",
   "outputs": [],
   "execution_count": 2
  },
  {
   "metadata": {
    "collapsed": true,
    "ExecuteTime": {
     "end_time": "2025-04-04T17:48:30.006300Z",
     "start_time": "2025-04-04T17:48:29.864341Z"
    }
   },
   "cell_type": "code",
   "source": [
    "transform = transforms.Compose([\n",
    "transforms.ToTensor(),\n",
    "# transforms.Normalize(mean=[0.485, 0.456, 0.406], std=[0.229, 0.224, 0.225]),\n",
    "])\n",
    "\n",
    "train_dataset = datasets.MNIST(root='./data', train=True, download=True, transform=transform)\n",
    "test_dataset = datasets.MNIST(root='./data', train=False, download=True, transform=transform)\n",
    "\n",
    "batch_size = 128\n",
    "\n",
    "train_subset, _ = random_split(train_dataset, [500, len(train_dataset) - 500])\n",
    "test_subset, _ = random_split(test_dataset, [100, len(test_dataset) - 100])\n",
    "\n",
    "# Create DataLoader with subset\n",
    "train_loader = DataLoader(train_subset, batch_size=batch_size, shuffle=True)\n",
    "test_loader = DataLoader(test_dataset, batch_size=batch_size, shuffle=False)"
   ],
   "id": "initial_id",
   "outputs": [],
   "execution_count": 27
  },
  {
   "metadata": {
    "ExecuteTime": {
     "end_time": "2025-04-04T17:33:16.125825Z",
     "start_time": "2025-04-04T17:33:15.866062Z"
    }
   },
   "cell_type": "code",
   "source": [
    "classes = train_dataset.classes\n",
    "\n",
    "samples = {}\n",
    "for img, label in train_dataset:\n",
    "    if label not in samples:\n",
    "        samples[label] = img\n",
    "    if len(samples) == len(classes):\n",
    "        break\n",
    "\n",
    "# Plot the images.\n",
    "fig, axs = plt.subplots(1, len(classes), figsize=(15, 4))\n",
    "for label, ax in enumerate(axs):\n",
    "    img_np = samples[label].permute(1, 2, 0).numpy()\n",
    "    ax.imshow(img_np, cmap='gray')\n",
    "    ax.set_title(classes[label])\n",
    "    ax.axis('off')\n",
    "plt.tight_layout()\n",
    "plt.show()\n"
   ],
   "id": "11b62b948469437c",
   "outputs": [
    {
     "data": {
      "text/plain": [
       "<Figure size 1500x400 with 10 Axes>"
      ],
      "image/png": "[encoded data removed]"
     },
     "metadata": {},
     "output_type": "display_data"
    }
   ],
   "execution_count": 13
  },
  {
   "metadata": {
    "ExecuteTime": {
     "end_time": "2025-04-04T17:45:19.610208Z",
     "start_time": "2025-04-04T17:45:19.503331Z"
    }
   },
   "cell_type": "code",
   "source": [
    "def softmax(x):\n",
    "    x_shifted = x - np.max(x, axis=1, keepdims=True)\n",
    "    exps = np.exp(x_shifted)\n",
    "    return exps / np.sum(exps, axis=1, keepdims=True)\n",
    "\n",
    "\n",
    "def l2_regularization(W, reg_strength):\n",
    "    loss = np.sum(np.square(W)) * reg_strength\n",
    "    grad = 2 * reg_strength * W\n",
    "    return loss, grad\n",
    "\n",
    "\n",
    "def softmax_with_cross_entropy(predictions, target_index):\n",
    "    batch_size = predictions.shape[0]\n",
    "    probs = softmax(predictions)\n",
    "    correct_probs = probs[np.arange(batch_size), target_index]\n",
    "    loss = -np.sum(np.log(correct_probs)) / batch_size  # Average loss\n",
    "    d_pred = probs.copy()\n",
    "    d_pred[np.arange(batch_size), target_index] -= 1\n",
    "    d_pred /= batch_size  # Normalize gradient\n",
    "    return loss, d_pred\n",
    "\n",
    "\n",
    "class Param:\n",
    "    def __init__(self, value):\n",
    "        self.value = value\n",
    "        self.grad = np.zeros_like(value)\n",
    "\n",
    "\n",
    "class ReLULayer:\n",
    "    def __init__(self):\n",
    "        self.mask = None\n",
    "\n",
    "    def forward(self, X):\n",
    "        self.mask = X > 0\n",
    "        X = X * self.mask\n",
    "        return X\n",
    "\n",
    "    def backward(self, d_out):\n",
    "        d_result = d_out * self.mask\n",
    "\n",
    "        return d_result\n",
    "\n",
    "    def params(self):\n",
    "        return {}\n",
    "\n",
    "\n",
    "class FullyConnectedLayer:\n",
    "    def __init__(self, n_input, n_output):\n",
    "        self.W = Param(0.001 * np.random.randn(n_input, n_output))\n",
    "        self.B = Param(0.001 * np.random.randn(1, n_output))\n",
    "        self.X = None\n",
    "\n",
    "    def forward(self, X):\n",
    "        self.X = X\n",
    "\n",
    "        return X @ self.W.value + self.B.value\n",
    "\n",
    "    def backward(self, d_out):\n",
    "        d_input = d_out @ self.W.value.T\n",
    "\n",
    "        d_W = self.X.T @ d_out\n",
    "        self.W.grad += d_W\n",
    "\n",
    "        d_B = np.sum(d_out, axis=0, keepdims=True)\n",
    "        self.B.grad += d_B\n",
    "\n",
    "        return d_input\n",
    "\n",
    "    def params(self):\n",
    "        return {'W': self.W, 'B': self.B}\n",
    "\n",
    "\n",
    "class Model:\n",
    "    def __init__(self, layers):\n",
    "        \"\"\"\n",
    "        Initialize the model with a list of layers.\n",
    "        \"\"\"\n",
    "        self.layers = layers\n",
    "        self.last_output = None\n",
    "\n",
    "    def forward(self, x):\n",
    "        \"\"\"\n",
    "        Perform a forward pass through all layers.\n",
    "        \"\"\"\n",
    "        for layer in self.layers:\n",
    "            x = layer.forward(x)\n",
    "\n",
    "        self.last_output = x\n",
    "        return x\n",
    "\n",
    "    def backward(self, grad):\n",
    "        \"\"\"\n",
    "        Backpropagate the gradient through all layers.\n",
    "        \"\"\"\n",
    "        for layer in reversed(self.layers):\n",
    "            grad = layer.backward(grad)\n",
    "        return grad\n",
    "\n",
    "    def grad_cam(self):\n",
    "        input_grad = self.backward(self.last_output)\n",
    "        self.clear_params()\n",
    "\n",
    "        return input_grad\n",
    "\n",
    "\n",
    "    def compute_loss_and_grad(self, predictions, target_index):\n",
    "        \"\"\"\n",
    "        Compute the softmax with cross entropy loss and return both the loss\n",
    "        and the gradient.\n",
    "        \"\"\"\n",
    "        loss, grad = softmax_with_cross_entropy(predictions, target_index)\n",
    "        return loss, grad\n",
    "\n",
    "    def params(self):\n",
    "        \"\"\"\n",
    "        Collects parameters from all layers.\n",
    "        Returns a dictionary mapping layer names to their parameters.\n",
    "        \"\"\"\n",
    "        parameters = {}\n",
    "        for idx, layer in enumerate(self.layers):\n",
    "            for name, param in layer.params().items():\n",
    "                parameters[f\"layer{idx}_{name}\"] = param\n",
    "        return parameters\n",
    "\n",
    "    def clear_params(self):\n",
    "        \"\"\"\n",
    "        Clear all parameters.\n",
    "        \"\"\"\n",
    "        for param in self.params().values():\n",
    "            param.grad = np.zeros_like(param.grad)\n",
    "\n",
    "    def update_params(self, lr):\n",
    "        \"\"\"\n",
    "        Updates all parameters.\n",
    "        \"\"\"\n",
    "        for param in self.params().values():\n",
    "            param.value -= lr * param.grad\n",
    "            param.grad = np.zeros_like(param.grad)\n",
    "\n",
    "    def train(self, lr, epochs, data_loader):\n",
    "        \"\"\"\n",
    "        Trains the model.\n",
    "        data_loader should yield batches as (x, y) where:\n",
    "          - x is input with shape (batch_size, input_size)\n",
    "          - y contains the target class indices for each sample.\n",
    "        \"\"\"\n",
    "        loss_list = []\n",
    "        for epoch in range(epochs):\n",
    "            epoch_loss = 0.0\n",
    "            for x, y in data_loader:\n",
    "                # Forward pass: compute predictions for the current batch.\n",
    "                predictions = self.forward(x)\n",
    "\n",
    "                # Compute loss and gradient at the output.\n",
    "                loss, grad = self.compute_loss_and_grad(predictions, y)\n",
    "                epoch_loss += loss\n",
    "\n",
    "                # Backward pass: propagate gradients through the network.\n",
    "                self.backward(grad)\n",
    "\n",
    "                # Update all parameters using gradient descent.\n",
    "                self.update_params(lr)\n",
    "\n",
    "            avg_loss = epoch_loss / len(data_loader)\n",
    "            loss_list.append(avg_loss)\n",
    "            print(f\"Epoch {epoch + 1}/{epochs}, Loss: {avg_loss:.4f}\")\n",
    "\n",
    "        # Plot training loss.\n",
    "        plt.plot(loss_list)\n",
    "        plt.xlabel('Epoch')\n",
    "        plt.ylabel('Loss')\n",
    "        plt.title('Training Loss')\n",
    "        plt.show()\n",
    "\n",
    "\n",
    "import numpy as np\n",
    "\n",
    "class ConvolutionalLayer:\n",
    "    def __init__(self, in_channels, out_channels,\n",
    "                 filter_size, padding):\n",
    "        self.filter_size = filter_size\n",
    "        self.in_channels = in_channels\n",
    "        self.out_channels = out_channels\n",
    "        self.W = Param(\n",
    "            np.random.randn(filter_size, filter_size, in_channels, out_channels) * np.sqrt(\n",
    "                2.0 / (filter_size * filter_size * in_channels))\n",
    "        )\n",
    "\n",
    "        self.B = Param(np.zeros(out_channels))\n",
    "\n",
    "        self.padding = padding\n",
    "\n",
    "        self.last_X = None\n",
    "\n",
    "    def forward(self, X):\n",
    "        # get shape of the input tensor\n",
    "        batch_size, in_channels, height, width = X.shape\n",
    "\n",
    "        # compute shape of output tensor\n",
    "        out_height = height - self.filter_size + 1 + 2 * self.padding\n",
    "        out_width = width - self.filter_size + 1 + 2 * self.padding\n",
    "\n",
    "        # pad the input tensor\n",
    "        X = np.pad(X, ((0, 0), (0, 0), (self.padding,) * 2, (self.padding,) * 2))\n",
    "\n",
    "        # save last input for backward pass\n",
    "        self.last_X = X\n",
    "\n",
    "        # create zeros tensor for result\n",
    "        result = np.zeros((batch_size, self.out_channels, out_height, out_width))\n",
    "\n",
    "        # reshape weights to use matrix multiplication trick\n",
    "        weights = self.W.value.reshape(self.in_channels * self.filter_size * self.filter_size, self.out_channels)\n",
    "\n",
    "        # iterate each pixel in output tensor\n",
    "        for y in range(out_height):\n",
    "            for x in range(out_width):\n",
    "                # take the perception widow of the output pixel\n",
    "                patch = X[:, :, y:y + self.filter_size, x:x + self.filter_size]\n",
    "\n",
    "                # unwrap patch to use matrix multiplication trick\n",
    "                patch_flat = patch.reshape(batch_size, self.in_channels * self.filter_size * self.filter_size)\n",
    "\n",
    "                # convolution operation\n",
    "                res = patch_flat @ weights\n",
    "\n",
    "                # add bias to result\n",
    "                res += self.B.value\n",
    "\n",
    "                # add pixels to result tensor\n",
    "                result[:, :, y, x] = res\n",
    "\n",
    "        return result\n",
    "\n",
    "    def backward(self, d_out):\n",
    "        # get shape of last input passed to forward pass\n",
    "        batch_size, in_channels, height, width = self.last_X.shape\n",
    "\n",
    "        # get shape of the received gradient\n",
    "        _, out_channels, out_height, out_width = d_out.shape\n",
    "\n",
    "        # create d_input with proper shape\n",
    "        d_X = np.zeros_like(self.last_X)\n",
    "\n",
    "        # get and reshape weights to use in calculations\n",
    "        weights = self.W.value.reshape(self.in_channels * self.filter_size * self.filter_size, self.out_channels)\n",
    "\n",
    "        for y in range(out_height):\n",
    "            for x in range(out_width):\n",
    "                # take the gradient patch (batch_size, out_channels)\n",
    "                gradient_patch = d_out[:, :, y, x]\n",
    "\n",
    "                # get and reshape input patch to (batch_size, self.in_channels*self.filter_size*self.filter_size)\n",
    "                input_patch = self.last_X[:, :, y:y + self.filter_size, x:x + self.filter_size]\n",
    "                input_patch_flat = input_patch.reshape(batch_size,\n",
    "                                                       self.in_channels * self.filter_size * self.filter_size)\n",
    "\n",
    "                # d_X to get gradient with respect to input -> d_out + weights\n",
    "\n",
    "                d_input_flat = gradient_patch @ weights.T\n",
    "\n",
    "                d_input_patch = d_input_flat.reshape(batch_size, in_channels, self.filter_size, self.filter_size)\n",
    "\n",
    "                d_X[:, :, y:y + self.filter_size, x:x + self.filter_size] += d_input_patch\n",
    "\n",
    "                # d_w gradient with respect to weights -> d_out + inputs\n",
    "                d_flat_w = input_patch_flat.T @ gradient_patch\n",
    "\n",
    "                d_w = d_flat_w.reshape(self.filter_size, self.filter_size, self.in_channels, self.out_channels)\n",
    "\n",
    "                self.W.grad += d_w\n",
    "\n",
    "                # d_b gradient with respect to bias term -> d_out\n",
    "\n",
    "                d_b = np.sum(gradient_patch, axis=0)\n",
    "\n",
    "                self.B.grad += d_b\n",
    "\n",
    "        # return d_X without padding\n",
    "        return d_X[:, :, self.padding:-self.padding, self.padding:-self.padding] if self.padding > 0 else d_X\n",
    "\n",
    "    def params(self):\n",
    "        return {'W': self.W, 'B': self.B}\n",
    "class MaxPoolingLayer:\n",
    "    def __init__(self, pool_size, stride):\n",
    "        self.pool_size = pool_size\n",
    "        self.stride = stride\n",
    "        self.X = None\n",
    "\n",
    "    def forward(self, X):\n",
    "        batch_size, channels, height, width = X.shape\n",
    "\n",
    "        self.X = X\n",
    "\n",
    "        # compute output tensor size\n",
    "        out_height = (height - self.pool_size) // self.stride + 1\n",
    "        out_width = (width - self.pool_size) // self.stride + 1\n",
    "\n",
    "        # init resulting tensor with proper shape\n",
    "        result = np.zeros((batch_size, channels, out_height, out_width))\n",
    "\n",
    "        for y in range(out_height):\n",
    "            for x in range(out_width):\n",
    "                start_y = y * self.stride\n",
    "                start_x = x * self.stride\n",
    "\n",
    "                # take input patch\n",
    "                patch = X[:, :, start_y:start_y + self.pool_size, start_x:start_x + self.pool_size]\n",
    "\n",
    "                # get maximum over axis (1,2) means for each batch(0) and chanel(3) get the maximum of matrix (pool_size, pool_size) that stores actual pixel values\n",
    "                patch_max = np.max(patch, axis=(2, 3))\n",
    "\n",
    "                # assign maximum over each batch and chanel to the point in result tensor\n",
    "                result[:, :, y, x] = patch_max\n",
    "\n",
    "        return result\n",
    "\n",
    "    def backward(self, d_out):\n",
    "        batch_size, channels, height, width = self.X.shape\n",
    "\n",
    "        d_input = np.zeros_like(self.X)\n",
    "\n",
    "        out_width = (width - self.pool_size) // self.stride + 1\n",
    "        out_height = (height - self.pool_size) // self.stride + 1\n",
    "\n",
    "        for y in range(out_height):\n",
    "            for x in range(out_width):\n",
    "                input_patch = self.X[:, :, y * self.stride:y * self.stride + self.pool_size,\n",
    "                              x * self.stride:x * self.stride + self.pool_size]\n",
    "\n",
    "                # Flatten each patch for max index computation\n",
    "                input_patch_reshaped = input_patch.reshape(batch_size, channels, -1)\n",
    "\n",
    "                # Find the index of the maximum value in each patch\n",
    "                max_idx_local = np.argmax(input_patch_reshaped, axis=2)\n",
    "\n",
    "                # Convert flat indices back to 2D indices\n",
    "                row_idx_local, col_idx_local = np.unravel_index(max_idx_local, (self.pool_size, self.pool_size))\n",
    "\n",
    "                # Convert local indices to global indices in the input tensor\n",
    "                row_idx_global = row_idx_local + y * self.stride\n",
    "                col_idx_global = col_idx_local + x * self.stride\n",
    "\n",
    "                # Batch and channel indices for broadcasting\n",
    "                batch_idx = np.arange(batch_size)[:, None]\n",
    "                ch_idx = np.arange(channels)\n",
    "\n",
    "                # Accumulate gradient values at the positions of the max values\n",
    "                d_input[batch_idx, ch_idx, row_idx_global, col_idx_global] += d_out[:, :, y, x]\n",
    "\n",
    "        return d_input\n",
    "\n",
    "    def params(self):\n",
    "        return {}\n",
    "\n",
    "\n",
    "class Flattener:\n",
    "    def __init__(self):\n",
    "        self.X_shape = None\n",
    "\n",
    "    def forward(self, X):\n",
    "        batch_size, channels, height, width = X.shape\n",
    "\n",
    "        self.X_shape = X.shape\n",
    "\n",
    "        return X.reshape(batch_size, -1)\n",
    "\n",
    "    def backward(self, d_out):\n",
    "        return d_out.reshape(self.X_shape)\n",
    "\n",
    "    def params(self):\n",
    "        return {}"
   ],
   "id": "6e80ca7b3b36b525",
   "outputs": [],
   "execution_count": 20
  },
  {
   "metadata": {
    "ExecuteTime": {
     "end_time": "2025-04-04T17:45:20.788655Z",
     "start_time": "2025-04-04T17:45:20.754505Z"
    }
   },
   "cell_type": "code",
   "source": [
    "class MomentumSGD:\n",
    "    def __init__(self, momentum=0.9):\n",
    "        self.momentum = 0.9\n",
    "        self.velocities = {}\n",
    "\n",
    "    def update(self, w, d_w, learning_rate, param_name):\n",
    "        if param_name not in self.velocities:\n",
    "            self.velocities[param_name] = np.zeros_like(w)\n",
    "\n",
    "        self.velocities[param_name] = self.momentum * self.velocities[param_name] - learning_rate * d_w\n",
    "\n",
    "        return w + self.velocities[param_name]\n",
    "\n",
    "def train_model(model, train_loader, test_loader, epochs, lr, optimizer=MomentumSGD(), save_path=None):\n",
    "    history = {\n",
    "        'train_loss': [],\n",
    "        'train_acc': [],\n",
    "        'test_loss': [],\n",
    "        'test_acc': []\n",
    "    }\n",
    "    for epoch in range(epochs):\n",
    "        # Training phase\n",
    "        model.train_mode = True\n",
    "        epoch_loss = 0.0\n",
    "        correct_train = 0\n",
    "        total_train = 0\n",
    "        batch_count = 0\n",
    "\n",
    "        print(f\"Epoch {epoch + 1}/{epochs}\")\n",
    "        print(\"-\" * 30)\n",
    "\n",
    "        for x, y in train_loader:\n",
    "            # Data conversion and transfer\n",
    "\n",
    "            x = x.numpy().astype(np.float32)\n",
    "            y = y.numpy()\n",
    "\n",
    "            # Forward pass\n",
    "            predictions = model.forward(x)\n",
    "\n",
    "            # Loss computation\n",
    "            loss, grad = softmax_with_cross_entropy(predictions, y)\n",
    "\n",
    "            # Calculate training accuracy\n",
    "            pred_classes = np.argmax(predictions, axis=1)\n",
    "            correct_train += np.sum(pred_classes == y)\n",
    "            total_train += len(y)\n",
    "\n",
    "            # Backward pass\n",
    "            model.backward(grad)\n",
    "\n",
    "            # Parameter update\n",
    "            for param_name, param in model.params().items():\n",
    "                param.value = optimizer.update(param.value, param.grad, lr, param_name)\n",
    "                param.grad = np.zeros_like(param.grad)\n",
    "\n",
    "            epoch_loss += loss\n",
    "            batch_count += 1\n",
    "\n",
    "        # Calculate training metrics\n",
    "        avg_train_loss = epoch_loss / batch_count\n",
    "        train_accuracy = (correct_train / total_train) * 100\n",
    "        history['train_loss'].append(avg_train_loss)\n",
    "        history['train_acc'].append(train_accuracy)\n",
    "\n",
    "        # Testing phase\n",
    "        model.train_mode = False\n",
    "        test_loss = 0.0\n",
    "        correct_test = 0\n",
    "        total_test = 0\n",
    "        test_batch_count = 0\n",
    "\n",
    "        for x, y in test_loader:\n",
    "            # Data conversion and transfer\n",
    "\n",
    "            x = x.numpy().astype(np.float32)\n",
    "            y = y.numpy()\n",
    "\n",
    "            # Forward pass only (no backward pass during testing)\n",
    "            predictions = model.forward(x)\n",
    "\n",
    "            # Calculate test loss\n",
    "            batch_loss, _ = softmax_with_cross_entropy(predictions, y)\n",
    "            test_loss += batch_loss\n",
    "\n",
    "            # Calculate test accuracy\n",
    "            pred_classes =  np.argmax(predictions, axis=1)\n",
    "            correct_test += np.sum(pred_classes == y)\n",
    "            total_test += len(y)\n",
    "\n",
    "            test_batch_count += 1\n",
    "\n",
    "        # Calculate test metrics\n",
    "        avg_test_loss = test_loss / test_batch_count\n",
    "        test_accuracy = (correct_test / total_test) * 100\n",
    "        history['test_loss'].append(avg_test_loss)\n",
    "        history['test_acc'].append(test_accuracy)\n",
    "\n",
    "        # Print metrics\n",
    "        print(f\"Train Loss: {avg_train_loss:.4f} | Train Acc: {train_accuracy:.2f}%\")\n",
    "        print(f\"Test Loss: {avg_test_loss:.4f} | Test Acc: {test_accuracy:.2f}%\")\n",
    "\n",
    "    return history\n"
   ],
   "id": "f3b877f3869d3647",
   "outputs": [],
   "execution_count": 21
  },
  {
   "metadata": {
    "ExecuteTime": {
     "end_time": "2025-04-04T17:45:27.089791Z",
     "start_time": "2025-04-04T17:45:27.056472Z"
    }
   },
   "cell_type": "code",
   "source": [
    "model = Model([\n",
    "    ConvolutionalLayer(1, 16, 3, 1),  # Input: 1 channel, Output: 16 channels, 3x3 kernel, padding 1\n",
    "    ReLULayer(),\n",
    "    ConvolutionalLayer(16, 32, 3, 1),  # 16 -> 32 channels, 3x3 kernel, padding 1\n",
    "    ReLULayer(),\n",
    "    MaxPoolingLayer(2, 2),  # 2x2 pooling with stride 2 -> output 32 * 14 * 14\n",
    "\n",
    "    Flattener(),\n",
    "    FullyConnectedLayer(32 * 14 * 14, 10),\n",
    "])"
   ],
   "id": "7a1e1af08c2b507f",
   "outputs": [],
   "execution_count": 22
  },
  {
   "metadata": {
    "ExecuteTime": {
     "end_time": "2025-04-04T17:47:24.423408Z",
     "start_time": "2025-04-04T17:45:27.865676Z"
    }
   },
   "cell_type": "code",
   "source": [
    "epochs = 4\n",
    "learning_rate = 0.001\n",
    "train_history = train_model(model, train_loader, test_loader, epochs, learning_rate)"
   ],
   "id": "b078e5ac34d37fea",
   "outputs": [
    {
     "name": "stdout",
     "output_type": "stream",
     "text": [
      "Epoch 1/4\n",
      "------------------------------\n",
      "Train Loss: 2.2659 | Train Acc: 19.00%\n",
      "Test Loss: 2.1511 | Test Acc: 42.72%\n",
      "Epoch 2/4\n",
      "------------------------------\n",
      "Train Loss: 2.0417 | Train Acc: 47.00%\n",
      "Test Loss: 1.8934 | Test Acc: 48.98%\n",
      "Epoch 3/4\n",
      "------------------------------\n",
      "Train Loss: 1.7262 | Train Acc: 60.80%\n",
      "Test Loss: 1.5516 | Test Acc: 69.66%\n",
      "Epoch 4/4\n",
      "------------------------------\n",
      "Train Loss: 1.3964 | Train Acc: 76.60%\n",
      "Test Loss: 1.2505 | Test Acc: 76.28%\n"
     ]
    }
   ],
   "execution_count": 23
  },
  {
   "metadata": {
    "ExecuteTime": {
     "end_time": "2025-04-04T17:48:10.674505Z",
     "start_time": "2025-04-04T17:48:10.431983Z"
    }
   },
   "cell_type": "code",
   "source": "model.grad_cam()[0, :, :, :].shape",
   "id": "666575003f58ff64",
   "outputs": [
    {
     "data": {
      "text/plain": [
       "(1, 28, 28)"
      ]
     },
     "execution_count": 26,
     "metadata": {},
     "output_type": "execute_result"
    }
   ],
   "execution_count": 26
  },
  {
   "metadata": {
    "ExecuteTime": {
     "end_time": "2025-04-04T17:58:21.811975Z",
     "start_time": "2025-04-04T17:58:21.731538Z"
    }
   },
   "cell_type": "code",
   "source": [
    "input = train_dataset[2][0]\n",
    "input_batched = torch.stack([input], dim=0)"
   ],
   "id": "7b903f91ca91ba4d",
   "outputs": [],
   "execution_count": 76
  },
  {
   "metadata": {
    "ExecuteTime": {
     "end_time": "2025-04-04T17:58:22.223928Z",
     "start_time": "2025-04-04T17:58:22.160385Z"
    }
   },
   "cell_type": "code",
   "source": [
    "plt.imshow(input.permute(1, 2, 0).numpy(), cmap='gray')\n",
    "plt.grid(False)\n",
    "plt.show()"
   ],
   "id": "24ab9a9f9af24d78",
   "outputs": [
    {
     "data": {
      "text/plain": [
       "<Figure size 640x480 with 1 Axes>"
      ],
      "image/png": "[encoded data removed]"
     },
     "metadata": {},
     "output_type": "display_data"
    }
   ],
   "execution_count": 77
  },
  {
   "metadata": {
    "ExecuteTime": {
     "end_time": "2025-04-04T17:58:22.763326Z",
     "start_time": "2025-04-04T17:58:22.703338Z"
    }
   },
   "cell_type": "code",
   "source": [
    "logits = model.forward(input_batched)\n",
    "\n",
    "probs = softmax(logits)\n",
    "\n",
    "probs"
   ],
   "id": "70e598789879ceb3",
   "outputs": [
    {
     "data": {
      "text/plain": [
       "array([[0.09643226, 0.02180152, 0.07162451, 0.08065472, 0.30939257,\n",
       "        0.06542283, 0.08352737, 0.06891228, 0.07016425, 0.13206768]])"
      ]
     },
     "execution_count": 78,
     "metadata": {},
     "output_type": "execute_result"
    }
   ],
   "execution_count": 78
  },
  {
   "metadata": {
    "ExecuteTime": {
     "end_time": "2025-04-04T17:58:23.372528Z",
     "start_time": "2025-04-04T17:58:23.341129Z"
    }
   },
   "cell_type": "code",
   "source": [
    "prediction = np.argmax(probs, axis=1)\n",
    "\n",
    "prediction"
   ],
   "id": "9fd511db3e3f1536",
   "outputs": [
    {
     "data": {
      "text/plain": [
       "array([4])"
      ]
     },
     "execution_count": 79,
     "metadata": {},
     "output_type": "execute_result"
    }
   ],
   "execution_count": 79
  },
  {
   "metadata": {
    "ExecuteTime": {
     "end_time": "2025-04-04T17:58:24.089444Z",
     "start_time": "2025-04-04T17:58:23.963047Z"
    }
   },
   "cell_type": "code",
   "source": "grad_cam_mask = model.grad_cam()[0]",
   "id": "2e98e5264506e015",
   "outputs": [],
   "execution_count": 80
  },
  {
   "metadata": {
    "ExecuteTime": {
     "end_time": "2025-04-04T17:58:25.040271Z",
     "start_time": "2025-04-04T17:58:24.923573Z"
    }
   },
   "cell_type": "code",
   "source": [
    "plt.imshow(grad_cam_mask.transpose(1, 2, 0), cmap='gray')\n",
    "plt.grid(False)\n",
    "plt.show()"
   ],
   "id": "ead02ea0d5ef0fe0",
   "outputs": [
    {
     "data": {
      "text/plain": [
       "<Figure size 640x480 with 1 Axes>"
      ],
      "image/png": "[encoded data removed]"
     },
     "metadata": {},
     "output_type": "display_data"
    }
   ],
   "execution_count": 81
  },
  {
   "metadata": {},
   "cell_type": "code",
   "outputs": [],
   "execution_count": null,
   "source": "",
   "id": "c0bf2984648fab3e"
  }
 ],
 "metadata": {
  "kernelspec": {
   "display_name": "Python 3",
   "language": "python",
   "name": "python3"
  },
  "language_info": {
   "codemirror_mode": {
    "name": "ipython",
    "version": 2
   },
   "file_extension": ".py",
   "mimetype": "text/x-python",
   "name": "python",
   "nbconvert_exporter": "python",
   "pygments_lexer": "ipython2",
   "version": "2.7.6"
  }
 },
 "nbformat": 4,
 "nbformat_minor": 5
}
