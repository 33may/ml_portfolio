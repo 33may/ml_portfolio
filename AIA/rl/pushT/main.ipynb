{
 "cells": [
  {
   "metadata": {
    "ExecuteTime": {
     "end_time": "2025-04-13T21:49:51.928714Z",
     "start_time": "2025-04-13T21:49:51.918875Z"
    }
   },
   "cell_type": "code",
   "source": [
    "from math import gamma\n",
    "from time import sleep\n",
    "\n",
    "import torch\n",
    "\n",
    "compute_device = torch.device('cuda' if torch.cuda.is_available() else 'mps')\n",
    "cpu_device = torch.device('cpu')"
   ],
   "id": "8858c545aef378d4",
   "outputs": [],
   "execution_count": 41
  },
  {
   "metadata": {
    "ExecuteTime": {
     "end_time": "2025-04-13T21:24:34.995628Z",
     "start_time": "2025-04-13T21:24:34.988653Z"
    }
   },
   "cell_type": "code",
   "source": "torch.cuda.is_available()",
   "id": "a0613f77d6970844",
   "outputs": [
    {
     "data": {
      "text/plain": [
       "False"
      ]
     },
     "execution_count": 5,
     "metadata": {},
     "output_type": "execute_result"
    }
   ],
   "execution_count": 5
  },
  {
   "metadata": {},
   "cell_type": "markdown",
   "source": "# Env",
   "id": "86356765458d747a"
  },
  {
   "metadata": {
    "ExecuteTime": {
     "end_time": "2025-04-13T21:29:37.561837Z",
     "start_time": "2025-04-13T21:29:37.549777Z"
    }
   },
   "cell_type": "code",
   "source": [
    "def make_env(render_mode=\"rgb_array\"):\n",
    "    env = gym.make(\"gym_pusht/PushT-v0\", render_mode=render_mode)\n",
    "    return env"
   ],
   "id": "bc1f5f082b433a4",
   "outputs": [],
   "execution_count": 23
  },
  {
   "metadata": {
    "ExecuteTime": {
     "end_time": "2025-04-13T21:29:38.140248Z",
     "start_time": "2025-04-13T21:29:38.127014Z"
    }
   },
   "cell_type": "code",
   "source": [
    "import gymnasium as gym\n",
    "import gym_pusht\n",
    "from time import sleep\n",
    "\n",
    "env = make_env()"
   ],
   "id": "dae4034a51530939",
   "outputs": [],
   "execution_count": 24
  },
  {
   "metadata": {
    "ExecuteTime": {
     "end_time": "2025-04-13T13:03:59.097023Z",
     "start_time": "2025-04-13T13:03:23.024132Z"
    }
   },
   "cell_type": "code",
   "outputs": [
    {
     "ename": "KeyboardInterrupt",
     "evalue": "",
     "output_type": "error",
     "traceback": [
      "\u001B[31m---------------------------------------------------------------------------\u001B[39m",
      "\u001B[31mKeyboardInterrupt\u001B[39m                         Traceback (most recent call last)",
      "\u001B[36mCell\u001B[39m\u001B[36m \u001B[39m\u001B[32mIn[61]\u001B[39m\u001B[32m, line 9\u001B[39m\n\u001B[32m      6\u001B[39m observation, info = env.reset()\n\u001B[32m      8\u001B[39m \u001B[38;5;28;01mfor\u001B[39;00m _ \u001B[38;5;129;01min\u001B[39;00m \u001B[38;5;28mrange\u001B[39m(\u001B[32m1000\u001B[39m):\n\u001B[32m----> \u001B[39m\u001B[32m9\u001B[39m     \u001B[43msleep\u001B[49m\u001B[43m(\u001B[49m\u001B[32;43m0.2\u001B[39;49m\u001B[43m)\u001B[49m\n\u001B[32m     10\u001B[39m     action = env.action_space.sample()\n\u001B[32m     11\u001B[39m     observation, reward, terminated, truncated, info = env.step(action)\n",
      "\u001B[31mKeyboardInterrupt\u001B[39m: "
     ]
    }
   ],
   "execution_count": 61,
   "source": [
    "observation, info = env.reset()\n",
    "\n",
    "for _ in range(1000):\n",
    "    sleep(0.2)\n",
    "    action = env.action_space.sample()\n",
    "    observation, reward, terminated, truncated, info = env.step(action)\n",
    "    image = env.render()\n",
    "\n",
    "    if terminated or truncated:\n",
    "        observation, info = env.reset()\n",
    "\n",
    "env.close()"
   ],
   "id": "ec79454c1f427403"
  },
  {
   "metadata": {},
   "cell_type": "markdown",
   "source": [
    "Implement the deepq Learning to compete the task\n",
    "\n",
    "# Part 1: Numerical PushT state"
   ],
   "id": "e2c5fdb9d360c10d"
  },
  {
   "metadata": {},
   "cell_type": "markdown",
   "source": [
    "## Observation Space\n",
    "\n",
    "If obs_type is set to state, the observation space is a 5-dimensional vector representing the state of the environment: [agent_x, agent_y, block_x, block_y, block_angle]. The values are in the range [0, 512] for the agent and block positions and [0, 2*pi] for the block angle.\n",
    "\n",
    "If obs_type is set to environment_state_agent_pos the observation space is a dictionary with: - environment_state: 16-dimensional vector representing the keypoint locations of the T (in [x0, y0, x1, y1, ...] format). The values are in the range [0, 512]. - agent_pos: A 2-dimensional vector representing the position of the robot end-effector.\n",
    "\n",
    "If obs_type is set to pixels, the observation space is a 96x96 RGB image of the environment."
   ],
   "id": "bc5e6ca06d7cae1e"
  },
  {
   "metadata": {
    "ExecuteTime": {
     "end_time": "2025-04-13T21:25:14.457249Z",
     "start_time": "2025-04-13T21:25:14.449368Z"
    }
   },
   "cell_type": "code",
   "source": "env.observation_space",
   "id": "3532b284239d8319",
   "outputs": [
    {
     "data": {
      "text/plain": [
       "Box(0.0, [512.         512.         512.         512.           6.28318531], (5,), float64)"
      ]
     },
     "execution_count": 11,
     "metadata": {},
     "output_type": "execute_result"
    }
   ],
   "execution_count": 11
  },
  {
   "metadata": {},
   "cell_type": "markdown",
   "source": [
    "The Policy model is designed to give the action $a$ given the state $s$.\n",
    "\n",
    "input:\n",
    "\n",
    "$$\n",
    "[agent_x, agent_y, t_x, t_y, t_{angle}]\n",
    "$$\n",
    "\n",
    "output\n",
    "\n",
    "$$\n",
    "[move_x, move_y]\n",
    "$$\n",
    "\n",
    "\n",
    "so the model tells\n",
    "\n",
    "$$\n",
    "a = P(s)\n",
    "$$"
   ],
   "id": "cc54863a51844fba"
  },
  {
   "metadata": {
    "ExecuteTime": {
     "end_time": "2025-04-13T21:25:16.508739Z",
     "start_time": "2025-04-13T21:25:16.502819Z"
    }
   },
   "cell_type": "code",
   "source": [
    "from torch import nn\n",
    "import torch.nn.functional as F\n",
    "\n",
    "\n",
    "class Policy(nn.Module):\n",
    "    def __init__(self):\n",
    "        super(Policy, self).__init__()\n",
    "        self.fc1 = nn.Linear(env.observation_space.shape[0], 64)\n",
    "        self.fc2 = nn.Linear(64, 64)\n",
    "        self.fc3 = nn.Linear(64, 2)\n",
    "\n",
    "    def forward(self, x):\n",
    "        x = F.relu(self.fc1(x))\n",
    "        x = F.relu(self.fc2(x))\n",
    "        x = self.fc3(x)\n",
    "\n",
    "        return x"
   ],
   "id": "a922690350c34ee9",
   "outputs": [],
   "execution_count": 12
  },
  {
   "metadata": {
    "ExecuteTime": {
     "end_time": "2025-04-13T21:25:17.381005Z",
     "start_time": "2025-04-13T21:25:17.365631Z"
    }
   },
   "cell_type": "code",
   "source": "model = Policy()",
   "id": "507e7f6d6153081e",
   "outputs": [],
   "execution_count": 13
  },
  {
   "metadata": {
    "ExecuteTime": {
     "end_time": "2025-04-13T21:25:18.507220Z",
     "start_time": "2025-04-13T21:25:18.479426Z"
    }
   },
   "cell_type": "code",
   "source": [
    "input = torch.rand((4, 5))\n",
    "\n",
    "input"
   ],
   "id": "bd6bcbad5e249537",
   "outputs": [
    {
     "data": {
      "text/plain": [
       "tensor([[7.0812e-01, 2.9347e-01, 6.3819e-01, 1.2315e-01, 8.5370e-01],\n",
       "        [2.5635e-01, 7.0662e-01, 9.4525e-02, 5.9024e-01, 1.4743e-01],\n",
       "        [9.6483e-01, 8.8398e-02, 6.5643e-04, 2.8631e-01, 3.9741e-01],\n",
       "        [3.8779e-01, 1.1301e-01, 2.2382e-01, 6.4386e-01, 7.5785e-01]])"
      ]
     },
     "execution_count": 14,
     "metadata": {},
     "output_type": "execute_result"
    }
   ],
   "execution_count": 14
  },
  {
   "metadata": {
    "ExecuteTime": {
     "end_time": "2025-04-13T21:25:18.856920Z",
     "start_time": "2025-04-13T21:25:18.846234Z"
    }
   },
   "cell_type": "code",
   "source": [
    "output = model(input)\n",
    "\n",
    "print(output.shape)\n",
    "output.detach().numpy()"
   ],
   "id": "b0d3bf08af70bb2a",
   "outputs": [
    {
     "name": "stdout",
     "output_type": "stream",
     "text": [
      "torch.Size([4, 2])\n"
     ]
    },
    {
     "data": {
      "text/plain": [
       "array([[ 0.05687009, -0.01775344],\n",
       "       [ 0.10334413, -0.02803724],\n",
       "       [ 0.09294878, -0.03567781],\n",
       "       [ 0.04785617, -0.03231449]], dtype=float32)"
      ]
     },
     "execution_count": 15,
     "metadata": {},
     "output_type": "execute_result"
    }
   ],
   "execution_count": 15
  },
  {
   "metadata": {
    "ExecuteTime": {
     "end_time": "2025-04-13T21:25:19.379859Z",
     "start_time": "2025-04-13T21:25:19.363529Z"
    }
   },
   "cell_type": "code",
   "source": [
    "class Critic(nn.Module):\n",
    "    def __init__(self):\n",
    "        super(Critic, self).__init__()\n",
    "        self.fc1 = nn.Linear(env.observation_space.shape[0] + env.action_space.shape[0], 64)\n",
    "        self.fc2 = nn.Linear(64, 64)\n",
    "        self.fc3 = nn.Linear(64, 1)\n",
    "\n",
    "    def forward(self, x):\n",
    "        x = F.relu(self.fc1(x))\n",
    "        x = F.relu(self.fc2(x))\n",
    "        x = F.relu(self.fc3(x))\n",
    "\n",
    "        return x"
   ],
   "id": "db60648c4b319e90",
   "outputs": [],
   "execution_count": 16
  },
  {
   "metadata": {
    "ExecuteTime": {
     "end_time": "2025-04-13T21:25:21.369978Z",
     "start_time": "2025-04-13T21:25:21.363861Z"
    }
   },
   "cell_type": "code",
   "source": [
    "model = Critic()\n",
    "input = torch.rand((4, 7))\n",
    "\n",
    "input"
   ],
   "id": "1c6c3f6aa5c4a3c7",
   "outputs": [
    {
     "data": {
      "text/plain": [
       "tensor([[0.6828, 0.1745, 0.8521, 0.2143, 0.3034, 0.7537, 0.4590],\n",
       "        [0.3627, 0.1563, 0.4809, 0.8539, 0.2025, 0.7409, 0.7964],\n",
       "        [0.2526, 0.9531, 0.3883, 0.9095, 0.8693, 0.7960, 0.4940],\n",
       "        [0.2837, 0.2805, 0.2066, 0.1380, 0.0584, 0.0595, 0.1713]])"
      ]
     },
     "execution_count": 17,
     "metadata": {},
     "output_type": "execute_result"
    }
   ],
   "execution_count": 17
  },
  {
   "metadata": {
    "ExecuteTime": {
     "end_time": "2025-04-13T21:25:22.292526Z",
     "start_time": "2025-04-13T21:25:22.285211Z"
    }
   },
   "cell_type": "code",
   "source": [
    "output = model(input)\n",
    "\n",
    "print(output.shape)\n",
    "output.detach().numpy()"
   ],
   "id": "a1fcc2a9dcab25af",
   "outputs": [
    {
     "name": "stdout",
     "output_type": "stream",
     "text": [
      "torch.Size([4, 1])\n"
     ]
    },
    {
     "data": {
      "text/plain": [
       "array([[0.],\n",
       "       [0.],\n",
       "       [0.],\n",
       "       [0.]], dtype=float32)"
      ]
     },
     "execution_count": 18,
     "metadata": {},
     "output_type": "execute_result"
    }
   ],
   "execution_count": 18
  },
  {
   "metadata": {},
   "cell_type": "markdown",
   "source": [
    "Critic model is aimed to estimate\n",
    "\n",
    "$$\n",
    "Q(s,a)\n",
    "$$\n",
    "\n",
    "it takes concat input $[s,a]$, more detailed\n",
    "\n",
    "input\n",
    "\n",
    "$$\n",
    "[agent_x, agent_y, t_x, t_y, t_{angle}, move_x, move_y]\n",
    "$$\n",
    "\n",
    "output\n",
    "\n",
    "$$\n",
    "score\n",
    "$$\n",
    "\n",
    "\n",
    "so it give single estimate of $Q$ value\n",
    "\n",
    "$$\n",
    "score = Q(s,a)\n",
    "$$\n",
    "\n",
    "The Policy model is trained using Critic model\n",
    "\n",
    "Since we cant directly access the action value $Q(s,a)$ we use the critic model that gives estimate $Q'(s,a)$ to understand the value of this state action pair. Then we could use this estimate to compute the loss\n",
    "\n",
    "\n",
    "$$\n",
    "loss = -Q'(s,a)\n",
    "$$\n",
    "\n",
    "\\- is used because optimization tasks aim to minimize function, hence minimizing -f is equivalent to maximizing f"
   ],
   "id": "4cf17505f9781f41"
  },
  {
   "metadata": {
    "ExecuteTime": {
     "end_time": "2025-04-13T21:25:24.292544Z",
     "start_time": "2025-04-13T21:25:24.287086Z"
    }
   },
   "cell_type": "code",
   "source": [
    "def train_policy(policy_model, critic_model, input, optimizer):\n",
    "    optimizer.zero_grad()\n",
    "\n",
    "    input = input.to(compute_device)\n",
    "\n",
    "    output = policy_model(input)\n",
    "\n",
    "    critic_input = torch.cat((input, output), dim=1)\n",
    "\n",
    "    score = critic_model(critic_input)\n",
    "\n",
    "    loss = -score\n",
    "\n",
    "    loss.backward()\n",
    "    optimizer.step()\n",
    "\n",
    "    return loss.item()"
   ],
   "id": "4b398896813e24d5",
   "outputs": [],
   "execution_count": 19
  },
  {
   "metadata": {},
   "cell_type": "markdown",
   "source": "For training critic, we use the actual reward we received from the env, bootstrap with critic model and train it with basic MSE loss",
   "id": "685a9eec2dbccad2"
  },
  {
   "metadata": {
    "ExecuteTime": {
     "end_time": "2025-04-13T21:25:26.466310Z",
     "start_time": "2025-04-13T21:25:26.461478Z"
    }
   },
   "cell_type": "code",
   "source": [
    "def train_critic(model, input, target, optimizer):\n",
    "    optimizer.zero_grad()\n",
    "    criterion = nn.MSELoss()\n",
    "\n",
    "    model.train()\n",
    "\n",
    "    input = input.to(compute_device)\n",
    "\n",
    "    output = model(input)\n",
    "\n",
    "    loss = criterion(output, target)\n",
    "\n",
    "    loss.backward()\n",
    "    optimizer.step()\n",
    "\n",
    "    return loss.item()"
   ],
   "id": "451971957e45a10c",
   "outputs": [],
   "execution_count": 20
  },
  {
   "metadata": {},
   "cell_type": "markdown",
   "source": [
    "so in my approach the policy actually changes, but I could ignore the fact that actions were recorded under another distribution because I am using Q, which gives some level of abstraction which is stable for the environment and any optimal policy will converge to identical function. Then the agent here is just the another function that is trained on this level of the representation of the environment. If I had the training process without Q where the policy is responsible to somehow incorporate the knowledge of the environment inside itself then I need to also think of sampling, because on the interpretation level the actions were done on that perception of env, which changed with policy.\n",
    "\n",
    "this is idea of the model-based and model-free and particaul;larty off-policy and on-policy in the fact that env is not encoded in the model"
   ],
   "id": "d8e48b00ca270c35"
  },
  {
   "metadata": {},
   "cell_type": "markdown",
   "source": [
    "Here comes the problem since the update rule is based on MSE of the value\n",
    "$$\n",
    "(Q(s,a), R(s,a))\n",
    "$$\n",
    "\n",
    "where target $R(s,a)$ is calculated\n",
    "\n",
    "$$\n",
    "R(s,a) = r + \\gamma \\cdot Q(s', \\pi(s'))\n",
    "$$\n",
    "\n",
    "then the update rule:\n",
    "\n",
    "$$\n",
    "Q(s,a) \\leftarrow \\alpha \\cdot (Q(s,a) - (r + \\gamma \\cdot Q(s', \\pi(s'))))^2\n",
    "$$\n",
    "\n",
    "To solve this problem, I use the target models, this is the same duplicate of the Critic Model that is training with delay from the actual model, this will ensure more stable training process and prevent explode, when update depends on itself."
   ],
   "id": "fdd5fb603e896f82"
  },
  {
   "metadata": {
    "ExecuteTime": {
     "end_time": "2025-04-13T21:53:36.179058Z",
     "start_time": "2025-04-13T21:53:36.169378Z"
    }
   },
   "cell_type": "code",
   "source": [
    "import random\n",
    "\n",
    "\n",
    "class Memory:\n",
    "    def __init__(self, batch_size=128, max_size=1024):\n",
    "        self.batch_size = batch_size\n",
    "        self.max_size = max_size\n",
    "\n",
    "        self.states = []\n",
    "        self.actions = []\n",
    "        self.targets = []\n",
    "\n",
    "    def add(self, state, action, target):\n",
    "        self.states.append(state)\n",
    "        self.actions.append(action)\n",
    "        self.targets.append(target)\n",
    "\n",
    "        if len(self.states) > self.max_size:\n",
    "            self._pop_oldest()\n",
    "\n",
    "    def _pop_oldest(self):\n",
    "        self.states.pop(0)\n",
    "        self.actions.pop(0)\n",
    "        self.targets.pop(0)\n",
    "\n",
    "    def enough_sample(self):\n",
    "        return len(self.states) >= self.batch_size\n",
    "\n",
    "    def sample(self):\n",
    "        idxs = random.sample(range(len(self.states)), self.batch_size)\n",
    "        batch = dict(\n",
    "            states=torch.stack([self.states[i] for i in idxs]),\n",
    "            actions=torch.stack([self.actions[i] for i in idxs]),\n",
    "            rewards=torch.stack([self.targets[i] for i in idxs]),\n",
    "        )\n",
    "        return batch\n"
   ],
   "id": "8f5bbe5e16f29e23",
   "outputs": [],
   "execution_count": 43
  },
  {
   "metadata": {
    "ExecuteTime": {
     "end_time": "2025-04-13T21:53:53.392171Z",
     "start_time": "2025-04-13T21:53:45.023616Z"
    }
   },
   "cell_type": "code",
   "source": [
    "def train(policy,\n",
    "          critic,\n",
    "          policy_target,\n",
    "          critic_target,\n",
    "          optimizer_policy,\n",
    "          optimizer_critic,\n",
    "          memory, episodes,\n",
    "          max_steps,\n",
    "          gamma,\n",
    "          tau):\n",
    "    env = make_env()\n",
    "\n",
    "    for episode in range(episodes):\n",
    "\n",
    "        state, _ = env.reset()\n",
    "\n",
    "        for t in range(max_steps):\n",
    "            #  Выбор действия по текущей policy\n",
    "\n",
    "            cur_state_policy_input = torch.tensor(state, dtype=torch.float).to(compute_device)\n",
    "            action = policy(cur_state_policy_input).detach().to(cpu_device)\n",
    "\n",
    "            #  Выполнение действия в среде\n",
    "            next_state, reward, terminated, truncated, _ = env.step(action)\n",
    "\n",
    "            # Вычисление target: r + γ * Q_target(s', π_target(s'))\n",
    "            with torch.no_grad():\n",
    "                next_state_tensor = torch.tensor(next_state, dtype=torch.float).to(compute_device)\n",
    "                target_policy_action = policy_target(next_state_tensor)\n",
    "                critic_input_target = torch.cat((next_state_tensor, target_policy_action))\n",
    "                q_target_value = critic_target(critic_input_target)\n",
    "                target = (reward + gamma * q_target_value).to(cpu_device)\n",
    "\n",
    "            del cur_state_policy_input, next_state_tensor, target_policy_action, q_target_value\n",
    "\n",
    "            #  Сохранение перехода в память\n",
    "            memory.add((torch.tensor(state), action, target))\n",
    "\n",
    "            #  Обновление состояния\n",
    "            state = next_state\n",
    "\n",
    "\n",
    "\n",
    "             #  Выборка batch\n",
    "            batch = memory.sample()\n",
    "            input = torch.tensor(batch).to(device)\n",
    "            # [(s, a, target)]\n",
    "\n",
    "            #  Вычисление Q(s,a) текущим критиком\n",
    "            # critic_input = concat(s, a)\n",
    "            # predicted_q = critic(critic_input)\n",
    "\n",
    "\n",
    "            print(33)\n",
    "\n",
    "        #  Если накопилось достаточно данных → обучаемся\n",
    "        if memory.enough_sample():\n",
    "            #  Выборка batch\n",
    "            batch = memory.sample()\n",
    "            input = torch.tensor(batch).to(device)\n",
    "            # [(s, a, target)]\n",
    "\n",
    "            #  Вычисление Q(s,a) текущим критиком\n",
    "            # critic_input = concat(s, a)\n",
    "            # predicted_q = critic(critic_input)\n",
    "\n",
    "            # 9. Обновление критика по MSE\n",
    "            # critic_loss = MSE(predicted_q, target)\n",
    "            # optimizer_critic.zero_grad()\n",
    "            # critic_loss.backward()\n",
    "            # optimizer_critic.step()\n",
    "\n",
    "            ## === ОБНОВЛЕНИЕ POLICY === ##\n",
    "            # 10. Генерация действий по policy\n",
    "            # policy_action = policy(s)\n",
    "            # critic_input_for_policy = concat(s, policy_action)\n",
    "\n",
    "            # 11. Подсчёт -Q(s, π(s)) (градиент идёт через π)\n",
    "            # policy_loss = -critic(critic_input_for_policy).mean()\n",
    "            # optimizer_policy.zero_grad()\n",
    "            # policy_loss.backward()\n",
    "            # optimizer_policy.step()\n",
    "\n",
    "            ## === ОБНОВЛЕНИЕ TARGET-СЕТЕЙ === ##\n",
    "            # soft_update(policy_target, policy, tau)\n",
    "            # soft_update(critic_target, critic, tau)\n",
    "\n",
    "\n",
    "policy_model = Policy().to(compute_device)\n",
    "critic_model = Critic().to(compute_device)\n",
    "policy_target = Policy().to(compute_device)\n",
    "critic_target = Critic().to(compute_device)\n",
    "optimizer_policy = torch.optim.Adam(policy_model.parameters(), lr=1e-3)\n",
    "optimizer_critic = torch.optim.Adam(critic_model.parameters(), lr=1e-3)\n",
    "memory = Memory()\n",
    "\n",
    "\n",
    "\n",
    "train(\n",
    "    policy_model,\n",
    "    critic_model,\n",
    "    policy_target,\n",
    "    critic_target,\n",
    "    optimizer_policy,\n",
    "    optimizer_critic,\n",
    "    memory,\n",
    "    10000,\n",
    "    100,\n",
    "    0.9,\n",
    "    100)"
   ],
   "id": "4ccea2a00387e61e",
   "outputs": [
    {
     "ename": "TypeError",
     "evalue": "Memory.add() missing 2 required positional arguments: 'action' and 'target'",
     "output_type": "error",
     "traceback": [
      "\u001B[31m---------------------------------------------------------------------------\u001B[39m",
      "\u001B[31mTypeError\u001B[39m                                 Traceback (most recent call last)",
      "\u001B[36mCell\u001B[39m\u001B[36m \u001B[39m\u001B[32mIn[44]\u001B[39m\u001B[32m, line 102\u001B[39m\n\u001B[32m     97\u001B[39m optimizer_critic = torch.optim.Adam(critic_model.parameters(), lr=\u001B[32m1e-3\u001B[39m)\n\u001B[32m     98\u001B[39m memory = Memory()\n\u001B[32m--> \u001B[39m\u001B[32m102\u001B[39m \u001B[43mtrain\u001B[49m\u001B[43m(\u001B[49m\n\u001B[32m    103\u001B[39m \u001B[43m    \u001B[49m\u001B[43mpolicy_model\u001B[49m\u001B[43m,\u001B[49m\n\u001B[32m    104\u001B[39m \u001B[43m    \u001B[49m\u001B[43mcritic_model\u001B[49m\u001B[43m,\u001B[49m\n\u001B[32m    105\u001B[39m \u001B[43m    \u001B[49m\u001B[43mpolicy_target\u001B[49m\u001B[43m,\u001B[49m\n\u001B[32m    106\u001B[39m \u001B[43m    \u001B[49m\u001B[43mcritic_target\u001B[49m\u001B[43m,\u001B[49m\n\u001B[32m    107\u001B[39m \u001B[43m    \u001B[49m\u001B[43moptimizer_policy\u001B[49m\u001B[43m,\u001B[49m\n\u001B[32m    108\u001B[39m \u001B[43m    \u001B[49m\u001B[43moptimizer_critic\u001B[49m\u001B[43m,\u001B[49m\n\u001B[32m    109\u001B[39m \u001B[43m    \u001B[49m\u001B[43mmemory\u001B[49m\u001B[43m,\u001B[49m\n\u001B[32m    110\u001B[39m \u001B[43m    \u001B[49m\u001B[32;43m10000\u001B[39;49m\u001B[43m,\u001B[49m\n\u001B[32m    111\u001B[39m \u001B[43m    \u001B[49m\u001B[32;43m100\u001B[39;49m\u001B[43m,\u001B[49m\n\u001B[32m    112\u001B[39m \u001B[43m    \u001B[49m\u001B[32;43m0.9\u001B[39;49m\u001B[43m,\u001B[49m\n\u001B[32m    113\u001B[39m \u001B[43m    \u001B[49m\u001B[32;43m100\u001B[39;49m\u001B[43m)\u001B[49m\n",
      "\u001B[36mCell\u001B[39m\u001B[36m \u001B[39m\u001B[32mIn[44]\u001B[39m\u001B[32m, line 37\u001B[39m, in \u001B[36mtrain\u001B[39m\u001B[34m(policy, critic, policy_target, critic_target, optimizer_policy, optimizer_critic, memory, episodes, max_steps, gamma, tau)\u001B[39m\n\u001B[32m     34\u001B[39m \u001B[38;5;28;01mdel\u001B[39;00m cur_state_policy_input, next_state_tensor, target_policy_action, q_target_value\n\u001B[32m     36\u001B[39m \u001B[38;5;66;03m#  Сохранение перехода в память\u001B[39;00m\n\u001B[32m---> \u001B[39m\u001B[32m37\u001B[39m \u001B[43mmemory\u001B[49m\u001B[43m.\u001B[49m\u001B[43madd\u001B[49m\u001B[43m(\u001B[49m\u001B[43m(\u001B[49m\u001B[43mtorch\u001B[49m\u001B[43m.\u001B[49m\u001B[43mtensor\u001B[49m\u001B[43m(\u001B[49m\u001B[43mstate\u001B[49m\u001B[43m)\u001B[49m\u001B[43m,\u001B[49m\u001B[43m \u001B[49m\u001B[43maction\u001B[49m\u001B[43m,\u001B[49m\u001B[43m \u001B[49m\u001B[43mtarget\u001B[49m\u001B[43m)\u001B[49m\u001B[43m)\u001B[49m\n\u001B[32m     39\u001B[39m \u001B[38;5;66;03m#  Обновление состояния\u001B[39;00m\n\u001B[32m     40\u001B[39m state = next_state\n",
      "\u001B[31mTypeError\u001B[39m: Memory.add() missing 2 required positional arguments: 'action' and 'target'"
     ]
    }
   ],
   "execution_count": 44
  },
  {
   "metadata": {},
   "cell_type": "code",
   "outputs": [],
   "execution_count": null,
   "source": "",
   "id": "c12ed16288f2ae38"
  }
 ],
 "metadata": {
  "kernelspec": {
   "display_name": "Python 3",
   "language": "python",
   "name": "python3"
  },
  "language_info": {
   "codemirror_mode": {
    "name": "ipython",
    "version": 2
   },
   "file_extension": ".py",
   "mimetype": "text/x-python",
   "name": "python",
   "nbconvert_exporter": "python",
   "pygments_lexer": "ipython2",
   "version": "2.7.6"
  }
 },
 "nbformat": 4,
 "nbformat_minor": 5
}
