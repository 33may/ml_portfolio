{
 "cells": [
  {
   "metadata": {
    "ExecuteTime": {
     "end_time": "2025-04-14T13:21:12.365706Z",
     "start_time": "2025-04-14T13:21:11.710806Z"
    }
   },
   "cell_type": "code",
   "source": [
    "from math import gamma\n",
    "from time import sleep\n",
    "\n",
    "import torch\n",
    "\n",
    "compute_device = torch.device('cuda' if torch.cuda.is_available() else 'mps')\n",
    "cpu_device = torch.device('cpu')"
   ],
   "id": "8858c545aef378d4",
   "outputs": [],
   "execution_count": 1
  },
  {
   "metadata": {
    "ExecuteTime": {
     "end_time": "2025-04-14T13:21:12.390361Z",
     "start_time": "2025-04-14T13:21:12.368571Z"
    }
   },
   "cell_type": "code",
   "source": [
    "%load_ext autoreload\n",
    "%autoreload 2"
   ],
   "id": "dfa3e29f27e47ae4",
   "outputs": [],
   "execution_count": 2
  },
  {
   "metadata": {
    "ExecuteTime": {
     "end_time": "2025-04-14T13:21:12.436700Z",
     "start_time": "2025-04-14T13:21:12.430212Z"
    }
   },
   "cell_type": "code",
   "source": "torch.cuda.is_available()",
   "id": "a0613f77d6970844",
   "outputs": [
    {
     "data": {
      "text/plain": [
       "True"
      ]
     },
     "execution_count": 3,
     "metadata": {},
     "output_type": "execute_result"
    }
   ],
   "execution_count": 3
  },
  {
   "metadata": {},
   "cell_type": "markdown",
   "source": "# Env",
   "id": "86356765458d747a"
  },
  {
   "metadata": {
    "ExecuteTime": {
     "end_time": "2025-04-14T13:21:13.102490Z",
     "start_time": "2025-04-14T13:21:13.096716Z"
    }
   },
   "cell_type": "code",
   "source": [
    "def make_env(render_mode=\"rgb_array\"):\n",
    "    env = gym.make(\"gym_pusht/PushT-v0\", render_mode=render_mode)\n",
    "    return env"
   ],
   "id": "bc1f5f082b433a4",
   "outputs": [],
   "execution_count": 4
  },
  {
   "metadata": {
    "ExecuteTime": {
     "end_time": "2025-04-14T13:21:13.514665Z",
     "start_time": "2025-04-14T13:21:13.450660Z"
    }
   },
   "cell_type": "code",
   "source": [
    "import gymnasium as gym\n",
    "import gym_pusht\n",
    "from time import sleep\n",
    "\n",
    "env = make_env()"
   ],
   "id": "dae4034a51530939",
   "outputs": [],
   "execution_count": 5
  },
  {
   "metadata": {
    "ExecuteTime": {
     "end_time": "2025-04-14T13:21:24.394573Z",
     "start_time": "2025-04-14T13:21:13.792833Z"
    }
   },
   "cell_type": "code",
   "source": [
    "test_env = make_env(render_mode=\"human\")\n",
    "\n",
    "observation, info = test_env.reset()\n",
    "\n",
    "for _ in range(50):\n",
    "    sleep(0.2)\n",
    "    action = test_env.action_space.sample()\n",
    "    observation, reward, terminated, truncated, info = test_env.step(action)\n",
    "    image = test_env.render()\n",
    "\n",
    "    if terminated or truncated:\n",
    "        observation, info = test_env.reset()\n",
    "\n",
    "test_env.close()"
   ],
   "id": "ec79454c1f427403",
   "outputs": [],
   "execution_count": 6
  },
  {
   "metadata": {},
   "cell_type": "markdown",
   "source": [
    "Implement the deepq Learning to compete the task\n",
    "\n",
    "# Part 1: Numerical PushT state"
   ],
   "id": "e2c5fdb9d360c10d"
  },
  {
   "metadata": {},
   "cell_type": "markdown",
   "source": [
    "## Observation Space\n",
    "\n",
    "If obs_type is set to state, the observation space is a 5-dimensional vector representing the state of the environment: [agent_x, agent_y, block_x, block_y, block_angle]. The values are in the range [0, 512] for the agent and block positions and [0, 2*pi] for the block angle.\n",
    "\n",
    "If obs_type is set to environment_state_agent_pos the observation space is a dictionary with: - environment_state: 16-dimensional vector representing the keypoint locations of the T (in [x0, y0, x1, y1, ...] format). The values are in the range [0, 512]. - agent_pos: A 2-dimensional vector representing the position of the robot end-effector.\n",
    "\n",
    "If obs_type is set to pixels, the observation space is a 96x96 RGB image of the environment."
   ],
   "id": "bc5e6ca06d7cae1e"
  },
  {
   "metadata": {
    "ExecuteTime": {
     "end_time": "2025-04-14T13:21:27.751239Z",
     "start_time": "2025-04-14T13:21:27.744494Z"
    }
   },
   "cell_type": "code",
   "source": "env.observation_space",
   "id": "3532b284239d8319",
   "outputs": [
    {
     "data": {
      "text/plain": [
       "Box(0.0, [512.         512.         512.         512.           6.28318531], (5,), float64)"
      ]
     },
     "execution_count": 7,
     "metadata": {},
     "output_type": "execute_result"
    }
   ],
   "execution_count": 7
  },
  {
   "metadata": {},
   "cell_type": "markdown",
   "source": [
    "The Policy model is designed to give the action $a$ given the state $s$.\n",
    "\n",
    "input:\n",
    "\n",
    "$$\n",
    "[agent_x, agent_y, t_x, t_y, t_{angle}]\n",
    "$$\n",
    "\n",
    "output\n",
    "\n",
    "$$\n",
    "[move_x, move_y]\n",
    "$$\n",
    "\n",
    "\n",
    "so the model tells\n",
    "\n",
    "$$\n",
    "a = P(s)\n",
    "$$"
   ],
   "id": "cc54863a51844fba"
  },
  {
   "metadata": {
    "ExecuteTime": {
     "end_time": "2025-04-14T13:21:28.427588Z",
     "start_time": "2025-04-14T13:21:28.421294Z"
    }
   },
   "cell_type": "code",
   "source": [
    "# from torch import nn\n",
    "# import torch.nn.functional as F\n",
    "#\n",
    "#\n",
    "# class Policy(nn.Module):\n",
    "#     def __init__(self):\n",
    "#         super(Policy, self).__init__()\n",
    "#         self.fc1 = nn.Linear(env.observation_space.shape[0], 64)\n",
    "#         self.fc2 = nn.Linear(64, 64)\n",
    "#         self.fc3 = nn.Linear(64, 2)\n",
    "#\n",
    "#     def forward(self, x):\n",
    "#         x = F.relu(self.fc1(x))\n",
    "#         x = F.relu(self.fc2(x))\n",
    "#         x = self.fc3(x)\n",
    "#\n",
    "#         return x\n",
    "# model = Policy()\n",
    "# input = torch.rand((4, 5))\n",
    "#\n",
    "# input\n",
    "# output = model(input)\n",
    "#\n",
    "# print(output.shape)\n",
    "# output.detach().numpy()"
   ],
   "id": "b0d3bf08af70bb2a",
   "outputs": [],
   "execution_count": 8
  },
  {
   "metadata": {
    "ExecuteTime": {
     "end_time": "2025-04-14T13:21:28.785391Z",
     "start_time": "2025-04-14T13:21:28.779255Z"
    }
   },
   "cell_type": "code",
   "source": [
    "# class Critic(nn.Module):\n",
    "#     def __init__(self):\n",
    "#         super(Critic, self).__init__()\n",
    "#         self.fc1 = nn.Linear(env.observation_space.shape[0] + env.action_space.shape[0], 64)\n",
    "#         self.fc2 = nn.Linear(64, 64)\n",
    "#         self.fc3 = nn.Linear(64, 1)\n",
    "#\n",
    "#     def forward(self, x):\n",
    "#         x = F.relu(self.fc1(x))\n",
    "#         x = F.relu(self.fc2(x))\n",
    "#         x = F.relu(self.fc3(x))\n",
    "#\n",
    "#         return x\n",
    "# model = Critic()\n",
    "# input = torch.rand((4, 7))\n",
    "#\n",
    "# input\n",
    "# output = model(input)\n",
    "#\n",
    "# print(output.shape)\n",
    "# output.detach().numpy()"
   ],
   "id": "a1fcc2a9dcab25af",
   "outputs": [],
   "execution_count": 9
  },
  {
   "metadata": {},
   "cell_type": "markdown",
   "source": [
    "Critic model is aimed to estimate\n",
    "\n",
    "$$\n",
    "Q(s,a)\n",
    "$$\n",
    "\n",
    "it takes concat input $[s,a]$, more detailed\n",
    "\n",
    "input\n",
    "\n",
    "$$\n",
    "[agent_x, agent_y, t_x, t_y, t_{angle}, move_x, move_y]\n",
    "$$\n",
    "\n",
    "output\n",
    "\n",
    "$$\n",
    "score\n",
    "$$\n",
    "\n",
    "\n",
    "so it give single estimate of $Q$ value\n",
    "\n",
    "$$\n",
    "score = Q(s,a)\n",
    "$$\n",
    "\n",
    "The Policy model is trained using Critic model\n",
    "\n",
    "Since we cant directly access the action value $Q(s,a)$ we use the critic model that gives estimate $Q'(s,a)$ to understand the value of this state action pair. Then we could use this estimate to compute the loss\n",
    "\n",
    "\n",
    "$$\n",
    "loss = -Q'(s,a)\n",
    "$$\n",
    "\n",
    "\\- is used because optimization tasks aim to minimize function, hence minimizing -f is equivalent to maximizing f"
   ],
   "id": "4cf17505f9781f41"
  },
  {
   "metadata": {
    "ExecuteTime": {
     "end_time": "2025-04-14T13:21:29.449336Z",
     "start_time": "2025-04-14T13:21:29.443188Z"
    }
   },
   "cell_type": "code",
   "source": [
    "# def train_policy(policy_model, critic_model, input, optimizer):\n",
    "#     \"\"\"\n",
    "#\n",
    "#     Args:\n",
    "#         policy_model: Model to update\n",
    "#         critic_model: Critic model to compute the value of the proposed action\n",
    "#         input: the input of shape [batch_size, 5] = (batch_size, observation_space.shape)\n",
    "#         optimizer: optimizer for the policy model\n",
    "#\n",
    "#     Returns:\n",
    "#\n",
    "#     \"\"\"\n",
    "#     optimizer.zero_grad()\n",
    "#\n",
    "#     input = input.to(compute_device)\n",
    "#\n",
    "#     output = policy_model(input)\n",
    "#\n",
    "#     critic_input = torch.cat((input, output), dim=1)\n",
    "#\n",
    "#     score = critic_model(critic_input)\n",
    "#\n",
    "#     loss = -score\n",
    "#\n",
    "#     loss.backward()\n",
    "#     optimizer.step()\n",
    "#\n",
    "#     return loss.item()"
   ],
   "id": "4b398896813e24d5",
   "outputs": [],
   "execution_count": 10
  },
  {
   "metadata": {},
   "cell_type": "markdown",
   "source": "For training critic, we use the actual reward we received from the env, bootstrap with critic model and train it with basic MSE loss",
   "id": "685a9eec2dbccad2"
  },
  {
   "metadata": {
    "ExecuteTime": {
     "end_time": "2025-04-14T13:21:30.254307Z",
     "start_time": "2025-04-14T13:21:30.248147Z"
    }
   },
   "cell_type": "code",
   "source": [
    "# def train_critic(critic_model, input, target, optimizer):\n",
    "#     \"\"\"\n",
    "#     Train function that run one update on the critic network using batch of inputs.\n",
    "#\n",
    "#     Args:\n",
    "#         critic_model: Model to update\n",
    "#         input: the input of shape [batch_size, 7] = (batch_size, observation_space.shape + action_space.shape)\n",
    "#         target: Is the target reward we received from env and critic_estimate model\n",
    "#         optimizer: optimizer for the critic model\n",
    "#\n",
    "#     Returns:\n",
    "#\n",
    "#     \"\"\"\n",
    "#     optimizer.zero_grad()\n",
    "#     criterion = nn.MSELoss()\n",
    "#\n",
    "#     critic_model.train()\n",
    "#\n",
    "#     input = input.to(compute_device)\n",
    "#\n",
    "#     output = critic_model(input)\n",
    "#\n",
    "#     loss = criterion(output, target)\n",
    "#\n",
    "#     loss.backward()\n",
    "#     optimizer.step()\n",
    "#\n",
    "#     return loss.item()"
   ],
   "id": "451971957e45a10c",
   "outputs": [],
   "execution_count": 11
  },
  {
   "metadata": {},
   "cell_type": "markdown",
   "source": [
    "so in my approach the policy actually changes, but I could ignore the fact that actions were recorded under another distribution because I am using Q, which gives some level of abstraction which is stable for the environment and any optimal policy will converge to identical function. Then the agent here is just the another function that is trained on this level of the representation of the environment. If I had the training process without Q where the policy is responsible to somehow incorporate the knowledge of the environment inside itself then I need to also think of sampling, because on the interpretation level the actions were done on that perception of env, which changed with policy.\n",
    "\n",
    "this is idea of the model-based and model-free and particaul;larty off-policy and on-policy in the fact that env is not encoded in the model"
   ],
   "id": "d8e48b00ca270c35"
  },
  {
   "metadata": {},
   "cell_type": "markdown",
   "source": [
    "Here comes the problem since the update rule is based on MSE of the value\n",
    "$$\n",
    "(Q(s,a), R(s,a))\n",
    "$$\n",
    "\n",
    "where target $R(s,a)$ is calculated\n",
    "\n",
    "$$\n",
    "R(s,a) = r + \\gamma \\cdot Q(s', \\pi(s'))\n",
    "$$\n",
    "\n",
    "then the update rule:\n",
    "\n",
    "$$\n",
    "Q(s,a) \\leftarrow \\alpha \\cdot (Q(s,a) - (r + \\gamma \\cdot Q(s', \\pi(s'))))^2\n",
    "$$\n",
    "\n",
    "To solve this problem, I use the target models, this is the same duplicate of the Critic Model that is training with delay from the actual model, this will ensure more stable training process and prevent explode, when update depends on itself."
   ],
   "id": "fdd5fb603e896f82"
  },
  {
   "metadata": {
    "ExecuteTime": {
     "end_time": "2025-04-14T13:21:32.217980Z",
     "start_time": "2025-04-14T13:21:32.210537Z"
    }
   },
   "cell_type": "code",
   "source": [
    "import random\n",
    "\n",
    "\n",
    "class Memory:\n",
    "    def __init__(self, batch_size=128, max_size=1024, min_sample=4096):\n",
    "        self.batch_size = batch_size\n",
    "        self.max_size = max_size\n",
    "        self.min_sample = min_sample\n",
    "\n",
    "        self.states = []\n",
    "        self.actions = []\n",
    "        self.rewards = []\n",
    "        self.next_states = []\n",
    "\n",
    "    def add(self, state, action, reward, next_state):\n",
    "        self.states.append(state)\n",
    "        self.actions.append(action)\n",
    "        self.rewards.append(reward)\n",
    "        self.next_states.append(next_state)\n",
    "\n",
    "        if len(self.states) > self.max_size:\n",
    "            self._pop_oldest()\n",
    "\n",
    "    def _pop_oldest(self):\n",
    "        self.states.pop(0)\n",
    "        self.actions.pop(0)\n",
    "        self.rewards.pop(0)\n",
    "        self.next_states.pop(0)\n",
    "\n",
    "    def enough_sample(self):\n",
    "        return len(self.states) >= self.min_sample\n",
    "\n",
    "    def sample(self):\n",
    "        idxs = random.sample(range(len(self.states)), self.batch_size)\n",
    "        batch = dict(\n",
    "            states=torch.stack([self.states[i] for i in idxs]),\n",
    "            actions=torch.stack([self.actions[i] for i in idxs]),\n",
    "            rewards=torch.stack([self.rewards[i] for i in idxs]),\n",
    "            next_states=torch.stack([self.next_states[i] for i in idxs]),\n",
    "        )\n",
    "        return batch\n"
   ],
   "id": "8f5bbe5e16f29e23",
   "outputs": [],
   "execution_count": 12
  },
  {
   "metadata": {
    "ExecuteTime": {
     "end_time": "2025-04-14T13:56:28.859689Z",
     "start_time": "2025-04-14T13:55:57.079537Z"
    }
   },
   "cell_type": "code",
   "source": [
    "import numpy as np\n",
    "from AIA.rl.pushT.Nets import Policy, Critic\n",
    "from AIA.rl.pushT.trainer import train_critic, train_policy, soft_update\n",
    "\n",
    "\n",
    "def train(policy,\n",
    "          critic,\n",
    "          policy_target,\n",
    "          critic_target,\n",
    "          optimizer_policy,\n",
    "          optimizer_critic,\n",
    "          memory,\n",
    "          episodes = 4000,\n",
    "          max_steps = 1000,\n",
    "          gamma = 0.99,\n",
    "          tau = 0.005):\n",
    "    env = make_env()\n",
    "\n",
    "    for episode in range(episodes):\n",
    "\n",
    "        state, _ = env.reset()\n",
    "        prev_reward = 0\n",
    "\n",
    "        losses = ([], [])\n",
    "\n",
    "        for t in range(max_steps):\n",
    "            #  Выбор действия по текущей policy\n",
    "\n",
    "            cur_state_policy_input = torch.tensor(state, dtype=torch.float).to(compute_device)\n",
    "            action = policy(cur_state_policy_input).detach().to(cpu_device)\n",
    "\n",
    "            #  Выполнение действия в среде\n",
    "            next_state, reward, terminated, truncated, _ = env.step(action)\n",
    "\n",
    "            d_reward = reward - prev_reward\n",
    "\n",
    "            prev_reward = reward\n",
    "\n",
    "            reward = d_reward\n",
    "\n",
    "            if reward > 0:\n",
    "                print(33)\n",
    "\n",
    "            #  Сохранение перехода в память\n",
    "            memory.add(torch.tensor(state), action, torch.tensor(reward, dtype=torch.float), torch.tensor(next_state))\n",
    "\n",
    "            #  Обновление состояния\n",
    "            state = next_state\n",
    "\n",
    "            #  Если накопилось достаточно данных → обучаемся\n",
    "            if memory.enough_sample():\n",
    "                ##  Выборка batch\n",
    "                batch = memory.sample()\n",
    "\n",
    "                states = batch['states'].to(torch.float).to(compute_device)\n",
    "                actions = batch['actions'].to(torch.float).to(compute_device)\n",
    "                rewards = batch['rewards'].to(torch.float).to(compute_device)\n",
    "                next_states = batch['next_states'].to(torch.float).to(compute_device)\n",
    "\n",
    "                # Вычисление target: r + γ * Q_target(s', π_target(s'))\n",
    "                with torch.no_grad():\n",
    "                    target_policy_action = policy_target(next_states)\n",
    "                    critic_input_target = torch.cat((next_states, target_policy_action), dim=1)\n",
    "                    q_target_value = critic_target(critic_input_target)\n",
    "                    targets = (rewards + gamma * q_target_value)\n",
    "\n",
    "                critic_input = torch.cat((states, actions), dim=1)\n",
    "\n",
    "                #  Обновление критика по MSE\n",
    "                critic_loss = train_critic(critic_model, critic_input, targets, optimizer_critic, compute_device)\n",
    "\n",
    "                ## === ОБНОВЛЕНИЕ POLICY === ##\n",
    "                # Генерация действий по policy\n",
    "                policy_input = states\n",
    "                policy_loss = train_policy(policy, critic, policy_input, optimizer_policy, compute_device)\n",
    "\n",
    "                losses[0].append(critic_loss)\n",
    "                losses[1].append(policy_loss)\n",
    "\n",
    "                ## === ОБНОВЛЕНИЕ TARGET-СЕТЕЙ === ##\n",
    "                soft_update(policy_target, policy, tau)\n",
    "                soft_update(critic_target, critic, tau)\n",
    "\n",
    "        print(f\"Episode {episode}, Critic loss: {np.mean(losses[0])}, Policy loss: {np.mean(losses[1])}\")\n",
    "\n",
    "\n",
    "\n",
    "\n",
    "policy_model = Policy(env).to(compute_device)\n",
    "critic_model = Critic(env).to(compute_device)\n",
    "policy_target = Policy(env).to(compute_device)\n",
    "critic_target = Critic(env).to(compute_device)\n",
    "policy_target.load_state_dict(policy_model.state_dict())\n",
    "critic_target.load_state_dict(critic_model.state_dict())\n",
    "optimizer_policy = torch.optim.Adam(policy_model.parameters(), lr=1e-3)\n",
    "optimizer_critic = torch.optim.Adam(critic_model.parameters(), lr=1e-3)\n",
    "memory = Memory(batch_size=256, max_size=10000, min_sample = 1024)\n",
    "\n",
    "\n",
    "\n",
    "train(\n",
    "    policy_model,\n",
    "    critic_model,\n",
    "    policy_target,\n",
    "    critic_target,\n",
    "    optimizer_policy,\n",
    "    optimizer_critic,\n",
    "    memory,\n",
    "    episodes= 4000,\n",
    "    max_steps = 1000,\n",
    "    gamma = 0.1,\n",
    "    tau = 0.005)"
   ],
   "id": "4ccea2a00387e61e",
   "outputs": [
    {
     "name": "stdout",
     "output_type": "stream",
     "text": [
      "Episode 0, Critic loss: nan, Policy loss: nan\n",
      "33\n"
     ]
    },
    {
     "ename": "KeyboardInterrupt",
     "evalue": "",
     "output_type": "error",
     "traceback": [
      "\u001B[31m---------------------------------------------------------------------------\u001B[39m",
      "\u001B[31mKeyboardInterrupt\u001B[39m                         Traceback (most recent call last)",
      "\u001B[36mCell\u001B[39m\u001B[36m \u001B[39m\u001B[32mIn[28]\u001B[39m\u001B[32m, line 101\u001B[39m\n\u001B[32m     96\u001B[39m optimizer_critic = torch.optim.Adam(critic_model.parameters(), lr=\u001B[32m1e-3\u001B[39m)\n\u001B[32m     97\u001B[39m memory = Memory(batch_size=\u001B[32m256\u001B[39m, max_size=\u001B[32m10000\u001B[39m, min_sample = \u001B[32m1024\u001B[39m)\n\u001B[32m--> \u001B[39m\u001B[32m101\u001B[39m \u001B[43mtrain\u001B[49m\u001B[43m(\u001B[49m\n\u001B[32m    102\u001B[39m \u001B[43m    \u001B[49m\u001B[43mpolicy_model\u001B[49m\u001B[43m,\u001B[49m\n\u001B[32m    103\u001B[39m \u001B[43m    \u001B[49m\u001B[43mcritic_model\u001B[49m\u001B[43m,\u001B[49m\n\u001B[32m    104\u001B[39m \u001B[43m    \u001B[49m\u001B[43mpolicy_target\u001B[49m\u001B[43m,\u001B[49m\n\u001B[32m    105\u001B[39m \u001B[43m    \u001B[49m\u001B[43mcritic_target\u001B[49m\u001B[43m,\u001B[49m\n\u001B[32m    106\u001B[39m \u001B[43m    \u001B[49m\u001B[43moptimizer_policy\u001B[49m\u001B[43m,\u001B[49m\n\u001B[32m    107\u001B[39m \u001B[43m    \u001B[49m\u001B[43moptimizer_critic\u001B[49m\u001B[43m,\u001B[49m\n\u001B[32m    108\u001B[39m \u001B[43m    \u001B[49m\u001B[43mmemory\u001B[49m\u001B[43m,\u001B[49m\n\u001B[32m    109\u001B[39m \u001B[43m    \u001B[49m\u001B[43mepisodes\u001B[49m\u001B[43m=\u001B[49m\u001B[43m \u001B[49m\u001B[32;43m4000\u001B[39;49m\u001B[43m,\u001B[49m\n\u001B[32m    110\u001B[39m \u001B[43m    \u001B[49m\u001B[43mmax_steps\u001B[49m\u001B[43m \u001B[49m\u001B[43m=\u001B[49m\u001B[43m \u001B[49m\u001B[32;43m1000\u001B[39;49m\u001B[43m,\u001B[49m\n\u001B[32m    111\u001B[39m \u001B[43m    \u001B[49m\u001B[43mgamma\u001B[49m\u001B[43m \u001B[49m\u001B[43m=\u001B[49m\u001B[43m \u001B[49m\u001B[32;43m0.1\u001B[39;49m\u001B[43m,\u001B[49m\n\u001B[32m    112\u001B[39m \u001B[43m    \u001B[49m\u001B[43mtau\u001B[49m\u001B[43m \u001B[49m\u001B[43m=\u001B[49m\u001B[43m \u001B[49m\u001B[32;43m0.05\u001B[39;49m\u001B[43m)\u001B[49m\n",
      "\u001B[36mCell\u001B[39m\u001B[36m \u001B[39m\u001B[32mIn[28]\u001B[39m\u001B[32m, line 84\u001B[39m, in \u001B[36mtrain\u001B[39m\u001B[34m(policy, critic, policy_target, critic_target, optimizer_policy, optimizer_critic, memory, episodes, max_steps, gamma, tau)\u001B[39m\n\u001B[32m     81\u001B[39m         soft_update(policy_target, policy, tau)\n\u001B[32m     82\u001B[39m         soft_update(critic_target, critic, tau)\n\u001B[32m---> \u001B[39m\u001B[32m84\u001B[39m \u001B[38;5;28;43mprint\u001B[39;49m(\u001B[33mf\u001B[39m\u001B[33m\"\u001B[39m\u001B[33mEpisode \u001B[39m\u001B[38;5;132;01m{\u001B[39;00mepisode\u001B[38;5;132;01m}\u001B[39;00m\u001B[33m, Critic loss: \u001B[39m\u001B[38;5;132;01m{\u001B[39;00mnp.mean(losses[\u001B[32m0\u001B[39m])\u001B[38;5;132;01m}\u001B[39;00m\u001B[33m, Policy loss: \u001B[39m\u001B[38;5;132;01m{\u001B[39;00mnp.mean(losses[\u001B[32m1\u001B[39m])\u001B[38;5;132;01m}\u001B[39;00m\u001B[33m\"\u001B[39m)\n",
      "\u001B[36mFile \u001B[39m\u001B[32m~/.local/share/JetBrains/Toolbox/apps/pycharm-professional/plugins/python-ce/helpers/pydev/_pydevd_bundle/pydevd_frame.py:755\u001B[39m, in \u001B[36mPyDBFrame.trace_dispatch\u001B[39m\u001B[34m(self, frame, event, arg)\u001B[39m\n\u001B[32m    753\u001B[39m \u001B[38;5;66;03m# if thread has a suspend flag, we suspend with a busy wait\u001B[39;00m\n\u001B[32m    754\u001B[39m \u001B[38;5;28;01mif\u001B[39;00m info.pydev_state == STATE_SUSPEND:\n\u001B[32m--> \u001B[39m\u001B[32m755\u001B[39m     \u001B[38;5;28;43mself\u001B[39;49m\u001B[43m.\u001B[49m\u001B[43mdo_wait_suspend\u001B[49m\u001B[43m(\u001B[49m\u001B[43mthread\u001B[49m\u001B[43m,\u001B[49m\u001B[43m \u001B[49m\u001B[43mframe\u001B[49m\u001B[43m,\u001B[49m\u001B[43m \u001B[49m\u001B[43mevent\u001B[49m\u001B[43m,\u001B[49m\u001B[43m \u001B[49m\u001B[43marg\u001B[49m\u001B[43m)\u001B[49m\n\u001B[32m    756\u001B[39m     \u001B[38;5;66;03m# No need to reset frame.f_trace to keep the same trace function.\u001B[39;00m\n\u001B[32m    757\u001B[39m     \u001B[38;5;28;01mreturn\u001B[39;00m \u001B[38;5;28mself\u001B[39m.trace_dispatch\n",
      "\u001B[36mFile \u001B[39m\u001B[32m~/.local/share/JetBrains/Toolbox/apps/pycharm-professional/plugins/python-ce/helpers/pydev/_pydevd_bundle/pydevd_frame.py:412\u001B[39m, in \u001B[36mPyDBFrame.do_wait_suspend\u001B[39m\u001B[34m(self, *args, **kwargs)\u001B[39m\n\u001B[32m    411\u001B[39m \u001B[38;5;28;01mdef\u001B[39;00m\u001B[38;5;250m \u001B[39m\u001B[34mdo_wait_suspend\u001B[39m(\u001B[38;5;28mself\u001B[39m, *args, **kwargs):\n\u001B[32m--> \u001B[39m\u001B[32m412\u001B[39m     \u001B[38;5;28;43mself\u001B[39;49m\u001B[43m.\u001B[49m\u001B[43m_args\u001B[49m\u001B[43m[\u001B[49m\u001B[32;43m0\u001B[39;49m\u001B[43m]\u001B[49m\u001B[43m.\u001B[49m\u001B[43mdo_wait_suspend\u001B[49m\u001B[43m(\u001B[49m\u001B[43m*\u001B[49m\u001B[43margs\u001B[49m\u001B[43m,\u001B[49m\u001B[43m \u001B[49m\u001B[43m*\u001B[49m\u001B[43m*\u001B[49m\u001B[43mkwargs\u001B[49m\u001B[43m)\u001B[49m\n",
      "\u001B[36mFile \u001B[39m\u001B[32m~/.local/share/JetBrains/Toolbox/apps/pycharm-professional/plugins/python-ce/helpers/pydev/pydevd.py:1220\u001B[39m, in \u001B[36mPyDB.do_wait_suspend\u001B[39m\u001B[34m(self, thread, frame, event, arg, send_suspend_message, is_unhandled_exception)\u001B[39m\n\u001B[32m   1217\u001B[39m         from_this_thread.append(frame_id)\n\u001B[32m   1219\u001B[39m \u001B[38;5;28;01mwith\u001B[39;00m \u001B[38;5;28mself\u001B[39m._threads_suspended_single_notification.notify_thread_suspended(thread_id, stop_reason):\n\u001B[32m-> \u001B[39m\u001B[32m1220\u001B[39m     \u001B[38;5;28;43mself\u001B[39;49m\u001B[43m.\u001B[49m\u001B[43m_do_wait_suspend\u001B[49m\u001B[43m(\u001B[49m\u001B[43mthread\u001B[49m\u001B[43m,\u001B[49m\u001B[43m \u001B[49m\u001B[43mframe\u001B[49m\u001B[43m,\u001B[49m\u001B[43m \u001B[49m\u001B[43mevent\u001B[49m\u001B[43m,\u001B[49m\u001B[43m \u001B[49m\u001B[43marg\u001B[49m\u001B[43m,\u001B[49m\u001B[43m \u001B[49m\u001B[43msuspend_type\u001B[49m\u001B[43m,\u001B[49m\u001B[43m \u001B[49m\u001B[43mfrom_this_thread\u001B[49m\u001B[43m)\u001B[49m\n",
      "\u001B[36mFile \u001B[39m\u001B[32m~/.local/share/JetBrains/Toolbox/apps/pycharm-professional/plugins/python-ce/helpers/pydev/pydevd.py:1235\u001B[39m, in \u001B[36mPyDB._do_wait_suspend\u001B[39m\u001B[34m(self, thread, frame, event, arg, suspend_type, from_this_thread)\u001B[39m\n\u001B[32m   1232\u001B[39m             \u001B[38;5;28mself\u001B[39m._call_mpl_hook()\n\u001B[32m   1234\u001B[39m         \u001B[38;5;28mself\u001B[39m.process_internal_commands()\n\u001B[32m-> \u001B[39m\u001B[32m1235\u001B[39m         \u001B[43mtime\u001B[49m\u001B[43m.\u001B[49m\u001B[43msleep\u001B[49m\u001B[43m(\u001B[49m\u001B[32;43m0.01\u001B[39;49m\u001B[43m)\u001B[49m\n\u001B[32m   1237\u001B[39m \u001B[38;5;28mself\u001B[39m.cancel_async_evaluation(get_current_thread_id(thread), \u001B[38;5;28mstr\u001B[39m(\u001B[38;5;28mid\u001B[39m(frame)))\n\u001B[32m   1239\u001B[39m \u001B[38;5;66;03m# process any stepping instructions\u001B[39;00m\n",
      "\u001B[31mKeyboardInterrupt\u001B[39m: "
     ]
    }
   ],
   "execution_count": 28
  },
  {
   "metadata": {},
   "cell_type": "code",
   "source": "",
   "id": "c12ed16288f2ae38",
   "outputs": [],
   "execution_count": null
  }
 ],
 "metadata": {
  "kernelspec": {
   "display_name": "Python 3",
   "language": "python",
   "name": "python3"
  },
  "language_info": {
   "codemirror_mode": {
    "name": "ipython",
    "version": 2
   },
   "file_extension": ".py",
   "mimetype": "text/x-python",
   "name": "python",
   "nbconvert_exporter": "python",
   "pygments_lexer": "ipython2",
   "version": "2.7.6"
  }
 },
 "nbformat": 4,
 "nbformat_minor": 5
}
