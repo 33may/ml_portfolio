{
 "cells": [
  {
   "metadata": {
    "ExecuteTime": {
     "end_time": "2025-04-11T12:04:36.176640Z",
     "start_time": "2025-04-11T12:04:35.562080Z"
    }
   },
   "cell_type": "code",
   "source": [
    "from time import sleep\n",
    "\n",
    "import torch"
   ],
   "id": "8858c545aef378d4",
   "outputs": [],
   "execution_count": 1
  },
  {
   "metadata": {
    "ExecuteTime": {
     "end_time": "2025-04-11T12:04:47.244087Z",
     "start_time": "2025-04-11T12:04:47.207419Z"
    }
   },
   "cell_type": "code",
   "source": "torch.cuda.is_available()",
   "id": "a0613f77d6970844",
   "outputs": [
    {
     "data": {
      "text/plain": [
       "True"
      ]
     },
     "execution_count": 2,
     "metadata": {},
     "output_type": "execute_result"
    }
   ],
   "execution_count": 2
  },
  {
   "metadata": {},
   "cell_type": "markdown",
   "source": "# Env",
   "id": "86356765458d747a"
  },
  {
   "metadata": {
    "ExecuteTime": {
     "end_time": "2025-04-11T12:40:27.998947Z",
     "start_time": "2025-04-11T12:40:15.915178Z"
    }
   },
   "cell_type": "code",
   "source": [
    "from gym_pusht.envs import PushTEnv\n",
    "\n",
    "env = PushTEnv(render_mode=\"human\")\n",
    "observation, info = env.reset()\n",
    "\n",
    "for _ in range(1000):\n",
    "    action = env.action_space.sample()\n",
    "    observation, reward, terminated, truncated, info = env.step(action)\n",
    "    image = env.render()\n",
    "\n",
    "    if terminated or truncated:\n",
    "        observation, info = env.reset()\n",
    "\n",
    "env.close()"
   ],
   "id": "ec79454c1f427403",
   "outputs": [
    {
     "name": "stderr",
     "output_type": "stream",
     "text": [
      "2025-04-11 14:40:17.058 python[49066:674789] +[IMKClient subclass]: chose IMKClient_Modern\n",
      "2025-04-11 14:40:17.058 python[49066:674789] +[IMKInputSession subclass]: chose IMKInputSession_Modern\n"
     ]
    }
   ],
   "execution_count": 3
  },
  {
   "metadata": {},
   "cell_type": "markdown",
   "source": [
    "240, 102\n",
    "\n",
    "action = 154, 495\n",
    "\n",
    "214 218"
   ],
   "id": "e2c5fdb9d360c10d"
  }
 ],
 "metadata": {
  "kernelspec": {
   "display_name": "Python 3",
   "language": "python",
   "name": "python3"
  },
  "language_info": {
   "codemirror_mode": {
    "name": "ipython",
    "version": 2
   },
   "file_extension": ".py",
   "mimetype": "text/x-python",
   "name": "python",
   "nbconvert_exporter": "python",
   "pygments_lexer": "ipython2",
   "version": "2.7.6"
  }
 },
 "nbformat": 4,
 "nbformat_minor": 5
}
