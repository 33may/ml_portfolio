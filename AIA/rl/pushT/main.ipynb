{
 "cells": [
  {
   "metadata": {
    "ExecuteTime": {
     "end_time": "2025-04-15T12:19:29.920874Z",
     "start_time": "2025-04-15T12:19:28.902858Z"
    }
   },
   "cell_type": "code",
   "source": [
    "from math import gamma\n",
    "from time import sleep\n",
    "\n",
    "import torch\n",
    "\n",
    "compute_device = torch.device('cuda' if torch.cuda.is_available() else 'mps')\n",
    "cpu_device = torch.device('cpu')"
   ],
   "id": "d4bd6aaaebb2d9cf",
   "outputs": [],
   "execution_count": 1
  },
  {
   "metadata": {
    "ExecuteTime": {
     "end_time": "2025-04-15T12:19:32.170390Z",
     "start_time": "2025-04-15T12:19:32.088709Z"
    }
   },
   "cell_type": "code",
   "source": [
    "%load_ext autoreload\n",
    "%autoreload 2"
   ],
   "id": "81814bd45a321a2e",
   "outputs": [],
   "execution_count": 2
  },
  {
   "metadata": {
    "ExecuteTime": {
     "end_time": "2025-04-15T12:19:32.592530Z",
     "start_time": "2025-04-15T12:19:32.580260Z"
    }
   },
   "cell_type": "code",
   "source": "torch.cuda.is_available()",
   "id": "ce9d46d06fc032a4",
   "outputs": [
    {
     "data": {
      "text/plain": [
       "False"
      ]
     },
     "execution_count": 3,
     "metadata": {},
     "output_type": "execute_result"
    }
   ],
   "execution_count": 3
  },
  {
   "metadata": {},
   "cell_type": "markdown",
   "source": "# Env",
   "id": "a340e21036db8935"
  },
  {
   "metadata": {
    "ExecuteTime": {
     "end_time": "2025-04-15T12:22:03.393992Z",
     "start_time": "2025-04-15T12:22:03.368270Z"
    }
   },
   "cell_type": "code",
   "source": [
    "def make_env(render_mode=\"rgb_array\"):\n",
    "    env = gym.make(\"gym_pusht/PushT-v0\", render_mode=render_mode)\n",
    "    return env"
   ],
   "id": "846e4b69a31c1589",
   "outputs": [],
   "execution_count": 8
  },
  {
   "metadata": {
    "ExecuteTime": {
     "end_time": "2025-04-15T12:22:03.736834Z",
     "start_time": "2025-04-15T12:22:03.721957Z"
    }
   },
   "cell_type": "code",
   "source": [
    "import gymnasium as gym\n",
    "import gym_pusht\n",
    "from time import sleep\n",
    "\n",
    "env = make_env()"
   ],
   "id": "da2d78f75a51537c",
   "outputs": [],
   "execution_count": 9
  },
  {
   "metadata": {
    "ExecuteTime": {
     "end_time": "2025-04-15T12:22:44.544454Z",
     "start_time": "2025-04-15T12:22:39.994336Z"
    }
   },
   "cell_type": "code",
   "source": [
    "test_env = make_env(render_mode=\"human\")\n",
    "\n",
    "observation, info = test_env.reset()\n",
    "\n",
    "for _ in range(50):\n",
    "    sleep(0.2)\n",
    "    action = test_env.action_space.sample()\n",
    "    observation, reward, terminated, truncated, info = test_env.step(action)\n",
    "    image = test_env.render()\n",
    "\n",
    "    if terminated or truncated:\n",
    "        observation, info = test_env.reset()\n",
    "\n",
    "test_env.close()"
   ],
   "id": "6c1c6d87acea3b25",
   "outputs": [],
   "execution_count": 13
  },
  {
   "metadata": {
    "ExecuteTime": {
     "end_time": "2025-04-15T12:22:50.068595Z",
     "start_time": "2025-04-15T12:22:50.031227Z"
    }
   },
   "cell_type": "code",
   "source": "test_env.close()",
   "id": "7a8b77d57915fb1e",
   "outputs": [],
   "execution_count": 14
  },
  {
   "metadata": {},
   "cell_type": "markdown",
   "source": [
    "Implement the deepq Learning to compete the task\n",
    "\n",
    "# Part 1: Numerical PushT state"
   ],
   "id": "b4bbb7452875153a"
  },
  {
   "metadata": {},
   "cell_type": "markdown",
   "source": [
    "## Observation Space\n",
    "\n",
    "If obs_type is set to state, the observation space is a 5-dimensional vector representing the state of the environment: [agent_x, agent_y, block_x, block_y, block_angle]. The values are in the range [0, 512] for the agent and block positions and [0, 2*pi] for the block angle.\n",
    "\n",
    "If obs_type is set to environment_state_agent_pos the observation space is a dictionary with: - environment_state: 16-dimensional vector representing the keypoint locations of the T (in [x0, y0, x1, y1, ...] format). The values are in the range [0, 512]. - agent_pos: A 2-dimensional vector representing the position of the robot end-effector.\n",
    "\n",
    "If obs_type is set to pixels, the observation space is a 96x96 RGB image of the environment."
   ],
   "id": "facbb94942ef1469"
  },
  {
   "metadata": {
    "ExecuteTime": {
     "end_time": "2025-04-15T12:24:54.823087Z",
     "start_time": "2025-04-15T12:24:54.791616Z"
    }
   },
   "cell_type": "code",
   "source": "env.observation_space",
   "id": "c90e3fcd1c3a5c9a",
   "outputs": [
    {
     "data": {
      "text/plain": [
       "Box(-1.0, 1.0, (2,), float32)"
      ]
     },
     "execution_count": 16,
     "metadata": {},
     "output_type": "execute_result"
    }
   ],
   "execution_count": 16
  },
  {
   "metadata": {},
   "cell_type": "markdown",
   "source": [
    "The Policy model is designed to give the action $a$ given the state $s$.\n",
    "\n",
    "input:\n",
    "\n",
    "$$\n",
    "[agent_x, agent_y, t_x, t_y, t_{angle}]\n",
    "$$\n",
    "\n",
    "output\n",
    "\n",
    "$$\n",
    "[move_x, move_y]\n",
    "$$\n",
    "\n",
    "\n",
    "so the model tells\n",
    "\n",
    "$$\n",
    "a = P(s)\n",
    "$$"
   ],
   "id": "e6c91e3c3127892"
  },
  {
   "metadata": {
    "ExecuteTime": {
     "end_time": "2025-04-15T12:25:22.730855Z",
     "start_time": "2025-04-15T12:25:22.704882Z"
    }
   },
   "cell_type": "code",
   "source": [
    "# from torch import nn\n",
    "# import torch.nn.functional as F\n",
    "#\n",
    "#\n",
    "# class Policy(nn.Module):\n",
    "#     def __init__(self):\n",
    "#         super(Policy, self).__init__()\n",
    "#         self.fc1 = nn.Linear(env.observation_space.shape[0], 64)\n",
    "#         self.fc2 = nn.Linear(64, 64)\n",
    "#         self.fc3 = nn.Linear(64, 2)\n",
    "#\n",
    "#     def forward(self, x):\n",
    "#         x = F.relu(self.fc1(x))\n",
    "#         x = F.relu(self.fc2(x))\n",
    "#         x = self.fc3(x)\n",
    "#\n",
    "#         return x\n",
    "# model = Policy()\n",
    "# input = torch.rand((4, 5))\n",
    "#\n",
    "# input\n",
    "# output = model(input)\n",
    "#\n",
    "# print(output.shape)\n",
    "# output.detach().numpy()"
   ],
   "id": "8b8fc1008de91182",
   "outputs": [],
   "execution_count": 17
  },
  {
   "metadata": {
    "ExecuteTime": {
     "end_time": "2025-04-15T12:25:23.412467Z",
     "start_time": "2025-04-15T12:25:23.396750Z"
    }
   },
   "cell_type": "code",
   "source": [
    "# class Critic(nn.Module):\n",
    "#     def __init__(self):\n",
    "#         super(Critic, self).__init__()\n",
    "#         self.fc1 = nn.Linear(env.observation_space.shape[0] + env.action_space.shape[0], 64)\n",
    "#         self.fc2 = nn.Linear(64, 64)\n",
    "#         self.fc3 = nn.Linear(64, 1)\n",
    "#\n",
    "#     def forward(self, x):\n",
    "#         x = F.relu(self.fc1(x))\n",
    "#         x = F.relu(self.fc2(x))\n",
    "#         x = F.relu(self.fc3(x))\n",
    "#\n",
    "#         return x\n",
    "# model = Critic()\n",
    "# input = torch.rand((4, 7))\n",
    "#\n",
    "# input\n",
    "# output = model(input)\n",
    "#\n",
    "# print(output.shape)\n",
    "# output.detach().numpy()"
   ],
   "id": "10d579061cb91f02",
   "outputs": [],
   "execution_count": 18
  },
  {
   "metadata": {},
   "cell_type": "markdown",
   "source": [
    "Critic model is aimed to estimate\n",
    "\n",
    "$$\n",
    "Q(s,a)\n",
    "$$\n",
    "\n",
    "it takes concat input $[s,a]$, more detailed\n",
    "\n",
    "input\n",
    "\n",
    "$$\n",
    "[agent_x, agent_y, t_x, t_y, t_{angle}, move_x, move_y]\n",
    "$$\n",
    "\n",
    "output\n",
    "\n",
    "$$\n",
    "score\n",
    "$$\n",
    "\n",
    "\n",
    "so it give single estimate of $Q$ value\n",
    "\n",
    "$$\n",
    "score = Q(s,a)\n",
    "$$\n",
    "\n",
    "The Policy model is trained using Critic model\n",
    "\n",
    "Since we cant directly access the action value $Q(s,a)$ we use the critic model that gives estimate $Q'(s,a)$ to understand the value of this state action pair. Then we could use this estimate to compute the loss\n",
    "\n",
    "\n",
    "$$\n",
    "loss = -Q'(s,a)\n",
    "$$\n",
    "\n",
    "\\- is used because optimization tasks aim to minimize function, hence minimizing -f is equivalent to maximizing f"
   ],
   "id": "5ca3ca89c592e1ff"
  },
  {
   "metadata": {
    "ExecuteTime": {
     "end_time": "2025-04-15T12:25:24.396337Z",
     "start_time": "2025-04-15T12:25:24.384645Z"
    }
   },
   "cell_type": "code",
   "source": [
    "# def train_policy(policy_model, critic_model, input, optimizer):\n",
    "#     \"\"\"\n",
    "#\n",
    "#     Args:\n",
    "#         policy_model: Model to update\n",
    "#         critic_model: Critic model to compute the value of the proposed action\n",
    "#         input: the input of shape [batch_size, 5] = (batch_size, observation_space.shape)\n",
    "#         optimizer: optimizer for the policy model\n",
    "#\n",
    "#     Returns:\n",
    "#\n",
    "#     \"\"\"\n",
    "#     optimizer.zero_grad()\n",
    "#\n",
    "#     input = input.to(compute_device)\n",
    "#\n",
    "#     output = policy_model(input)\n",
    "#\n",
    "#     critic_input = torch.cat((input, output), dim=1)\n",
    "#\n",
    "#     score = critic_model(critic_input)\n",
    "#\n",
    "#     loss = -score\n",
    "#\n",
    "#     loss.backward()\n",
    "#     optimizer.step()\n",
    "#\n",
    "#     return loss.item()"
   ],
   "id": "9143c5e212e3f795",
   "outputs": [],
   "execution_count": 19
  },
  {
   "metadata": {},
   "cell_type": "markdown",
   "source": "For training critic, we use the actual reward we received from the env, bootstrap with critic model and train it with basic MSE loss",
   "id": "4f56be6e07fe0c4f"
  },
  {
   "metadata": {
    "ExecuteTime": {
     "end_time": "2025-04-15T12:25:25.297940Z",
     "start_time": "2025-04-15T12:25:25.282323Z"
    }
   },
   "cell_type": "code",
   "source": [
    "# def train_critic(critic_model, input, target, optimizer):\n",
    "#     \"\"\"\n",
    "#     Train function that run one update on the critic network using batch of inputs.\n",
    "#\n",
    "#     Args:\n",
    "#         critic_model: Model to update\n",
    "#         input: the input of shape [batch_size, 7] = (batch_size, observation_space.shape + action_space.shape)\n",
    "#         target: Is the target reward we received from env and critic_estimate model\n",
    "#         optimizer: optimizer for the critic model\n",
    "#\n",
    "#     Returns:\n",
    "#\n",
    "#     \"\"\"\n",
    "#     optimizer.zero_grad()\n",
    "#     criterion = nn.MSELoss()\n",
    "#\n",
    "#     critic_model.train()\n",
    "#\n",
    "#     input = input.to(compute_device)\n",
    "#\n",
    "#     output = critic_model(input)\n",
    "#\n",
    "#     loss = criterion(output, target)\n",
    "#\n",
    "#     loss.backward()\n",
    "#     optimizer.step()\n",
    "#\n",
    "#     return loss.item()"
   ],
   "id": "931a1849e75ffd4b",
   "outputs": [],
   "execution_count": 20
  },
  {
   "metadata": {},
   "cell_type": "markdown",
   "source": [
    "so in my approach the policy actually changes, but I could ignore the fact that actions were recorded under another distribution because I am using Q, which gives some level of abstraction which is stable for the environment and any optimal policy will converge to identical function. Then the agent here is just the another function that is trained on this level of the representation of the environment. If I had the training process without Q where the policy is responsible to somehow incorporate the knowledge of the environment inside itself then I need to also think of sampling, because on the interpretation level the actions were done on that perception of env, which changed with policy.\n",
    "\n",
    "this is idea of the model-based and model-free and particaul;larty off-policy and on-policy in the fact that env is not encoded in the model"
   ],
   "id": "c3324e470ba656eb"
  },
  {
   "metadata": {},
   "cell_type": "markdown",
   "source": [
    "Here comes the problem since the update rule is based on MSE of the value\n",
    "$$\n",
    "(Q(s,a), R(s,a))\n",
    "$$\n",
    "\n",
    "where target $R(s,a)$ is calculated\n",
    "\n",
    "$$\n",
    "R(s,a) = r + \\gamma \\cdot Q(s', \\pi(s'))\n",
    "$$\n",
    "\n",
    "then the update rule:\n",
    "\n",
    "$$\n",
    "Q(s,a) \\leftarrow \\alpha \\cdot (Q(s,a) - (r + \\gamma \\cdot Q(s', \\pi(s'))))^2\n",
    "$$\n",
    "\n",
    "To solve this problem, I use the target models, this is the same duplicate of the Critic Model that is training with delay from the actual model, this will ensure more stable training process and prevent explode, when update depends on itself."
   ],
   "id": "fb52477e1df13e9e"
  },
  {
   "metadata": {
    "ExecuteTime": {
     "end_time": "2025-04-15T12:25:26.686799Z",
     "start_time": "2025-04-15T12:25:26.666100Z"
    }
   },
   "cell_type": "code",
   "source": [
    "import random\n",
    "\n",
    "\n",
    "class Memory:\n",
    "    def __init__(self, batch_size=128, max_size=1024, min_sample=4096):\n",
    "        self.batch_size = batch_size\n",
    "        self.max_size = max_size\n",
    "        self.min_sample = min_sample\n",
    "\n",
    "        self.states = []\n",
    "        self.actions = []\n",
    "        self.rewards = []\n",
    "        self.next_states = []\n",
    "        self.dones = []\n",
    "\n",
    "    def add(self, state, action, reward, next_state, done):\n",
    "        self.states.append(state)\n",
    "        self.actions.append(action)\n",
    "        self.rewards.append(reward)\n",
    "        self.next_states.append(next_state)\n",
    "        self.dones.append(done)\n",
    "\n",
    "        if len(self.states) > self.max_size:\n",
    "            self._pop_oldest()\n",
    "\n",
    "    def _pop_oldest(self):\n",
    "        self.states.pop(0)\n",
    "        self.actions.pop(0)\n",
    "        self.rewards.pop(0)\n",
    "        self.next_states.pop(0)\n",
    "\n",
    "    def enough_sample(self):\n",
    "        return len(self.states) >= self.min_sample\n",
    "\n",
    "    def sample(self):\n",
    "        idxs = random.sample(range(len(self.states)), self.batch_size)\n",
    "        batch = dict(\n",
    "            states=torch.stack([self.states[i] for i in idxs]),\n",
    "            actions=torch.stack([self.actions[i] for i in idxs]),\n",
    "            rewards=torch.stack([self.rewards[i] for i in idxs]),\n",
    "            next_states=torch.stack([self.next_states[i] for i in idxs]),\n",
    "            dones=torch.stack([self.dones[i] for i in idxs])\n",
    "        )\n",
    "        return batch\n"
   ],
   "id": "7c145db16d011d47",
   "outputs": [],
   "execution_count": 21
  },
  {
   "metadata": {
    "ExecuteTime": {
     "end_time": "2025-04-15T12:25:27.413977Z",
     "start_time": "2025-04-15T12:25:27.402014Z"
    }
   },
   "cell_type": "code",
   "source": [
    "import os\n",
    "print(os.getcwd())"
   ],
   "id": "240bf1f2415d91e0",
   "outputs": [
    {
     "name": "stdout",
     "output_type": "stream",
     "text": [
      "/Users/may/projects/ml_portfolio/AIA/rl/pushT\n"
     ]
    }
   ],
   "execution_count": 22
  },
  {
   "metadata": {
    "ExecuteTime": {
     "end_time": "2025-04-15T12:25:28.115385Z",
     "start_time": "2025-04-15T12:25:28.099615Z"
    }
   },
   "cell_type": "code",
   "source": [
    "for root, dirs, files in os.walk('.'):\n",
    "    for file in files:\n",
    "        print(os.path.join(root, file))"
   ],
   "id": "876e01a73ddd7d94",
   "outputs": [
    {
     "name": "stdout",
     "output_type": "stream",
     "text": [
      "./main.ipynb\n",
      "./trainer.py\n",
      "./Nets.py\n"
     ]
    }
   ],
   "execution_count": 23
  },
  {
   "metadata": {
    "ExecuteTime": {
     "end_time": "2025-04-15T12:26:05.299704Z",
     "start_time": "2025-04-15T12:26:05.269851Z"
    }
   },
   "cell_type": "code",
   "source": [
    "import numpy as np\n",
    "from AIA.rl.pushT.Nets import Policy, Critic, OUNoise\n",
    "from AIA.rl.pushT.trainer import train_critic, train_policy, soft_update\n",
    "\n",
    "\n",
    "def train(policy, critic, policy_target, critic_target, optimizer_policy, optimizer_critic,\n",
    "          memory, episodes=4000, max_steps=1000, gamma=0.99, tau=0.005, living_cost=-0.001):\n",
    "    env = make_env()\n",
    "\n",
    "    # Initialize noise with linear decay over all episodes\n",
    "    ou_noise = OUNoise(env.action_space.shape[0],\n",
    "                      initial_sigma=25,\n",
    "                      final_sigma=1,\n",
    "                      decay_steps=episodes * 500)  # Decay over total episodes\n",
    "\n",
    "    # Statistics tracking\n",
    "    reward_buffer = []\n",
    "    critic_loss_buffer = []\n",
    "    policy_loss_buffer = []\n",
    "    print_interval = 25\n",
    "    stats_window = 100\n",
    "\n",
    "    for episode in range(episodes):\n",
    "        state, _ = env.reset()\n",
    "        episode_reward = 0\n",
    "        prev_reward = 0\n",
    "        episode_critic_loss = []\n",
    "        episode_policy_loss = []\n",
    "\n",
    "        for t in range(max_steps):\n",
    "            # Action selection and environment step\n",
    "            with torch.no_grad():\n",
    "                state_tensor = torch.tensor(state, dtype=torch.float).to(compute_device) / 512.0\n",
    "                action = policy(state_tensor).cpu().numpy()\n",
    "\n",
    "            # Apply noise with current sigma\n",
    "            noise = ou_noise.sample()\n",
    "\n",
    "            action = action + noise\n",
    "\n",
    "            action_env = np.clip(action, 0, 512)\n",
    "\n",
    "            # Environment interaction\n",
    "            next_state, reward, terminated, truncated, _ = env.step(action_env)\n",
    "            done = terminated or truncated\n",
    "\n",
    "            # Reward calculation\n",
    "            shaped_reward = 100 * (reward - prev_reward) + living_cost\n",
    "            prev_reward = reward\n",
    "\n",
    "            # Store transition\n",
    "            memory.add(torch.tensor(state, dtype=torch.float)/512.0,\n",
    "                      torch.tensor(action, dtype=torch.float),\n",
    "                      torch.tensor(shaped_reward, dtype=torch.float),\n",
    "                      torch.tensor(next_state, dtype=torch.float)/512.0,\n",
    "                      torch.tensor(int(done)))\n",
    "\n",
    "            episode_reward += shaped_reward\n",
    "            state = next_state\n",
    "\n",
    "            # Training step\n",
    "            if memory.enough_sample():\n",
    "                batch = memory.sample()\n",
    "                states = batch['states'].to(compute_device)\n",
    "                actions = batch['actions'].to(compute_device)\n",
    "                rewards = batch['rewards'].to(compute_device)\n",
    "                next_states = batch['next_states'].to(compute_device)\n",
    "                dones = batch['dones'].to(compute_device)\n",
    "\n",
    "                # Critic update\n",
    "                with torch.no_grad():\n",
    "                    target_actions = policy_target(next_states)\n",
    "                    target_actions = torch.clamp(target_actions, 0, 512)\n",
    "                    target_q = critic_target(torch.cat((next_states, target_actions), 1))\n",
    "                    targets = rewards + gamma * (1 - dones) * target_q.squeeze(-1)  # Match shapes\n",
    "\n",
    "                critic_loss = train_critic(critic, torch.cat((states, actions), 1), targets,\n",
    "                                         optimizer_critic, compute_device)\n",
    "                episode_critic_loss.append(critic_loss)\n",
    "\n",
    "                # Policy update\n",
    "                policy_loss = train_policy(policy, critic, states, optimizer_policy, compute_device)\n",
    "                episode_policy_loss.append(policy_loss)\n",
    "\n",
    "                # Target updates\n",
    "                soft_update(policy_target, policy, tau)\n",
    "                soft_update(critic_target, critic, tau)\n",
    "\n",
    "            if done:\n",
    "                break\n",
    "\n",
    "        # Store episode statistics\n",
    "        avg_critic_loss = np.mean(episode_critic_loss) if episode_critic_loss else 0\n",
    "        avg_policy_loss = np.mean(episode_policy_loss) if episode_policy_loss else 0\n",
    "\n",
    "        reward_buffer.append(episode_reward)\n",
    "        critic_loss_buffer.append(avg_critic_loss)\n",
    "        policy_loss_buffer.append(avg_policy_loss)\n",
    "\n",
    "        # Print statistics every 100 episodes\n",
    "        if (episode + 1) % print_interval == 0 or episode == episodes - 1:\n",
    "            start_idx = max(0, len(reward_buffer) - stats_window)\n",
    "\n",
    "            mean_reward = np.mean(reward_buffer[start_idx:])\n",
    "            mean_critic = np.mean(critic_loss_buffer[start_idx:])\n",
    "            mean_policy = np.mean(policy_loss_buffer[start_idx:])\n",
    "\n",
    "            print(f\"Episodes {episode+1}: \"\n",
    "                  f\"Mean Reward: {mean_reward:.2f}, \"\n",
    "                  f\"Critic Loss: {mean_critic:.4f}, \"\n",
    "                  f\"Policy Loss: {mean_policy:.4f}, \"\n",
    "                  f\"Noise Sigma: {ou_noise.current_sigma():.2f}\")\n",
    "\n",
    "    return reward_buffer"
   ],
   "id": "b3495bc45ecb2067",
   "outputs": [],
   "execution_count": 27
  },
  {
   "metadata": {
    "ExecuteTime": {
     "end_time": "2025-04-15T12:26:05.970907Z",
     "start_time": "2025-04-15T12:26:05.905325Z"
    }
   },
   "cell_type": "code",
   "source": [
    "policy_model = Policy(env).to(compute_device)\n",
    "critic_model = Critic(env).to(compute_device)\n",
    "policy_target = Policy(env).to(compute_device)\n",
    "critic_target = Critic(env).to(compute_device)\n",
    "policy_target.load_state_dict(policy_model.state_dict())\n",
    "critic_target.load_state_dict(critic_model.state_dict())\n",
    "optimizer_policy = torch.optim.Adam(policy_model.parameters(), lr=1e-4)\n",
    "optimizer_critic = torch.optim.Adam(critic_model.parameters(), lr=1e-3)\n",
    "memory = Memory(batch_size=512, max_size=40000, min_sample=1024)"
   ],
   "id": "d42b30518e149a8e",
   "outputs": [],
   "execution_count": 28
  },
  {
   "metadata": {
    "ExecuteTime": {
     "end_time": "2025-04-15T12:26:31.024642Z",
     "start_time": "2025-04-15T12:26:06.577400Z"
    }
   },
   "cell_type": "code",
   "source": [
    "train(\n",
    "    policy_model,\n",
    "    critic_model,\n",
    "    policy_target,\n",
    "    critic_target,\n",
    "    optimizer_policy,\n",
    "    optimizer_critic,\n",
    "    memory,\n",
    "    episodes= 10000,\n",
    "    max_steps = 1000,\n",
    "    gamma = 0.99,\n",
    "    tau = 0.005)"
   ],
   "id": "b3feaa16c4ab4271",
   "outputs": [
    {
     "name": "stdout",
     "output_type": "stream",
     "text": [
      "Episodes 1: Mean Reward: -10000.13, Critic Loss: 0.0000, Policy Loss: 0.0000, Noise Sigma: 25.00\n",
      "Episodes 2: Mean Reward: -10000.11, Critic Loss: 0.0000, Policy Loss: 0.0000, Noise Sigma: 25.00\n",
      "Episodes 3: Mean Reward: -10000.10, Critic Loss: 0.0000, Policy Loss: 0.0000, Noise Sigma: 25.00\n",
      "Episodes 4: Mean Reward: -10000.10, Critic Loss: 0.0000, Policy Loss: 0.0000, Noise Sigma: 25.00\n",
      "Episodes 5: Mean Reward: -10000.10, Critic Loss: 0.0000, Policy Loss: 0.0000, Noise Sigma: 25.00\n",
      "Episodes 6: Mean Reward: -10000.10, Critic Loss: 0.0000, Policy Loss: 0.0000, Noise Sigma: 25.00\n",
      "Episodes 7: Mean Reward: -10000.10, Critic Loss: 0.0000, Policy Loss: 0.0000, Noise Sigma: 25.00\n",
      "Episodes 8: Mean Reward: -10000.10, Critic Loss: 0.0000, Policy Loss: 0.0000, Noise Sigma: 25.00\n",
      "Episodes 9: Mean Reward: -10000.11, Critic Loss: 0.0000, Policy Loss: 0.0000, Noise Sigma: 25.00\n",
      "Episodes 10: Mean Reward: -10000.10, Critic Loss: 71334.1746, Policy Loss: 0.4948, Noise Sigma: 24.99\n",
      "Episodes 11: Mean Reward: -10000.10, Critic Loss: 135069.5895, Policy Loss: 1.8022, Noise Sigma: 24.99\n",
      "Episodes 12: Mean Reward: -10000.10, Critic Loss: 184226.1626, Policy Loss: 4.2392, Noise Sigma: 24.99\n",
      "Episodes 13: Mean Reward: -10000.10, Critic Loss: 228167.1479, Policy Loss: 7.6147, Noise Sigma: 24.99\n",
      "Episodes 14: Mean Reward: -10000.10, Critic Loss: 270583.2867, Policy Loss: 12.1686, Noise Sigma: 24.99\n",
      "Episodes 15: Mean Reward: -10000.10, Critic Loss: 303183.6581, Policy Loss: 17.8649, Noise Sigma: 24.99\n",
      "Episodes 16: Mean Reward: -10000.10, Critic Loss: 332594.9899, Policy Loss: 23.8031, Noise Sigma: 24.99\n",
      "Episodes 17: Mean Reward: -10000.10, Critic Loss: 364881.4076, Policy Loss: 23.9150, Noise Sigma: 24.99\n",
      "Episodes 18: Mean Reward: -10000.10, Critic Loss: 392198.7928, Policy Loss: 21.9160, Noise Sigma: 24.99\n",
      "Episodes 19: Mean Reward: -10000.10, Critic Loss: 416619.0465, Policy Loss: 19.7397, Noise Sigma: 24.99\n",
      "Episodes 20: Mean Reward: -10000.10, Critic Loss: 438235.1044, Policy Loss: 17.5524, Noise Sigma: 24.99\n",
      "Episodes 21: Mean Reward: -10000.10, Critic Loss: 459283.0912, Policy Loss: 15.4747, Noise Sigma: 24.99\n",
      "Episodes 22: Mean Reward: -10000.10, Critic Loss: 480180.3952, Policy Loss: 13.4652, Noise Sigma: 24.99\n",
      "Episodes 23: Mean Reward: -10000.10, Critic Loss: 496886.7287, Policy Loss: 11.4424, Noise Sigma: 24.99\n"
     ]
    },
    {
     "ename": "KeyboardInterrupt",
     "evalue": "",
     "output_type": "error",
     "traceback": [
      "\u001B[31m---------------------------------------------------------------------------\u001B[39m",
      "\u001B[31mKeyboardInterrupt\u001B[39m                         Traceback (most recent call last)",
      "\u001B[36mCell\u001B[39m\u001B[36m \u001B[39m\u001B[32mIn[29]\u001B[39m\u001B[32m, line 1\u001B[39m\n\u001B[32m----> \u001B[39m\u001B[32m1\u001B[39m \u001B[43mtrain\u001B[49m\u001B[43m(\u001B[49m\n\u001B[32m      2\u001B[39m \u001B[43m    \u001B[49m\u001B[43mpolicy_model\u001B[49m\u001B[43m,\u001B[49m\n\u001B[32m      3\u001B[39m \u001B[43m    \u001B[49m\u001B[43mcritic_model\u001B[49m\u001B[43m,\u001B[49m\n\u001B[32m      4\u001B[39m \u001B[43m    \u001B[49m\u001B[43mpolicy_target\u001B[49m\u001B[43m,\u001B[49m\n\u001B[32m      5\u001B[39m \u001B[43m    \u001B[49m\u001B[43mcritic_target\u001B[49m\u001B[43m,\u001B[49m\n\u001B[32m      6\u001B[39m \u001B[43m    \u001B[49m\u001B[43moptimizer_policy\u001B[49m\u001B[43m,\u001B[49m\n\u001B[32m      7\u001B[39m \u001B[43m    \u001B[49m\u001B[43moptimizer_critic\u001B[49m\u001B[43m,\u001B[49m\n\u001B[32m      8\u001B[39m \u001B[43m    \u001B[49m\u001B[43mmemory\u001B[49m\u001B[43m,\u001B[49m\n\u001B[32m      9\u001B[39m \u001B[43m    \u001B[49m\u001B[43mepisodes\u001B[49m\u001B[43m=\u001B[49m\u001B[43m \u001B[49m\u001B[32;43m10000\u001B[39;49m\u001B[43m,\u001B[49m\n\u001B[32m     10\u001B[39m \u001B[43m    \u001B[49m\u001B[43mmax_steps\u001B[49m\u001B[43m \u001B[49m\u001B[43m=\u001B[49m\u001B[43m \u001B[49m\u001B[32;43m1000\u001B[39;49m\u001B[43m,\u001B[49m\n\u001B[32m     11\u001B[39m \u001B[43m    \u001B[49m\u001B[43mgamma\u001B[49m\u001B[43m \u001B[49m\u001B[43m=\u001B[49m\u001B[43m \u001B[49m\u001B[32;43m0.99\u001B[39;49m\u001B[43m,\u001B[49m\n\u001B[32m     12\u001B[39m \u001B[43m    \u001B[49m\u001B[43mtau\u001B[49m\u001B[43m \u001B[49m\u001B[43m=\u001B[49m\u001B[43m \u001B[49m\u001B[32;43m0.005\u001B[39;49m\u001B[43m)\u001B[49m\n",
      "\u001B[36mCell\u001B[39m\u001B[36m \u001B[39m\u001B[32mIn[27]\u001B[39m\u001B[32m, line 87\u001B[39m, in \u001B[36mtrain\u001B[39m\u001B[34m(policy, critic, policy_target, critic_target, optimizer_policy, optimizer_critic, memory, episodes, max_steps, gamma, tau, living_cost)\u001B[39m\n\u001B[32m     85\u001B[39m     \u001B[38;5;66;03m# Target updates\u001B[39;00m\n\u001B[32m     86\u001B[39m     soft_update(policy_target, policy, tau)\n\u001B[32m---> \u001B[39m\u001B[32m87\u001B[39m     \u001B[43msoft_update\u001B[49m\u001B[43m(\u001B[49m\u001B[43mcritic_target\u001B[49m\u001B[43m,\u001B[49m\u001B[43m \u001B[49m\u001B[43mcritic\u001B[49m\u001B[43m,\u001B[49m\u001B[43m \u001B[49m\u001B[43mtau\u001B[49m\u001B[43m)\u001B[49m\n\u001B[32m     89\u001B[39m \u001B[38;5;28;01mif\u001B[39;00m done:\n\u001B[32m     90\u001B[39m     \u001B[38;5;28;01mbreak\u001B[39;00m\n",
      "\u001B[36mFile \u001B[39m\u001B[32m~/projects/ml_portfolio/AIA/rl/pushT/trainer.py:71\u001B[39m, in \u001B[36msoft_update\u001B[39m\u001B[34m(target, source, tau)\u001B[39m\n\u001B[32m     69\u001B[39m \u001B[38;5;28;01mdef\u001B[39;00m\u001B[38;5;250m \u001B[39m\u001B[34msoft_update\u001B[39m(target, source, tau):\n\u001B[32m     70\u001B[39m     \u001B[38;5;28;01mfor\u001B[39;00m target_param, source_param \u001B[38;5;129;01min\u001B[39;00m \u001B[38;5;28mzip\u001B[39m(target.parameters(), source.parameters()):\n\u001B[32m---> \u001B[39m\u001B[32m71\u001B[39m         \u001B[43mtarget_param\u001B[49m\u001B[43m.\u001B[49m\u001B[43mdata\u001B[49m\u001B[43m.\u001B[49m\u001B[43mcopy_\u001B[49m\u001B[43m(\u001B[49m\n\u001B[32m     72\u001B[39m \u001B[43m            \u001B[49m\u001B[43mtau\u001B[49m\u001B[43m \u001B[49m\u001B[43m*\u001B[49m\u001B[43m \u001B[49m\u001B[43msource_param\u001B[49m\u001B[43m.\u001B[49m\u001B[43mdata\u001B[49m\u001B[43m \u001B[49m\u001B[43m+\u001B[49m\u001B[43m \u001B[49m\u001B[43m(\u001B[49m\u001B[32;43m1.0\u001B[39;49m\u001B[43m \u001B[49m\u001B[43m-\u001B[49m\u001B[43m \u001B[49m\u001B[43mtau\u001B[49m\u001B[43m)\u001B[49m\u001B[43m \u001B[49m\u001B[43m*\u001B[49m\u001B[43m \u001B[49m\u001B[43mtarget_param\u001B[49m\u001B[43m.\u001B[49m\u001B[43mdata\u001B[49m\n\u001B[32m     73\u001B[39m \u001B[43m        \u001B[49m\u001B[43m)\u001B[49m\n",
      "\u001B[31mKeyboardInterrupt\u001B[39m: "
     ]
    }
   ],
   "execution_count": 29
  },
  {
   "metadata": {},
   "cell_type": "code",
   "outputs": [],
   "execution_count": null,
   "source": [
    "test_env = make_env(render_mode=\"rgb_array\")\n",
    "\n",
    "state, _ = test_env.reset()\n",
    "\n",
    "for _ in range(50):\n",
    "    sleep(0.2)\n",
    "\n",
    "    input = torch.tensor(state, dtype=torch.float).to(compute_device) / 512.0\n",
    "\n",
    "    action = policy_model(input)\n",
    "\n",
    "    new_state, reward, terminated, truncated, _ = test_env.step(action)\n",
    "\n",
    "    state = new_state\n",
    "\n",
    "    # image = test_env.render()\n",
    "\n",
    "    if terminated or truncated:\n",
    "        observation, info = test_env.reset()\n",
    "\n",
    "test_env.close()"
   ],
   "id": "80048ddd1c6b3bc5"
  },
  {
   "metadata": {},
   "cell_type": "code",
   "outputs": [],
   "execution_count": null,
   "source": "test_env.close()",
   "id": "5e779b2cc96a5b37"
  },
  {
   "metadata": {},
   "cell_type": "code",
   "outputs": [],
   "execution_count": null,
   "source": "",
   "id": "f0e301aa608bf378"
  }
 ],
 "metadata": {
  "kernelspec": {
   "display_name": "Python 3",
   "language": "python",
   "name": "python3"
  },
  "language_info": {
   "codemirror_mode": {
    "name": "ipython",
    "version": 2
   },
   "file_extension": ".py",
   "mimetype": "text/x-python",
   "name": "python",
   "nbconvert_exporter": "python",
   "pygments_lexer": "ipython2",
   "version": "2.7.6"
  }
 },
 "nbformat": 4,
 "nbformat_minor": 5
}
