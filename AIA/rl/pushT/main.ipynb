{
 "cells": [
  {
   "metadata": {
    "ExecuteTime": {
     "end_time": "2025-04-11T18:39:01.859408Z",
     "start_time": "2025-04-11T18:39:01.840431Z"
    }
   },
   "cell_type": "code",
   "source": [
    "from time import sleep\n",
    "\n",
    "import torch\n",
    "\n",
    "device = torch.device('cuda' if torch.cuda.is_available() else 'mps')"
   ],
   "id": "8858c545aef378d4",
   "outputs": [],
   "execution_count": 41
  },
  {
   "metadata": {
    "ExecuteTime": {
     "end_time": "2025-04-11T17:18:16.771771Z",
     "start_time": "2025-04-11T17:18:16.763920Z"
    }
   },
   "cell_type": "code",
   "source": "torch.cuda.is_available()",
   "id": "a0613f77d6970844",
   "outputs": [
    {
     "data": {
      "text/plain": [
       "False"
      ]
     },
     "execution_count": 5,
     "metadata": {},
     "output_type": "execute_result"
    }
   ],
   "execution_count": 5
  },
  {
   "metadata": {},
   "cell_type": "markdown",
   "source": "# Env",
   "id": "86356765458d747a"
  },
  {
   "metadata": {
    "ExecuteTime": {
     "end_time": "2025-04-11T17:17:07.567093Z",
     "start_time": "2025-04-11T17:16:45.121244Z"
    }
   },
   "cell_type": "code",
   "source": [
    "import gymnasium as gym\n",
    "import gym_pusht\n",
    "from time import sleep\n",
    "\n",
    "env = gym.make(\"gym_pusht/PushT-v0\", render_mode=\"human\")\n",
    "observation, info = env.reset()\n",
    "\n",
    "for _ in range(1000):\n",
    "    sleep(0.2)\n",
    "    action = env.action_space.sample()\n",
    "    observation, reward, terminated, truncated, info = env.step(action)\n",
    "    image = env.render()\n",
    "\n",
    "    if terminated or truncated:\n",
    "        observation, info = env.reset()\n",
    "\n",
    "env.close()"
   ],
   "id": "ec79454c1f427403",
   "outputs": [
    {
     "ename": "KeyboardInterrupt",
     "evalue": "",
     "output_type": "error",
     "traceback": [
      "\u001B[31m---------------------------------------------------------------------------\u001B[39m",
      "\u001B[31mKeyboardInterrupt\u001B[39m                         Traceback (most recent call last)",
      "\u001B[36mCell\u001B[39m\u001B[36m \u001B[39m\u001B[32mIn[3]\u001B[39m\u001B[32m, line 9\u001B[39m\n\u001B[32m      6\u001B[39m observation, info = env.reset()\n\u001B[32m      8\u001B[39m \u001B[38;5;28;01mfor\u001B[39;00m _ \u001B[38;5;129;01min\u001B[39;00m \u001B[38;5;28mrange\u001B[39m(\u001B[32m1000\u001B[39m):\n\u001B[32m----> \u001B[39m\u001B[32m9\u001B[39m     \u001B[43msleep\u001B[49m\u001B[43m(\u001B[49m\u001B[32;43m0.2\u001B[39;49m\u001B[43m)\u001B[49m\n\u001B[32m     10\u001B[39m     action = env.action_space.sample()\n\u001B[32m     11\u001B[39m     observation, reward, terminated, truncated, info = env.step(action)\n",
      "\u001B[31mKeyboardInterrupt\u001B[39m: "
     ]
    }
   ],
   "execution_count": 3
  },
  {
   "metadata": {},
   "cell_type": "markdown",
   "source": [
    "Implement the deepq Learning to compete the task\n",
    "\n",
    "# Part 1: Numerical PushT state"
   ],
   "id": "e2c5fdb9d360c10d"
  },
  {
   "metadata": {},
   "cell_type": "markdown",
   "source": [
    "## Observation Space\n",
    "\n",
    "If obs_type is set to state, the observation space is a 5-dimensional vector representing the state of the environment: [agent_x, agent_y, block_x, block_y, block_angle]. The values are in the range [0, 512] for the agent and block positions and [0, 2*pi] for the block angle.\n",
    "\n",
    "If obs_type is set to environment_state_agent_pos the observation space is a dictionary with: - environment_state: 16-dimensional vector representing the keypoint locations of the T (in [x0, y0, x1, y1, ...] format). The values are in the range [0, 512]. - agent_pos: A 2-dimensional vector representing the position of the robot end-effector.\n",
    "\n",
    "If obs_type is set to pixels, the observation space is a 96x96 RGB image of the environment."
   ],
   "id": "bc5e6ca06d7cae1e"
  },
  {
   "metadata": {
    "ExecuteTime": {
     "end_time": "2025-04-11T17:19:32.831444Z",
     "start_time": "2025-04-11T17:19:32.828379Z"
    }
   },
   "cell_type": "code",
   "source": "env.observation_space",
   "id": "3532b284239d8319",
   "outputs": [
    {
     "data": {
      "text/plain": [
       "Box(0.0, [512.         512.         512.         512.           6.28318531], (5,), float64)"
      ]
     },
     "execution_count": 7,
     "metadata": {},
     "output_type": "execute_result"
    }
   ],
   "execution_count": 7
  },
  {
   "metadata": {
    "ExecuteTime": {
     "end_time": "2025-04-11T17:24:20.682349Z",
     "start_time": "2025-04-11T17:24:20.669471Z"
    }
   },
   "cell_type": "code",
   "source": [
    "from torch import nn\n",
    "import torch.nn.functional as F\n",
    "\n",
    "\n",
    "class Policy(nn.Module):\n",
    "    def __init__(self):\n",
    "        super(Policy, self).__init__()\n",
    "        self.fc1 = nn.Linear(env.observation_space.shape[0], 64)\n",
    "        self.fc2 = nn.Linear(64, 64)\n",
    "        self.fc3 = nn.Linear(64, 2)\n",
    "\n",
    "    def forward(self, x):\n",
    "        x = F.relu(self.fc1(x))\n",
    "        x = F.relu(self.fc2(x))\n",
    "        x = self.fc3(x)\n",
    "\n",
    "        return x"
   ],
   "id": "a922690350c34ee9",
   "outputs": [],
   "execution_count": 8
  },
  {
   "metadata": {
    "ExecuteTime": {
     "end_time": "2025-04-11T17:25:04.396409Z",
     "start_time": "2025-04-11T17:25:04.367944Z"
    }
   },
   "cell_type": "code",
   "source": "model = Policy()",
   "id": "507e7f6d6153081e",
   "outputs": [],
   "execution_count": 9
  },
  {
   "metadata": {
    "ExecuteTime": {
     "end_time": "2025-04-11T17:25:17.430420Z",
     "start_time": "2025-04-11T17:25:17.413592Z"
    }
   },
   "cell_type": "code",
   "source": [
    "input = torch.rand((4, 5))\n",
    "\n",
    "input"
   ],
   "id": "bd6bcbad5e249537",
   "outputs": [
    {
     "data": {
      "text/plain": [
       "tensor([[0.2108, 0.9965, 0.3429, 0.9719, 0.9332],\n",
       "        [0.4103, 0.7770, 0.1434, 0.5347, 0.0748],\n",
       "        [0.1812, 0.4294, 0.4721, 0.0404, 0.3892],\n",
       "        [0.4568, 0.0204, 0.9001, 0.9913, 0.1264]])"
      ]
     },
     "execution_count": 11,
     "metadata": {},
     "output_type": "execute_result"
    }
   ],
   "execution_count": 11
  },
  {
   "metadata": {
    "ExecuteTime": {
     "end_time": "2025-04-11T17:27:59.100572Z",
     "start_time": "2025-04-11T17:27:59.086514Z"
    }
   },
   "cell_type": "code",
   "source": [
    "output = model(input)\n",
    "\n",
    "\n",
    "print(output.shape)\n",
    "output.detach().numpy()"
   ],
   "id": "b0d3bf08af70bb2a",
   "outputs": [
    {
     "name": "stdout",
     "output_type": "stream",
     "text": [
      "torch.Size([4, 2])\n"
     ]
    },
    {
     "data": {
      "text/plain": [
       "array([[-0.13495661, -0.06345759],\n",
       "       [-0.1011354 , -0.05930006],\n",
       "       [-0.07766321, -0.01074107],\n",
       "       [-0.15807617, -0.0326845 ]], dtype=float32)"
      ]
     },
     "execution_count": 19,
     "metadata": {},
     "output_type": "execute_result"
    }
   ],
   "execution_count": 19
  },
  {
   "metadata": {},
   "cell_type": "code",
   "outputs": [],
   "execution_count": null,
   "source": [
    "def train_policy(policy_model, critic_model, input, optimizer):\n",
    "    optimizer.zero_grad()\n",
    "\n",
    "    input = input.to(device)\n",
    "\n",
    "    output = policy_model(input)\n",
    "\n",
    "    critic_input = torch.cat((input, output), dim=1)\n",
    "\n",
    "    score = critic_model(critic_input)\n",
    "\n",
    "    loss = -score\n",
    "\n",
    "    loss.backward()\n",
    "    optimizer.step()\n",
    "\n",
    "\n",
    "\n"
   ],
   "id": "bdc5333813bfea42"
  },
  {
   "metadata": {
    "ExecuteTime": {
     "end_time": "2025-04-11T18:23:03.389951Z",
     "start_time": "2025-04-11T18:23:03.383058Z"
    }
   },
   "cell_type": "code",
   "source": [
    "class Critic(nn.Module):\n",
    "    def __init__(self):\n",
    "        super(Critic, self).__init__()\n",
    "        self.fc1 = nn.Linear(env.observation_space.shape[0] + env.action_space.shape[0], 64)\n",
    "        self.fc2 = nn.Linear(64, 64)\n",
    "        self.fc3 = nn.Linear(64, 1)\n",
    "\n",
    "    def forward(self, x):\n",
    "        x = F.relu(self.fc1(x))\n",
    "        x = F.relu(self.fc2(x))\n",
    "        x = F.relu(self.fc3(x))\n",
    "\n",
    "        return x"
   ],
   "id": "db60648c4b319e90",
   "outputs": [],
   "execution_count": 38
  },
  {
   "metadata": {
    "ExecuteTime": {
     "end_time": "2025-04-11T18:23:03.827794Z",
     "start_time": "2025-04-11T18:23:03.823553Z"
    }
   },
   "cell_type": "code",
   "source": [
    "model = Critic()\n",
    "input = torch.rand((4, 7))\n",
    "\n",
    "input"
   ],
   "id": "1c6c3f6aa5c4a3c7",
   "outputs": [
    {
     "data": {
      "text/plain": [
       "tensor([[0.9377, 0.4040, 0.7157, 0.2446, 0.1419, 0.2018, 0.9670],\n",
       "        [0.9992, 0.8623, 0.5948, 0.7328, 0.3309, 0.3954, 0.7757],\n",
       "        [0.6086, 0.6243, 0.2879, 0.9788, 0.8896, 0.9508, 0.4953],\n",
       "        [0.3340, 0.2489, 0.5371, 0.2042, 0.8950, 0.6058, 0.4692]])"
      ]
     },
     "execution_count": 39,
     "metadata": {},
     "output_type": "execute_result"
    }
   ],
   "execution_count": 39
  },
  {
   "metadata": {
    "ExecuteTime": {
     "end_time": "2025-04-11T18:23:04.219379Z",
     "start_time": "2025-04-11T18:23:04.215555Z"
    }
   },
   "cell_type": "code",
   "source": [
    "output = model(input)\n",
    "\n",
    "\n",
    "print(output.shape)\n",
    "output.detach().numpy()"
   ],
   "id": "a1fcc2a9dcab25af",
   "outputs": [
    {
     "name": "stdout",
     "output_type": "stream",
     "text": [
      "torch.Size([4, 1])\n"
     ]
    },
    {
     "data": {
      "text/plain": [
       "array([[0.        ],\n",
       "       [0.00227321],\n",
       "       [0.        ],\n",
       "       [0.00089526]], dtype=float32)"
      ]
     },
     "execution_count": 40,
     "metadata": {},
     "output_type": "execute_result"
    }
   ],
   "execution_count": 40
  },
  {
   "metadata": {},
   "cell_type": "code",
   "outputs": [],
   "execution_count": null,
   "source": [
    "def train_critic(model, input, target, optimizer):\n",
    "    optimizer.zero_grad()\n",
    "    criterion = nn.MSELoss()\n",
    "\n",
    "    model.train()\n",
    "\n",
    "    input = input.to(device)\n",
    "\n",
    "    output = model(input)\n",
    "\n",
    "    loss = criterion(output, target)\n",
    "\n",
    "    loss.backward()\n",
    "    optimizer.step()\n"
   ],
   "id": "451971957e45a10c"
  },
  {
   "metadata": {},
   "cell_type": "code",
   "outputs": [],
   "execution_count": null,
   "source": [
    "import random\n",
    "\n",
    "class Memory:\n",
    "    def __init__(self, batch_size = 128):\n",
    "        self.items = []\n",
    "        self.batch_size = batch_size\n",
    "\n",
    "    def add(self, item):\n",
    "        self.items.append(item)\n",
    "\n",
    "    def sample(self):\n",
    "        return random.sample(self.items, self.batch_size)"
   ],
   "id": "8f5bbe5e16f29e23"
  },
  {
   "metadata": {
    "ExecuteTime": {
     "end_time": "2025-04-11T17:57:35.315882Z",
     "start_time": "2025-04-11T17:57:05.344108Z"
    }
   },
   "cell_type": "code",
   "source": [
    "def train(model, memory, episodes = 10000, max_steps = 1000):\n",
    "    env = gym.make(\"gym_pusht/PushT-v0\", obs_type=\"state\", render_mode=\"rgb_array\")\n",
    "\n",
    "    for ep in range(episodes):\n",
    "\n",
    "        state, info = env.reset()\n",
    "\n",
    "        for t in range(max_steps):\n",
    "\n",
    "            state = torch.stack([torch.from_numpy(state).float()])\n",
    "\n",
    "            action = model.forward(state)[0].detach().numpy()\n",
    "\n",
    "            new_state, reward, terminated, truncated, info = env.step(action)\n",
    "\n",
    "            sarsa = (state, action, reward, new_state)\n",
    "\n",
    "            memory.add(sarsa)\n",
    "\n",
    "\n",
    "            train_set = memory.sample()\n",
    "\n",
    "\n",
    "\n",
    "            if terminated or truncated:\n",
    "                observation, info = env.reset()\n",
    "\n",
    "\n",
    "train(model)\n"
   ],
   "id": "4ccea2a00387e61e",
   "outputs": [
    {
     "ename": "KeyboardInterrupt",
     "evalue": "",
     "output_type": "error",
     "traceback": [
      "\u001B[31m---------------------------------------------------------------------------\u001B[39m",
      "\u001B[31mKeyboardInterrupt\u001B[39m                         Traceback (most recent call last)",
      "\u001B[36mCell\u001B[39m\u001B[36m \u001B[39m\u001B[32mIn[24]\u001B[39m\u001B[32m, line 21\u001B[39m\n\u001B[32m     17\u001B[39m             \u001B[38;5;28;01mif\u001B[39;00m terminated \u001B[38;5;129;01mor\u001B[39;00m truncated:\n\u001B[32m     18\u001B[39m                 observation, info = env.reset()\n\u001B[32m---> \u001B[39m\u001B[32m21\u001B[39m \u001B[43mtrain\u001B[49m\u001B[43m(\u001B[49m\u001B[43mmodel\u001B[49m\u001B[43m)\u001B[49m\n",
      "\u001B[36mCell\u001B[39m\u001B[36m \u001B[39m\u001B[32mIn[24]\u001B[39m\u001B[32m, line 15\u001B[39m, in \u001B[36mtrain\u001B[39m\u001B[34m(model, episodes, max_steps)\u001B[39m\n\u001B[32m     12\u001B[39m action = model.forward(state)[\u001B[32m0\u001B[39m].detach().numpy()\n\u001B[32m     14\u001B[39m observation, reward, terminated, truncated, info = env.step(action)\n\u001B[32m---> \u001B[39m\u001B[32m15\u001B[39m image = \u001B[43menv\u001B[49m.render()\n\u001B[32m     17\u001B[39m \u001B[38;5;28;01mif\u001B[39;00m terminated \u001B[38;5;129;01mor\u001B[39;00m truncated:\n\u001B[32m     18\u001B[39m     observation, info = env.reset()\n",
      "\u001B[36mFile \u001B[39m\u001B[32m~/Applications/PyCharm Professional Edition.app/Contents/plugins/python-ce/helpers/pydev/_pydevd_bundle/pydevd_frame.py:888\u001B[39m, in \u001B[36mPyDBFrame.trace_dispatch\u001B[39m\u001B[34m(self, frame, event, arg)\u001B[39m\n\u001B[32m    885\u001B[39m             stop = \u001B[38;5;28;01mFalse\u001B[39;00m\n\u001B[32m    887\u001B[39m \u001B[38;5;28;01mif\u001B[39;00m plugin_stop:\n\u001B[32m--> \u001B[39m\u001B[32m888\u001B[39m     stopped_on_plugin = \u001B[43mplugin_manager\u001B[49m\u001B[43m.\u001B[49m\u001B[43mstop\u001B[49m\u001B[43m(\u001B[49m\u001B[43mmain_debugger\u001B[49m\u001B[43m,\u001B[49m\u001B[43m \u001B[49m\u001B[43mframe\u001B[49m\u001B[43m,\u001B[49m\u001B[43m \u001B[49m\u001B[43mevent\u001B[49m\u001B[43m,\u001B[49m\u001B[43m \u001B[49m\u001B[38;5;28;43mself\u001B[39;49m\u001B[43m.\u001B[49m\u001B[43m_args\u001B[49m\u001B[43m,\u001B[49m\u001B[43m \u001B[49m\u001B[43mstop_info\u001B[49m\u001B[43m,\u001B[49m\u001B[43m \u001B[49m\u001B[43marg\u001B[49m\u001B[43m,\u001B[49m\u001B[43m \u001B[49m\u001B[43mstep_cmd\u001B[49m\u001B[43m)\u001B[49m\n\u001B[32m    889\u001B[39m \u001B[38;5;28;01melif\u001B[39;00m stop:\n\u001B[32m    890\u001B[39m     \u001B[38;5;28;01mif\u001B[39;00m is_line:\n",
      "\u001B[36mFile \u001B[39m\u001B[32m~/Applications/PyCharm Professional Edition.app/Contents/plugins/python/helpers-pro/jupyter_debug/pydev_jupyter_plugin.py:169\u001B[39m, in \u001B[36mstop\u001B[39m\u001B[34m(plugin, pydb, frame, event, args, stop_info, arg, step_cmd)\u001B[39m\n\u001B[32m    167\u001B[39m     frame = suspend_jupyter(main_debugger, thread, frame, step_cmd)\n\u001B[32m    168\u001B[39m     \u001B[38;5;28;01mif\u001B[39;00m frame:\n\u001B[32m--> \u001B[39m\u001B[32m169\u001B[39m         \u001B[43mmain_debugger\u001B[49m\u001B[43m.\u001B[49m\u001B[43mdo_wait_suspend\u001B[49m\u001B[43m(\u001B[49m\u001B[43mthread\u001B[49m\u001B[43m,\u001B[49m\u001B[43m \u001B[49m\u001B[43mframe\u001B[49m\u001B[43m,\u001B[49m\u001B[43m \u001B[49m\u001B[43mevent\u001B[49m\u001B[43m,\u001B[49m\u001B[43m \u001B[49m\u001B[43marg\u001B[49m\u001B[43m)\u001B[49m\n\u001B[32m    170\u001B[39m         \u001B[38;5;28;01mreturn\u001B[39;00m \u001B[38;5;28;01mTrue\u001B[39;00m\n\u001B[32m    171\u001B[39m \u001B[38;5;28;01mreturn\u001B[39;00m \u001B[38;5;28;01mFalse\u001B[39;00m\n",
      "\u001B[36mFile \u001B[39m\u001B[32m~/Applications/PyCharm Professional Edition.app/Contents/plugins/python-ce/helpers/pydev/pydevd.py:1220\u001B[39m, in \u001B[36mPyDB.do_wait_suspend\u001B[39m\u001B[34m(self, thread, frame, event, arg, send_suspend_message, is_unhandled_exception)\u001B[39m\n\u001B[32m   1217\u001B[39m         from_this_thread.append(frame_id)\n\u001B[32m   1219\u001B[39m \u001B[38;5;28;01mwith\u001B[39;00m \u001B[38;5;28mself\u001B[39m._threads_suspended_single_notification.notify_thread_suspended(thread_id, stop_reason):\n\u001B[32m-> \u001B[39m\u001B[32m1220\u001B[39m     \u001B[38;5;28;43mself\u001B[39;49m\u001B[43m.\u001B[49m\u001B[43m_do_wait_suspend\u001B[49m\u001B[43m(\u001B[49m\u001B[43mthread\u001B[49m\u001B[43m,\u001B[49m\u001B[43m \u001B[49m\u001B[43mframe\u001B[49m\u001B[43m,\u001B[49m\u001B[43m \u001B[49m\u001B[43mevent\u001B[49m\u001B[43m,\u001B[49m\u001B[43m \u001B[49m\u001B[43marg\u001B[49m\u001B[43m,\u001B[49m\u001B[43m \u001B[49m\u001B[43msuspend_type\u001B[49m\u001B[43m,\u001B[49m\u001B[43m \u001B[49m\u001B[43mfrom_this_thread\u001B[49m\u001B[43m)\u001B[49m\n",
      "\u001B[36mFile \u001B[39m\u001B[32m~/Applications/PyCharm Professional Edition.app/Contents/plugins/python-ce/helpers/pydev/pydevd.py:1235\u001B[39m, in \u001B[36mPyDB._do_wait_suspend\u001B[39m\u001B[34m(self, thread, frame, event, arg, suspend_type, from_this_thread)\u001B[39m\n\u001B[32m   1232\u001B[39m             \u001B[38;5;28mself\u001B[39m._call_mpl_hook()\n\u001B[32m   1234\u001B[39m         \u001B[38;5;28mself\u001B[39m.process_internal_commands()\n\u001B[32m-> \u001B[39m\u001B[32m1235\u001B[39m         \u001B[43mtime\u001B[49m\u001B[43m.\u001B[49m\u001B[43msleep\u001B[49m\u001B[43m(\u001B[49m\u001B[32;43m0.01\u001B[39;49m\u001B[43m)\u001B[49m\n\u001B[32m   1237\u001B[39m \u001B[38;5;28mself\u001B[39m.cancel_async_evaluation(get_current_thread_id(thread), \u001B[38;5;28mstr\u001B[39m(\u001B[38;5;28mid\u001B[39m(frame)))\n\u001B[32m   1239\u001B[39m \u001B[38;5;66;03m# process any stepping instructions\u001B[39;00m\n",
      "\u001B[31mKeyboardInterrupt\u001B[39m: "
     ]
    }
   ],
   "execution_count": 24
  },
  {
   "metadata": {},
   "cell_type": "code",
   "outputs": [],
   "execution_count": null,
   "source": "",
   "id": "c12ed16288f2ae38"
  }
 ],
 "metadata": {
  "kernelspec": {
   "display_name": "Python 3",
   "language": "python",
   "name": "python3"
  },
  "language_info": {
   "codemirror_mode": {
    "name": "ipython",
    "version": 2
   },
   "file_extension": ".py",
   "mimetype": "text/x-python",
   "name": "python",
   "nbconvert_exporter": "python",
   "pygments_lexer": "ipython2",
   "version": "2.7.6"
  }
 },
 "nbformat": 4,
 "nbformat_minor": 5
}
