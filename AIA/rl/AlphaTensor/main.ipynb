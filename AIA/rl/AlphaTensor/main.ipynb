{
 "cells": [
  {
   "metadata": {
    "ExecuteTime": {
     "end_time": "2025-04-09T11:38:20.154308Z",
     "start_time": "2025-04-09T11:38:20.151905Z"
    }
   },
   "cell_type": "code",
   "source": [
    "import sys\n",
    "print(sys.executable)"
   ],
   "id": "17cab4cafa0a14bf",
   "outputs": [
    {
     "name": "stdout",
     "output_type": "stream",
     "text": [
      "/home/may33/miniconda3/envs/remote_env/bin/python\n"
     ]
    }
   ],
   "execution_count": 1
  },
  {
   "metadata": {
    "ExecuteTime": {
     "end_time": "2025-04-09T11:38:20.660906Z",
     "start_time": "2025-04-09T11:38:20.633856Z"
    }
   },
   "cell_type": "code",
   "source": "import numpy as np",
   "id": "cdb2e69e030c2009",
   "outputs": [],
   "execution_count": 2
  },
  {
   "metadata": {
    "ExecuteTime": {
     "end_time": "2025-04-09T11:38:20.873252Z",
     "start_time": "2025-04-09T11:38:20.870115Z"
    }
   },
   "cell_type": "code",
   "source": "np.arange(4)",
   "id": "b7a60dd0131d3620",
   "outputs": [
    {
     "data": {
      "text/plain": [
       "array([0, 1, 2, 3])"
      ]
     },
     "execution_count": 3,
     "metadata": {},
     "output_type": "execute_result"
    }
   ],
   "execution_count": 3
  },
  {
   "cell_type": "code",
   "id": "initial_id",
   "metadata": {
    "collapsed": true,
    "ExecuteTime": {
     "end_time": "2025-04-09T11:38:21.757808Z",
     "start_time": "2025-04-09T11:38:21.146548Z"
    }
   },
   "source": "import torch",
   "outputs": [],
   "execution_count": 4
  },
  {
   "metadata": {
    "ExecuteTime": {
     "end_time": "2025-04-09T11:38:22.138965Z",
     "start_time": "2025-04-09T11:38:22.097182Z"
    }
   },
   "cell_type": "code",
   "source": "torch.cuda.is_available()",
   "id": "8a208edd24c1e7fa",
   "outputs": [
    {
     "data": {
      "text/plain": [
       "True"
      ]
     },
     "execution_count": 5,
     "metadata": {},
     "output_type": "execute_result"
    }
   ],
   "execution_count": 5
  },
  {
   "metadata": {},
   "cell_type": "code",
   "outputs": [],
   "execution_count": null,
   "source": "",
   "id": "1aabe8e9cb09f909"
  }
 ],
 "metadata": {
  "kernelspec": {
   "display_name": "Python 3",
   "language": "python",
   "name": "python3"
  },
  "language_info": {
   "codemirror_mode": {
    "name": "ipython",
    "version": 2
   },
   "file_extension": ".py",
   "mimetype": "text/x-python",
   "name": "python",
   "nbconvert_exporter": "python",
   "pygments_lexer": "ipython2",
   "version": "2.7.6"
  }
 },
 "nbformat": 4,
 "nbformat_minor": 5
}
