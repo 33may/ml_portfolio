{
 "cells": [
  {
   "cell_type": "code",
   "id": "edf6ec4df437fecf",
   "metadata": {
    "ExecuteTime": {
     "end_time": "2025-04-09T18:57:10.294103Z",
     "start_time": "2025-04-09T18:57:10.284567Z"
    }
   },
   "source": [
    "from AIA.rl.AlphaTensor.dataset.dataset import generate_synthetic_dataset\n",
    "\n",
    "%load_ext autoreload\n",
    "%autoreload 2"
   ],
   "outputs": [
    {
     "name": "stdout",
     "output_type": "stream",
     "text": [
      "The autoreload extension is already loaded. To reload it, use:\n",
      "  %reload_ext autoreload\n"
     ]
    }
   ],
   "execution_count": 55
  },
  {
   "metadata": {
    "collapsed": true,
    "ExecuteTime": {
     "end_time": "2025-04-09T18:57:11.412087Z",
     "start_time": "2025-04-09T18:57:11.001660Z"
    }
   },
   "cell_type": "code",
   "source": "dataset = generate_synthetic_dataset(10000, save_to_file=False)",
   "id": "initial_id",
   "outputs": [],
   "execution_count": 56
  },
  {
   "metadata": {
    "ExecuteTime": {
     "end_time": "2025-04-09T18:57:12.250726Z",
     "start_time": "2025-04-09T18:57:12.231181Z"
    }
   },
   "cell_type": "code",
   "source": "dataset",
   "id": "aa0e7f0d4be5f67b",
   "outputs": [],
   "execution_count": 57
  },
  {
   "metadata": {
    "ExecuteTime": {
     "end_time": "2025-04-09T18:57:13.066108Z",
     "start_time": "2025-04-09T18:57:13.050390Z"
    }
   },
   "cell_type": "code",
   "source": "dataset.drop(\"actions\", axis=1, inplace=True)",
   "id": "7baef3d28bdc4baf",
   "outputs": [],
   "execution_count": 58
  },
  {
   "metadata": {
    "ExecuteTime": {
     "end_time": "2025-04-09T18:57:14.090288Z",
     "start_time": "2025-04-09T18:57:14.074431Z"
    }
   },
   "cell_type": "code",
   "source": "dataset",
   "id": "8790439e707bde99",
   "outputs": [],
   "execution_count": 59
  },
  {
   "metadata": {
    "ExecuteTime": {
     "end_time": "2025-04-09T18:57:14.449951Z",
     "start_time": "2025-04-09T18:57:14.440554Z"
    }
   },
   "cell_type": "code",
   "source": [
    "import torch\n",
    "from torch.utils.data import Dataset\n",
    "\n",
    "class TensorDataset3D(Dataset):\n",
    "    def __init__(self, data):\n",
    "        \"\"\"\n",
    "        data: list of (numpy_array [4,4,4], label)\n",
    "        \"\"\"\n",
    "        self.samples = []\n",
    "        for tensor, label in data:\n",
    "            t = torch.tensor(tensor, dtype=torch.float32)  # [4,4,4]\n",
    "            l = torch.tensor(label, dtype=torch.long)\n",
    "            self.samples.append((t, l))\n",
    "\n",
    "    def __len__(self):\n",
    "        return len(self.samples)\n",
    "\n",
    "    def __getitem__(self, idx):\n",
    "        return self.samples[idx]\n"
   ],
   "id": "aa98f2a468f83238",
   "outputs": [],
   "execution_count": 60
  },
  {
   "metadata": {
    "ExecuteTime": {
     "end_time": "2025-04-09T18:57:15.107677Z",
     "start_time": "2025-04-09T18:57:15.098553Z"
    }
   },
   "cell_type": "code",
   "source": [
    "import ast\n",
    "import numpy as np\n",
    "\n",
    "def parse_tensor(tensor_str):\n",
    "    return np.array(ast.literal_eval(tensor_str), dtype=np.float32)"
   ],
   "id": "120c040310c56739",
   "outputs": [],
   "execution_count": 61
  },
  {
   "metadata": {
    "ExecuteTime": {
     "end_time": "2025-04-09T18:57:15.527357Z",
     "start_time": "2025-04-09T18:57:15.508052Z"
    }
   },
   "cell_type": "code",
   "source": [
    "raw_data = [\n",
    "    (tensor.astype(np.float32), int(label))\n",
    "    for tensor, label in zip(dataset[\"tensor\"], dataset[\"value\"])\n",
    "]"
   ],
   "id": "a84d6ad7798e9652",
   "outputs": [],
   "execution_count": 62
  },
  {
   "metadata": {
    "ExecuteTime": {
     "end_time": "2025-04-09T18:57:15.927446Z",
     "start_time": "2025-04-09T18:57:15.917891Z"
    }
   },
   "cell_type": "code",
   "source": "raw_data[0][0]",
   "id": "3cdf15169c4fd567",
   "outputs": [],
   "execution_count": 63
  },
  {
   "metadata": {
    "ExecuteTime": {
     "end_time": "2025-04-09T18:57:16.407286Z",
     "start_time": "2025-04-09T18:57:16.326955Z"
    }
   },
   "cell_type": "code",
   "source": [
    "from AIA.rl.AlphaTensor.net.network import Torso, ValueHead\n",
    "\n",
    "tensor_dataset = TensorDataset3D(raw_data)"
   ],
   "id": "bab470285974dd35",
   "outputs": [],
   "execution_count": 64
  },
  {
   "metadata": {
    "ExecuteTime": {
     "end_time": "2025-04-09T18:57:16.515875Z",
     "start_time": "2025-04-09T18:57:16.506056Z"
    }
   },
   "cell_type": "code",
   "source": [
    "from torch.utils.data import DataLoader\n",
    "loader = DataLoader(tensor_dataset, batch_size=16, shuffle=True)"
   ],
   "id": "421449eb81719ba7",
   "outputs": [],
   "execution_count": 65
  },
  {
   "metadata": {
    "ExecuteTime": {
     "end_time": "2025-04-09T18:57:17.052651Z",
     "start_time": "2025-04-09T18:57:17.043798Z"
    }
   },
   "cell_type": "code",
   "source": [
    "import torch.nn as nn\n",
    "import torch.optim as optim"
   ],
   "id": "9c279712d95e0c63",
   "outputs": [],
   "execution_count": 66
  },
  {
   "metadata": {
    "ExecuteTime": {
     "end_time": "2025-04-09T18:57:17.569893Z",
     "start_time": "2025-04-09T18:57:17.557283Z"
    }
   },
   "cell_type": "code",
   "source": [
    "model_torso = Torso(scalar_size=0)\n",
    "model_value = ValueHead()\n",
    "\n",
    "# Перемести на GPU если есть\n",
    "device = torch.device(\"cuda\" if torch.cuda.is_available() else \"cpu\")\n",
    "model_torso.to(device)\n",
    "model_value.to(device)\n",
    "\n",
    "# Loss: регрессия → MSELoss\n",
    "criterion = nn.MSELoss()\n",
    "\n",
    "# Optimizer: можно общий\n",
    "params = list(model_torso.parameters()) + list(model_value.parameters())\n",
    "optimizer = optim.Adam(params, lr=1e-3)\n"
   ],
   "id": "b1060034b4a1935",
   "outputs": [],
   "execution_count": 67
  },
  {
   "metadata": {
    "ExecuteTime": {
     "end_time": "2025-04-09T18:58:42.190990Z",
     "start_time": "2025-04-09T18:57:17.775009Z"
    }
   },
   "cell_type": "code",
   "source": [
    "epochs = 100\n",
    "\n",
    "for epoch in range(epochs):\n",
    "    model_torso.train()\n",
    "    model_value.train()\n",
    "\n",
    "    total_loss = 0.0\n",
    "\n",
    "    for x_batch, y_batch in loader:\n",
    "        x_batch = x_batch.to(device)          # [B, 4,4,4]\n",
    "        y_batch = y_batch.float().to(device)  # [B]\n",
    "\n",
    "        # reshape: [B, 64]\n",
    "        input_flat = x_batch.reshape(-1, 4 * 4 * 4)\n",
    "\n",
    "        # forward pass\n",
    "        emb = model_torso(input_flat)  # [B, hidden_dim]\n",
    "        out = model_value(emb)         # [B], после squeeze\n",
    "\n",
    "        # loss\n",
    "        loss = criterion(out, y_batch)\n",
    "\n",
    "        # backward\n",
    "        optimizer.zero_grad()\n",
    "        loss.backward()\n",
    "        optimizer.step()\n",
    "\n",
    "        total_loss += loss.item() * x_batch.size(0)\n",
    "\n",
    "    avg_loss = total_loss / len(loader.dataset)\n",
    "    print(f\"Epoch {epoch+1}: loss = {avg_loss:.4f}\")"
   ],
   "id": "13a47cd516fdb8c9",
   "outputs": [
    {
     "name": "stdout",
     "output_type": "stream",
     "text": [
      "Epoch 1: loss = 2.1583\n",
      "Epoch 2: loss = 1.6185\n",
      "Epoch 3: loss = 1.4410\n",
      "Epoch 4: loss = 1.2902\n",
      "Epoch 5: loss = 1.0963\n",
      "Epoch 6: loss = 0.9587\n",
      "Epoch 7: loss = 0.8215\n",
      "Epoch 8: loss = 0.7309\n",
      "Epoch 9: loss = 0.6658\n",
      "Epoch 10: loss = 0.6215\n",
      "Epoch 11: loss = 0.5633\n",
      "Epoch 12: loss = 0.5321\n",
      "Epoch 13: loss = 0.5149\n",
      "Epoch 14: loss = 0.4916\n",
      "Epoch 15: loss = 0.4690\n",
      "Epoch 16: loss = 0.4543\n",
      "Epoch 17: loss = 0.4253\n",
      "Epoch 18: loss = 0.4213\n",
      "Epoch 19: loss = 0.4101\n",
      "Epoch 20: loss = 0.3869\n",
      "Epoch 21: loss = 0.3820\n",
      "Epoch 22: loss = 0.3746\n",
      "Epoch 23: loss = 0.3559\n",
      "Epoch 24: loss = 0.3546\n",
      "Epoch 25: loss = 0.3443\n",
      "Epoch 26: loss = 0.3422\n",
      "Epoch 27: loss = 0.3305\n",
      "Epoch 28: loss = 0.3263\n",
      "Epoch 29: loss = 0.3224\n",
      "Epoch 30: loss = 0.3144\n",
      "Epoch 31: loss = 0.3115\n",
      "Epoch 32: loss = 0.3066\n",
      "Epoch 33: loss = 0.3027\n",
      "Epoch 34: loss = 0.2963\n",
      "Epoch 35: loss = 0.2971\n",
      "Epoch 36: loss = 0.2915\n",
      "Epoch 37: loss = 0.2917\n",
      "Epoch 38: loss = 0.2809\n",
      "Epoch 39: loss = 0.2828\n",
      "Epoch 40: loss = 0.2803\n",
      "Epoch 41: loss = 0.2778\n",
      "Epoch 42: loss = 0.2737\n",
      "Epoch 43: loss = 0.2703\n",
      "Epoch 44: loss = 0.2669\n",
      "Epoch 45: loss = 0.2644\n",
      "Epoch 46: loss = 0.2610\n",
      "Epoch 47: loss = 0.2595\n",
      "Epoch 48: loss = 0.2613\n",
      "Epoch 49: loss = 0.2560\n",
      "Epoch 50: loss = 0.2545\n",
      "Epoch 51: loss = 0.2503\n",
      "Epoch 52: loss = 0.2549\n",
      "Epoch 53: loss = 0.2473\n",
      "Epoch 54: loss = 0.2450\n",
      "Epoch 55: loss = 0.2476\n",
      "Epoch 56: loss = 0.2432\n",
      "Epoch 57: loss = 0.2427\n",
      "Epoch 58: loss = 0.2437\n",
      "Epoch 59: loss = 0.2386\n",
      "Epoch 60: loss = 0.2404\n",
      "Epoch 61: loss = 0.2388\n",
      "Epoch 62: loss = 0.2337\n",
      "Epoch 63: loss = 0.2349\n",
      "Epoch 64: loss = 0.2333\n",
      "Epoch 65: loss = 0.2311\n",
      "Epoch 66: loss = 0.2323\n",
      "Epoch 67: loss = 0.2269\n",
      "Epoch 68: loss = 0.2284\n",
      "Epoch 69: loss = 0.2307\n",
      "Epoch 70: loss = 0.2287\n",
      "Epoch 71: loss = 0.2256\n",
      "Epoch 72: loss = 0.2243\n",
      "Epoch 73: loss = 0.2215\n",
      "Epoch 74: loss = 0.2227\n",
      "Epoch 75: loss = 0.2203\n",
      "Epoch 76: loss = 0.2223\n",
      "Epoch 77: loss = 0.2201\n",
      "Epoch 78: loss = 0.2181\n",
      "Epoch 79: loss = 0.2166\n",
      "Epoch 80: loss = 0.2173\n",
      "Epoch 81: loss = 0.2177\n",
      "Epoch 82: loss = 0.2156\n",
      "Epoch 83: loss = 0.2133\n",
      "Epoch 84: loss = 0.2134\n",
      "Epoch 85: loss = 0.2145\n",
      "Epoch 86: loss = 0.2132\n",
      "Epoch 87: loss = 0.2116\n",
      "Epoch 88: loss = 0.2119\n",
      "Epoch 89: loss = 0.2125\n",
      "Epoch 90: loss = 0.2099\n",
      "Epoch 91: loss = 0.2108\n",
      "Epoch 92: loss = 0.2092\n",
      "Epoch 93: loss = 0.2072\n",
      "Epoch 94: loss = 0.2068\n",
      "Epoch 95: loss = 0.2078\n",
      "Epoch 96: loss = 0.2064\n",
      "Epoch 97: loss = 0.2060\n",
      "Epoch 98: loss = 0.2055\n",
      "Epoch 99: loss = 0.2056\n",
      "Epoch 100: loss = 0.2053\n"
     ]
    }
   ],
   "execution_count": 68
  },
  {
   "metadata": {},
   "cell_type": "code",
   "source": "",
   "id": "6055005adaf9c6cf",
   "outputs": [],
   "execution_count": null
  }
 ],
 "metadata": {
  "kernelspec": {
   "display_name": "Python 3",
   "language": "python",
   "name": "python3"
  },
  "language_info": {
   "codemirror_mode": {
    "name": "ipython",
    "version": 2
   },
   "file_extension": ".py",
   "mimetype": "text/x-python",
   "name": "python",
   "nbconvert_exporter": "python",
   "pygments_lexer": "ipython2",
   "version": "2.7.6"
  }
 },
 "nbformat": 4,
 "nbformat_minor": 5
}
