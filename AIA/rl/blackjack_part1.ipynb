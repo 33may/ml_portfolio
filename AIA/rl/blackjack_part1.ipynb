{
 "cells": [
  {
   "metadata": {},
   "cell_type": "markdown",
   "source": [
    "# RL Part 1\n",
    "\n",
    "In this assignment I will experiment with basic ideas of Reinforcement Learning, I will design environment and use Q-learning to obtain agent policy. The goal of this task it to remind about Q-Learning ideas, Bellman Equations, rewards engineering and other tricks in RL."
   ],
   "id": "e27a4b16198a089"
  },
  {
   "metadata": {},
   "cell_type": "markdown",
   "source": "",
   "id": "3e5eb51ff4e55de6"
  },
  {
   "metadata": {
    "ExecuteTime": {
     "end_time": "2025-03-26T09:26:14.021467Z",
     "start_time": "2025-03-26T09:26:13.994832Z"
    }
   },
   "cell_type": "code",
   "source": [
    "import numpy as np\n",
    "import random"
   ],
   "id": "ab2fb83a8cae4071",
   "outputs": [],
   "execution_count": 5
  },
  {
   "metadata": {
    "ExecuteTime": {
     "end_time": "2025-03-26T09:22:09.170246Z",
     "start_time": "2025-03-26T09:22:09.161486Z"
    }
   },
   "cell_type": "code",
   "source": [
    "cards = [\"2\",\"3\",\"4\",\"5\",\"6\",'7',\"8\",\"9\",\"10\",\"J\",\"Q\",\"K\",\"A\"]\n",
    "weights = np.ones(len(cards))/len(cards)"
   ],
   "id": "1bcc141e7a78dc34",
   "outputs": [],
   "execution_count": 4
  },
  {
   "metadata": {},
   "cell_type": "markdown",
   "source": [
    "## State\n",
    "\n",
    "\n",
    "- agent sum\n",
    "- dealer sum\n",
    "- use ace"
   ],
   "id": "3a2c288722e04753"
  },
  {
   "metadata": {},
   "cell_type": "code",
   "outputs": [],
   "execution_count": null,
   "source": [
    "class Blackjack:\n",
    "    def __init__(self):\n"
   ],
   "id": "6893c7db17278dd8"
  },
  {
   "metadata": {},
   "cell_type": "code",
   "outputs": [],
   "execution_count": null,
   "source": [
    "class Agent:\n",
    "    def __init__(self):\n",
    "        self.q_table = np.zeros([29, 29, 2 ,2]) # (agent_sum, dealer_sum, use_ace, actions)"
   ],
   "id": "768f48f587a34620"
  }
 ],
 "metadata": {
  "kernelspec": {
   "display_name": "Python 3",
   "language": "python",
   "name": "python3"
  },
  "language_info": {
   "codemirror_mode": {
    "name": "ipython",
    "version": 2
   },
   "file_extension": ".py",
   "mimetype": "text/x-python",
   "name": "python",
   "nbconvert_exporter": "python",
   "pygments_lexer": "ipython2",
   "version": "2.7.6"
  }
 },
 "nbformat": 4,
 "nbformat_minor": 5
}
